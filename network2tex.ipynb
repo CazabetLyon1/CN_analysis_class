{
  "nbformat": 4,
  "nbformat_minor": 0,
  "metadata": {
    "colab": {
      "name": "network2tex.ipynb",
      "provenance": [],
      "collapsed_sections": [],
      "authorship_tag": "ABX9TyMpYvsOz5Pnm7OM2qzeYITr",
      "include_colab_link": true
    },
    "kernelspec": {
      "name": "python3",
      "display_name": "Python 3"
    }
  },
  "cells": [
    {
      "cell_type": "markdown",
      "metadata": {
        "id": "view-in-github",
        "colab_type": "text"
      },
      "source": [
        "<a href=\"https://colab.research.google.com/github/CazabetLyon1/CN_analysis_class/blob/master/network2tex.ipynb\" target=\"_parent\"><img src=\"https://colab.research.google.com/assets/colab-badge.svg\" alt=\"Open In Colab\"/></a>"
      ]
    },
    {
      "cell_type": "code",
      "metadata": {
        "id": "LUhZHMmaCXI8",
        "colab_type": "code",
        "colab": {
          "base_uri": "https://localhost:8080/",
          "height": 408
        },
        "outputId": "e67ce5fd-4dd0-4266-f7b8-66b8a140056a"
      },
      "source": [
        "!pip install network2tikz\n",
        "!pip install array_to_latex"
      ],
      "execution_count": 41,
      "outputs": [
        {
          "output_type": "stream",
          "text": [
            "Requirement already satisfied: network2tikz in /usr/local/lib/python3.6/dist-packages (0.1.8)\n",
            "Requirement already satisfied: numpy in /usr/local/lib/python3.6/dist-packages (from network2tikz) (1.18.5)\n",
            "Collecting array_to_latex\n",
            "  Downloading https://files.pythonhosted.org/packages/6d/74/11c8beefc62b954246b806f712952dfae7561bc8301606ca043f85a2e0db/array_to_latex-0.82-py3-none-any.whl\n",
            "Collecting clipboard\n",
            "  Downloading https://files.pythonhosted.org/packages/8a/38/17f3885713d0f39994563029942b1d31c93d4e56d80da505abfbfb3a3bc4/clipboard-0.0.4.tar.gz\n",
            "Requirement already satisfied: pandas in /usr/local/lib/python3.6/dist-packages (from array_to_latex) (1.0.5)\n",
            "Requirement already satisfied: numpy in /usr/local/lib/python3.6/dist-packages (from array_to_latex) (1.18.5)\n",
            "Collecting pyperclip>=1.3\n",
            "  Downloading https://files.pythonhosted.org/packages/f6/5b/55866e1cde0f86f5eec59dab5de8a66628cb0d53da74b8dbc15ad8dabda3/pyperclip-1.8.0.tar.gz\n",
            "Requirement already satisfied: python-dateutil>=2.6.1 in /usr/local/lib/python3.6/dist-packages (from pandas->array_to_latex) (2.8.1)\n",
            "Requirement already satisfied: pytz>=2017.2 in /usr/local/lib/python3.6/dist-packages (from pandas->array_to_latex) (2018.9)\n",
            "Requirement already satisfied: six>=1.5 in /usr/local/lib/python3.6/dist-packages (from python-dateutil>=2.6.1->pandas->array_to_latex) (1.15.0)\n",
            "Building wheels for collected packages: clipboard, pyperclip\n",
            "  Building wheel for clipboard (setup.py) ... \u001b[?25l\u001b[?25hdone\n",
            "  Created wheel for clipboard: filename=clipboard-0.0.4-cp36-none-any.whl size=1851 sha256=ebb3cf01711cee46c5a0b917fc582a73f0fdf785f9228ed8e349be26567169e9\n",
            "  Stored in directory: /root/.cache/pip/wheels/a9/1b/ee/c8a41d3052443c52881cd75d0f3621d70bfd4894ea6e4ef6e7\n",
            "  Building wheel for pyperclip (setup.py) ... \u001b[?25l\u001b[?25hdone\n",
            "  Created wheel for pyperclip: filename=pyperclip-1.8.0-cp36-none-any.whl size=8693 sha256=c3f7c7351967d5564458af7c96dbe3a6af4da2f01e29bf66cec550b970713171\n",
            "  Stored in directory: /root/.cache/pip/wheels/b2/ac/0a/b784f0afe26eaf52e88a7e15c7369090deea0354fa1c6fc689\n",
            "Successfully built clipboard pyperclip\n",
            "Installing collected packages: pyperclip, clipboard, array-to-latex\n",
            "Successfully installed array-to-latex-0.82 clipboard-0.0.4 pyperclip-1.8.0\n"
          ],
          "name": "stdout"
        }
      ]
    },
    {
      "cell_type": "code",
      "metadata": {
        "id": "7uOiJ_KhCdvA",
        "colab_type": "code",
        "colab": {}
      },
      "source": [
        "import networkx as nx\n",
        "from network2tikz import plot\n",
        "import array_to_latex as a2l\n",
        "import numpy as np"
      ],
      "execution_count": 42,
      "outputs": []
    },
    {
      "cell_type": "code",
      "metadata": {
        "id": "Sf3HlZa0CaDy",
        "colab_type": "code",
        "colab": {
          "base_uri": "https://localhost:8080/",
          "height": 248
        },
        "outputId": "7d227008-493a-41e1-8df8-bbac3254081f"
      },
      "source": [
        "g = nx.Graph()\n",
        "g.add_edge(0,1)\n",
        "g.add_edge(0,5)\n",
        "g.add_edge(0,4)\n",
        "g.add_edge(4,5)\n",
        "\n",
        "g.add_edge(1,2)\n",
        "g.add_edge(1,2)\n",
        "g.add_edge(2,3)\n",
        "g.add_edge(3,1)\n",
        "g.add_edge(1,4)\n",
        "g.add_edge(1,5)\n",
        "g.add_edge(4,4)\n",
        "\n",
        "\n",
        "\n",
        "pos = nx.spring_layout(g,iterations=100)\n",
        "nx.draw_networkx(g,pos=pos)"
      ],
      "execution_count": 43,
      "outputs": [
        {
          "output_type": "display_data",
          "data": {
            "image/png": "[encoded data removed]",
            "text/plain": [
              "<Figure size 432x288 with 1 Axes>"
            ]
          },
          "metadata": {
            "tags": []
          }
        }
      ]
    },
    {
      "cell_type": "code",
      "metadata": {
        "id": "hgejC0I5Cme_",
        "colab_type": "code",
        "colab": {}
      },
      "source": [
        "style = {}\n",
        "style['node_opacity'] = .8\n",
        "style['vertex_size'] = 0.3\n",
        "style['vertex_label'] = [x+1 for x in g.nodes()]\n",
        "style[\"units\"]=\"pt\"\n",
        "plot(g,\"k.tex\",layout=pos,**style)\n"
      ],
      "execution_count": 63,
      "outputs": []
    },
    {
      "cell_type": "code",
      "metadata": {
        "id": "1VivX_YxC14z",
        "colab_type": "code",
        "colab": {
          "base_uri": "https://localhost:8080/",
          "height": 153
        },
        "outputId": "6952660a-5b5e-4ab1-b2f4-342c42d09bc1"
      },
      "source": [
        "A = nx.to_numpy_matrix(g)\n",
        "a2l.to_ltx(A, frmt=\"{:0.0f}\",arraytype = 'pmatrix')"
      ],
      "execution_count": 54,
      "outputs": [
        {
          "output_type": "stream",
          "text": [
            "\\begin{vmatrix}\n",
            "  0  &  1  &  1  &  1  &  0  &  0 \\\\\n",
            "  1  &  0  &  1  &  1  &  1  &  1 \\\\\n",
            "  1  &  1  &  0  &  1  &  0  &  0 \\\\\n",
            "  1  &  1  &  1  &  1  &  0  &  0 \\\\\n",
            "  0  &  1  &  0  &  0  &  0  &  1 \\\\\n",
            "  0  &  1  &  0  &  0  &  1  &  0 \n",
            "\\end{vmatrix}\n"
          ],
          "name": "stdout"
        }
      ]
    },
    {
      "cell_type": "code",
      "metadata": {
        "id": "zJok-8UAG4PG",
        "colab_type": "code",
        "colab": {
          "base_uri": "https://localhost:8080/",
          "height": 119
        },
        "outputId": "0c8e46d9-6818-4a63-f1eb-b7830f74bdbb"
      },
      "source": [
        "A"
      ],
      "execution_count": 50,
      "outputs": [
        {
          "output_type": "execute_result",
          "data": {
            "text/plain": [
              "matrix([[0., 1., 1., 1., 0., 0.],\n",
              "        [1., 0., 1., 1., 1., 1.],\n",
              "        [1., 1., 0., 1., 0., 0.],\n",
              "        [1., 1., 1., 1., 0., 0.],\n",
              "        [0., 1., 0., 0., 0., 1.],\n",
              "        [0., 1., 0., 0., 1., 0.]])"
            ]
          },
          "metadata": {
            "tags": []
          },
          "execution_count": 50
        }
      ]
    },
    {
      "cell_type": "code",
      "metadata": {
        "id": "a8PPifI9JB_A",
        "colab_type": "code",
        "colab": {
          "base_uri": "https://localhost:8080/",
          "height": 187
        },
        "outputId": "1a024725-5e74-448e-df43-1c0d675041a2"
      },
      "source": [
        "list(g.edges())"
      ],
      "execution_count": 64,
      "outputs": [
        {
          "output_type": "execute_result",
          "data": {
            "text/plain": [
              "[(0, 1),\n",
              " (0, 5),\n",
              " (0, 4),\n",
              " (1, 2),\n",
              " (1, 3),\n",
              " (1, 4),\n",
              " (1, 5),\n",
              " (5, 4),\n",
              " (4, 4),\n",
              " (2, 3)]"
            ]
          },
          "metadata": {
            "tags": []
          },
          "execution_count": 64
        }
      ]
    },
    {
      "cell_type": "code",
      "metadata": {
        "id": "wZdWrKrwdf9H",
        "colab_type": "code",
        "colab": {}
      },
      "source": [
        ""
      ],
      "execution_count": null,
      "outputs": []
    }
  ]
}