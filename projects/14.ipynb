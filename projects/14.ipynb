{
  "cells": [
    {
      "cell_type": "markdown",
      "source": [
        "In this paper, we will attempt to figure out the structure of a marine food web of the Carribean Sea. The data come courtesy of web of life,http://www.web-of-life.es/map.php?type=6 an ecological network database, and has been used in the 2005 paper Interaction strength combinations and the overfishing of a marine food web by Bascompte et al. https://www.pnas.org/content/102/15/5443\n",
        "The network summarize the trophic interactions of the members of a tropical marine ecosystem, including detritus, fishes, sharks, and producers such as benthic algea and phytoplankton: the members are vertices and the trophic interactions are summarized by weighted edges, the weights being the strength of the trophic interaction between a prey and its predator, estimated by measuring the proportion of prey biomass consumed per capita (per unit of biomass of the predator), per day. The predator is the target of this interaction and the prey, its source. The network is thus a directed, weighted graph, composed of 249 nodes and 3313 edges.\n",
        "Because we are primarily interested in the structure of the food web, we began by running a community detection algorithm, using the Gephy implementation which conveniently works on directed, weighted graphs.\n",
        "\n",
        "![Figure 1](https://i.imgur.com/IHrccIt.jpg)\n",
        "Figure 1: Visualisation of the food web and its communities. Node colors represents the seven communities that were identified, node size represents the weighted out-degree and edge size, the strength of the trophic interaction. The network layout has been computed using Force Atlas. Preys are the source of the edges, and predators the target.\n",
        "\n",
        "In Figure 1 we can see that seven communities has been observed. They are organized around one or more preys or prey groups (e.g. Gastropods, Microfauna, Shrimps...), which are the main food sources for the predator species of the community. Those key prey groups and species can be identified with their high weighted out-degree, which indicates that they are major sources of alimentation for many species.\n",
        "With a modularity of 0.447, the identified communities can explain a full half of the interactions.\n",
        "Indeed, if we contract and simplify the network by merging every nodes into its community, we observe that the large majorities of interactions are intra-communities:\n",
        "![Figure 2](https://i.imgur.com/Yab5f3i.png)\n",
        "Figure 2: Predation is mostly intra-community. Simplified graph depicting the identified communities and their interactions. Node size is weighted degree, edge width is interaction strength. Communities are named for their central prey species.\n",
        "\n",
        "Thus, although the food web is complex, it does have an underlying structure of communities, each composed of specialist species that feed on one particular type of prey almost exclusively. That makes it interesting to see which preys are grouped together: crabs and shrimps, for example, are both in the same community, indicating that there is significant overlap between the predators of both groups. Benthic autotrophs (ie sea-floor algea) and Detritus POM DOM (ie, dead organic matter) are also grouped, illustrating that bottom feeders feeding on dead matter on the sea floor often feed on benthic algea as well.\n",
        "\n",
        "The communities are not completely isolated though: notably, there are species feeding not directly on the prey groups at the center of the communities, but rather on the various predators of the communities. Those super-predators can easily be identified on the graph:\n",
        "![Figure 3](https://imgur.com/a/PETu5L1)\n",
        "Figure 3: Apex predators of the Carribean marine biome. Node size is in-degree, illustrating the broad spectrum of species  apex predators can consume. The graph layout is Force Atlas.\n",
        "\n",
        "On figure 3,  apex predators such as Galeocerdo cuvieri (the tiger shark) or Carcharhinus perezi, the Carribean reef shark have been pushed to the periphery of the graph by the Force Atlas algorithm, because of the many but weak trophic ties with its prey species: apex predators consume very diverse species, and do not focus on any particular one, so the individual trophic interactions are weak. \n",
        "![Figure 4](https://i.imgur.com/7Xr5d6P.jpg)\n",
        "Figure 4: Apex predators have high closeness. Node size is proportional to closeness centrality. The algorithm used is undirected and unweighted.\n",
        "\n",
        "On figure 4, closeness centrality is evaluted for the species of the food web. Apex predator species have relatively higher closeness, reflecting the large number of species they can directly affect. This give them a disproportionate impact on their ecosystem: a variation in their population size will have a strong effect on every member of the food web as they are close to every member. \n",
        "![Figure 5](https://i.imgur.com/vJguYmx.jpg)\n",
        "Figure 5: Repartition of betweenness centrality. Galeocerdo cuvieri and Aetobatus narinari are the tiger shark and the spotted eagle ray, respectively. Node size is proportional to betweeness centrality. The three communities are centred on bottom feeders or benthivore (green), pelagic species (orange) and benthic species (violet).\n",
        "\n",
        "In conclusion, the food wed can be simplified for modelization purposes in the following way:\n",
        "![Figure 6](https://i.imgur.com/0qOopQh.png)\n",
        "This could help to better understand the consequences of overfishing on the larger ecosystem.\n",
        "\n",
        "Most of this was realized in igraph then exported out to gephy for visualization. See below for code annexes."
      ],
      "metadata": {}
    },
    {
      "cell_type": "code",
      "source": [
        "import pandas as pd\n",
        "file = pd.read_excel(r'C:\\Users\\solal\\Desktop\\web-of-life_2019-12-07_155048\\FW_008.xls')\n",
        "import numpy as np\n",
        "import networkx as nx\n",
        "import matplotlib.pyplot as plt\n",
        "file=np.matrix(file)\n",
        "G = nx.DiGraph()\n",
        "for i in range(1,len(file)):\n",
        "    for j in range(1,len(file)):\n",
        "        if file[i,j]!=0.:\n",
        "            G.add_edge(file[i,0], file[j,0],weight=file[i,j])\n",
        "import igraph as ig\n",
        "nx.write_graphml(G,'graph.graphml') # Export NX graph to file\n",
        "Gix = ig.read('graph.graphml',format=\"graphml\") # Create new IG graph from file"
      ],
      "outputs": [],
      "execution_count": 1,
      "metadata": {}
    },
    {
      "cell_type": "code",
      "source": [
        "Gix = ig.read('C:/Users/solal/Documents/Untitled.graphml',format=\"graphml\") # Create new IG graph from file\n",
        "L=[]\n",
        "for i in Gix.vs:#to combine the graph into communities\n",
        "    if i['Modularity Class']==0:\n",
        "        i['label']=\"Microfauna community\"\n",
        "        L.append(0)\n",
        "    if i['Modularity Class']==1:\n",
        "        L.append(1)\n",
        "        i['label']=\"Gastropods, Bivalvs, Echinoids, Isopods community\"\n",
        "    if i['Modularity Class']==2:\n",
        "        L.append(2)\n",
        "        i['label']=\"Crabs, Shrimps community\"\n",
        "    if i['Modularity Class']==3:\n",
        "        L.append(3)\n",
        "        i['label']=\"Benthic autotrophs, detritus community\"\n",
        "    if i['Modularity Class']==4:\n",
        "        L.append(4)\n",
        "        i['label']=\"Sponges, Symbiotic algea, Sea anemones community\"\n",
        "    if i['Modularity Class']==5:\n",
        "        L.append(5)\n",
        "        i['label']=\"Phytoplankton, Hyporhamphus unifasciatus communityy\"\n",
        "    if i['Modularity Class']==6:\n",
        "        L.append(6)\n",
        "        i['label']=\"Polychaetes community\"\n",
        "Gix.contract_vertices(L,combine_attrs={'label':'first'})\n",
        "del(Gix.es['Edge Label'])\n",
        "del(Gix.es['id'])\n",
        "Gix.simplify(loops=False,combine_edges=sum)\n",
        "ig.plot(Gix)\n",
        "Gix.write_graphml('C:/Users/solal/Documents/simplifiedGraph.graphml')"
      ],
      "outputs": [
        {
          "output_type": "stream",
          "name": "stdout",
          "text": [
            "[3, 0, 4, 4, 4, 6, 4, 5, 3, 1, 1, 6, 3, 3, 1, 2, 1, 1, 2, 5, 3, 2, 3, 4, 3, 3, 3, 5, 5, 3, 4, 2, 0, 3, 3, 3, 2, 3, 3, 6, 3, 2, 3, 3, 3, 2, 3, 0, 6, 3, 3, 3, 4, 3, 1, 1, 4, 6, 3, 4, 3, 4, 3, 1, 4, 0, 4, 3, 0, 3, 4, 4, 3, 3, 2, 2, 3, 2, 4, 4, 3, 6, 3, 3, 3, 3, 3, 3, 3, 3, 3, 3, 4, 4, 6, 6, 5, 0, 0, 0, 2, 2, 2, 0, 2, 0, 0, 0, 0, 2, 0, 0, 6, 6, 0, 0, 0, 0, 2, 3, 0, 0, 5, 2, 0, 2, 6, 0, 0, 0, 2, 2, 3, 2, 5, 0, 2, 6, 0, 2, 0, 0, 5, 0, 1, 0, 0, 2, 0, 5, 0, 0, 6, 1, 0, 0, 0, 0, 0, 1, 2, 1, 1, 2, 2, 2, 6, 2, 2, 2, 2, 6, 1, 2, 2, 2, 1, 2, 2, 1, 1, 2, 1, 1, 1, 2, 2, 2, 1, 2, 2, 5, 2, 1, 5, 1, 2, 2, 2, 0, 0, 0, 0, 0, 0, 2, 5, 2, 0, 3, 5, 2, 0, 2, 2, 2, 2, 3, 2, 2, 2, 2, 2, 2, 1, 2, 2, 2, 2, 2, 2, 2, 5, 5, 1, 1, 0, 2, 3, 2, 0, 0, 0, 3, 5, 6, 6, 5, 0]\n"
          ]
        },
        {
          "output_type": "stream",
          "name": "stderr",
          "text": [
            "c:\\users\\solal\\appdata\\local\\programs\\python\\python37\\lib\\site-packages\\igraph\\__init__.py:2223: RuntimeWarning: Could not add vertex ids, there is already an 'id' vertex attribute at d:\\build\\igraph\\igraph-vtraag\\igraph-0.7.1+5.3b99dbf6-msvc\\src\\foreign-graphml.c:443\n",
            "  return reader(f, *args, **kwds)\n"
          ]
        },
        {
          "output_type": "execute_result",
          "execution_count": 11,
          "data": {
            "text/plain": [
              "'IGRAPH D-W- 7 48 -- \\n+ attr: label (v), weight (e)'"
            ]
          },
          "metadata": {}
        }
      ],
      "execution_count": 11,
      "metadata": {}
    },
    {
      "cell_type": "code",
      "source": [
        "import igraph as ig\n",
        "Gix = ig.read('C:/Users/solal/Documents/Untitled.graphml',format=\"graphml\")#recap of the foodchain\n",
        "L=[]\n",
        "namelist=['Carcharhinus perezi','Galeocerdo cuvieri','Carcharhinus falciformis','Ginglymostoma cirratum','Mustelus canis','Aetobatus narinari','Negaprion brevirostris','Sphyrna tiburo','Rhizoprionodon porosus','Carcharhinus acronotus']\n",
        "for j in range(len(Gix.vs)):\n",
        "    i=Gix.vs[j]\n",
        "    if i['label']=='Microfauna':\n",
        "        L.append(7)\n",
        "    if i['label']=='Benthic autotrophs':\n",
        "        L.append(8)\n",
        "    if i['label']=='Crabs':\n",
        "        L.append(9)\n",
        "    if i['label']=='Shrimps':\n",
        "        L.append(10)\n",
        "    if i['label']=='Detritus. POM. DOM':\n",
        "        L.append(11)\n",
        "    if i['label']=='Polychaetes':\n",
        "        L.append(12)\n",
        "    if i['label']=='Gastropods':\n",
        "        L.append(13)\n",
        "    if i['label']=='Bivalves':\n",
        "        L.append(14)\n",
        "    if i['label']=='Sponges':\n",
        "        L.append(15)\n",
        "    if i['label']=='Echinoids':\n",
        "        L.append(16)\n",
        "    if i['label']=='Hyporamphus unifasciatus':\n",
        "        L.append(17)\n",
        "    if i['label']=='Phytoplankton':\n",
        "        L.append(18)\n",
        "    if i['label']=='Zooplankton':\n",
        "        L.append(19)\n",
        "    if i['label']=='Isopods':\n",
        "        L.append(20)\n",
        "    if i['label']=='Symbiotic algea':\n",
        "        L.append(21)\n",
        "    #if i['label'] in namelist:#for some reasons, if this category is included, Gix.simplify will crash python\n",
        "        #i['label']='Superpredators'\n",
        "        #L.append(22)\n",
        "    if i['Modularity Class']==0 and j==len(L):\n",
        "        i['label']=\"Microfauna community\"\n",
        "        L.append(0)\n",
        "    if i['Modularity Class']==1 and j==len(L):\n",
        "        L.append(1)\n",
        "        i['label']=\"Gastropods, Bivalvs, Echinoids, Isopods community\"\n",
        "    if i['Modularity Class']==2 and j==len(L):\n",
        "        L.append(2)\n",
        "        i['label']=\"Crabs, Shrimps community\"\n",
        "    if i['Modularity Class']==3 and j==len(L):\n",
        "        L.append(3)\n",
        "        i['label']=\"Benthic autotrophs, detritus community\"\n",
        "    if i['Modularity Class']==4 and j==len(L):\n",
        "        L.append(4)\n",
        "        i['label']=\"Sponges, Symbiotic algea, Sea anemones community\"\n",
        "    if i['Modularity Class']==5 and j==len(L):\n",
        "        L.append(5)\n",
        "        i['label']=\"Phytoplankton, Hyporhamphus unifasciatus communityy\"\n",
        "    if i['Modularity Class']==6 and j==len(L):\n",
        "        L.append(6)\n",
        "        i['label']=\"Polychaetes community\"\n",
        "Gix.contract_vertices(L,combine_attrs={'label':'random'})\n",
        "del(Gix.es['Edge Label'])\n",
        "del(Gix.es['id'])\n",
        "Gix.simplify(loops=False,combine_edges=dict(weight=sum))\n",
        "ig.plot(Gix)\n",
        "Gix.write_graphml('C:/Users/solal/Documents/simplifiedGraph2.graphml')"
      ],
      "outputs": [
        {
          "output_type": "error",
          "ename": "ModuleNotFoundError",
          "evalue": "No module named 'igraph'",
          "traceback": [
            "\u001b[1;31m---------------------------------------------------------------------------\u001b[0m",
            "\u001b[1;31mModuleNotFoundError\u001b[0m                       Traceback (most recent call last)",
            "\u001b[1;32m<ipython-input-2-09121b9def76>\u001b[0m in \u001b[0;36m<module>\u001b[1;34m\u001b[0m\n\u001b[1;32m----> 1\u001b[1;33m \u001b[1;32mimport\u001b[0m \u001b[0migraph\u001b[0m \u001b[1;32mas\u001b[0m \u001b[0mig\u001b[0m\u001b[1;33m\u001b[0m\u001b[1;33m\u001b[0m\u001b[0m\n\u001b[0m\u001b[0;32m      2\u001b[0m \u001b[0mGix\u001b[0m \u001b[1;33m=\u001b[0m \u001b[0mig\u001b[0m\u001b[1;33m.\u001b[0m\u001b[0mread\u001b[0m\u001b[1;33m(\u001b[0m\u001b[1;34m'C:/Users/solal/Documents/Untitled.graphml'\u001b[0m\u001b[1;33m,\u001b[0m\u001b[0mformat\u001b[0m\u001b[1;33m=\u001b[0m\u001b[1;34m\"graphml\"\u001b[0m\u001b[1;33m)\u001b[0m\u001b[1;33m\u001b[0m\u001b[1;33m\u001b[0m\u001b[0m\n\u001b[0;32m      3\u001b[0m \u001b[0mL\u001b[0m\u001b[1;33m=\u001b[0m\u001b[1;33m[\u001b[0m\u001b[1;33m]\u001b[0m\u001b[1;33m\u001b[0m\u001b[1;33m\u001b[0m\u001b[0m\n\u001b[0;32m      4\u001b[0m \u001b[0mnamelist\u001b[0m\u001b[1;33m=\u001b[0m\u001b[1;33m[\u001b[0m\u001b[1;34m'Carcharhinus perezi'\u001b[0m\u001b[1;33m,\u001b[0m\u001b[1;34m'Galeocerdo cuvieri'\u001b[0m\u001b[1;33m,\u001b[0m\u001b[1;34m'Carcharhinus falciformis'\u001b[0m\u001b[1;33m,\u001b[0m\u001b[1;34m'Ginglymostoma cirratum'\u001b[0m\u001b[1;33m,\u001b[0m\u001b[1;34m'Mustelus canis'\u001b[0m\u001b[1;33m,\u001b[0m\u001b[1;34m'Aetobatus narinari'\u001b[0m\u001b[1;33m,\u001b[0m\u001b[1;34m'Negaprion brevirostris'\u001b[0m\u001b[1;33m,\u001b[0m\u001b[1;34m'Sphyrna tiburo'\u001b[0m\u001b[1;33m,\u001b[0m\u001b[1;34m'Rhizoprionodon porosus'\u001b[0m\u001b[1;33m,\u001b[0m\u001b[1;34m'Carcharhinus acronotus'\u001b[0m\u001b[1;33m]\u001b[0m\u001b[1;33m\u001b[0m\u001b[1;33m\u001b[0m\u001b[0m\n\u001b[0;32m      5\u001b[0m \u001b[1;32mfor\u001b[0m \u001b[0mj\u001b[0m \u001b[1;32min\u001b[0m \u001b[0mrange\u001b[0m\u001b[1;33m(\u001b[0m\u001b[0mlen\u001b[0m\u001b[1;33m(\u001b[0m\u001b[0mGix\u001b[0m\u001b[1;33m.\u001b[0m\u001b[0mvs\u001b[0m\u001b[1;33m)\u001b[0m\u001b[1;33m)\u001b[0m\u001b[1;33m:\u001b[0m\u001b[1;33m\u001b[0m\u001b[1;33m\u001b[0m\u001b[0m\n",
            "\u001b[1;31mModuleNotFoundError\u001b[0m: No module named 'igraph'"
          ]
        }
      ],
      "execution_count": 2,
      "metadata": {}
    },
    {
      "cell_type": "code",
      "source": [
        "import igraph as ig\n",
        "Gix = ig.read('C:/Users/solal/Documents/Untitled.graphml',format=\"graphml\")\n",
        "Gix.vs['Weighted Directed Betweenness']=Gix.betweenness(weights='weight',directed=True)#gephy doesn't have this for some reasons\n",
        "Gix.vs['Weighted Undirected Betweenness']=Gix.betweenness(weights='weight',directed=False)\n",
        "Gix.write_graphml('C:/Users/solal/Documents/Eccentricity.graphml')"
      ],
      "outputs": [
        {
          "output_type": "stream",
          "name": "stdout",
          "text": [
            "IGRAPH D-W- 249 3313 -- \n",
            "+ attr: Betweenness Centrality (v), Closeness Centrality (v), Component ID (v), Harmonic Closeness Centrality (v), In-Degree (v), Modularity Class (v), Out-Degree (v), PageRank (v), Strongly-Connected ID (v), Weighted Degree (v), Weighted Directed Betweenness (v), Weighted Directed Closeness (v), Weighted In-Degree (v), Weighted Out-Degree (v), Weighted Undirected Betweenness (v), Weighted Undirected Closeness (v), b (v), g (v), id (v), label (v), r (v), size (v), x (v), y (v), Edge Label (e), id (e), weight (e)\n"
          ]
        }
      ],
      "execution_count": 153,
      "metadata": {}
    },
    {
      "cell_type": "code",
      "source": [
        "import igraph as ig\n",
        "Gix = ig.read('C:/Users/solal/Documents/Untitled.graphml',format=\"graphml\")\n",
        "i=0\n",
        "while Gix.vs[i]['label']!='Galeocerdo cuvieri':\n",
        "    i+=1\n",
        "SP=Gix.shortest_paths_dijkstra(source=Gix.vs[i],mode='IN')\n",
        "Gix.vs['Out-Degree']=[SP[0][j] for j in range(len(SP[0]))]\n",
        "Gix.write_graphml('C:/Users/solal/Documents/Untitled.graphml')"
      ],
      "outputs": [
        {
          "output_type": "error",
          "ename": "ModuleNotFoundError",
          "evalue": "No module named 'igraph'",
          "traceback": [
            "\u001b[1;31m---------------------------------------------------------------------------\u001b[0m",
            "\u001b[1;31mModuleNotFoundError\u001b[0m                       Traceback (most recent call last)",
            "\u001b[1;32m<ipython-input-3-efa55b00b411>\u001b[0m in \u001b[0;36m<module>\u001b[1;34m\u001b[0m\n\u001b[1;32m----> 1\u001b[1;33m \u001b[1;32mimport\u001b[0m \u001b[0migraph\u001b[0m \u001b[1;32mas\u001b[0m \u001b[0mig\u001b[0m\u001b[1;33m\u001b[0m\u001b[1;33m\u001b[0m\u001b[0m\n\u001b[0m\u001b[0;32m      2\u001b[0m \u001b[0mGix\u001b[0m \u001b[1;33m=\u001b[0m \u001b[0mig\u001b[0m\u001b[1;33m.\u001b[0m\u001b[0mread\u001b[0m\u001b[1;33m(\u001b[0m\u001b[1;34m'C:/Users/solal/Documents/Untitled.graphml'\u001b[0m\u001b[1;33m,\u001b[0m\u001b[0mformat\u001b[0m\u001b[1;33m=\u001b[0m\u001b[1;34m\"graphml\"\u001b[0m\u001b[1;33m)\u001b[0m\u001b[1;33m\u001b[0m\u001b[1;33m\u001b[0m\u001b[0m\n\u001b[0;32m      3\u001b[0m \u001b[0mi\u001b[0m\u001b[1;33m=\u001b[0m\u001b[1;36m0\u001b[0m\u001b[1;33m\u001b[0m\u001b[1;33m\u001b[0m\u001b[0m\n\u001b[0;32m      4\u001b[0m \u001b[1;32mwhile\u001b[0m \u001b[0mGix\u001b[0m\u001b[1;33m.\u001b[0m\u001b[0mvs\u001b[0m\u001b[1;33m[\u001b[0m\u001b[0mi\u001b[0m\u001b[1;33m]\u001b[0m\u001b[1;33m[\u001b[0m\u001b[1;34m'label'\u001b[0m\u001b[1;33m]\u001b[0m\u001b[1;33m!=\u001b[0m\u001b[1;34m'Galeocerdo cuvieri'\u001b[0m\u001b[1;33m:\u001b[0m\u001b[1;33m\u001b[0m\u001b[1;33m\u001b[0m\u001b[0m\n\u001b[0;32m      5\u001b[0m     \u001b[0mi\u001b[0m\u001b[1;33m+=\u001b[0m\u001b[1;36m1\u001b[0m\u001b[1;33m\u001b[0m\u001b[1;33m\u001b[0m\u001b[0m\n",
            "\u001b[1;31mModuleNotFoundError\u001b[0m: No module named 'igraph'"
          ]
        }
      ],
      "execution_count": 3,
      "metadata": {}
    },
    {
      "cell_type": "code",
      "source": [
        "import igraph as ig\n",
        "Gix = ig.read('C:/Users/solal/Documents/Untitled.graphml',format=\"graphml\")#we want to identify the ratio of edges in/out of community\n",
        "print(Gix.summary())\n",
        "Gix.vs['CommunityRatioIn']=list(range(len(Gix.vs)))\n",
        "Gix.vs['CommunityRatioOut']=list(range(len(Gix.vs)))\n",
        "Gix.vs['CommunityRatio']=list(range(len(Gix.vs)))\n",
        "Gix.vs['ModularityClass']=Gix.vs['Modularity Class']\n",
        "for i in range(len(Gix.vs)):\n",
        "    ModClass=Gix.vs[i]['Modularity Class']\n",
        "    EdgeListOut=Gix.es.select(_source=i)#all edges from i\n",
        "    EdgeListIn=Gix.es.select(_target=i)#all edges to i\n",
        "    if len(EdgeListIn)==0:\n",
        "        Gix.vs[i]['CommunityRatioIn']=0\n",
        "        target_vertex = Gix.vs[[j.target for j in EdgeListOut]]#we select the vertices that are targets of edges from i\n",
        "        vOut=target_vertex.select(ModularityClass_eq=ModClass)#among those, we select those of same community as i\n",
        "        wOut=Gix.es.select(_target_in=wOut,_source=i)#we then select the edges between those vertices and i\n",
        "        Gix.vs[i]['CommunityRatioOut']=sum(wOut['weight'])/sum(EdgeListOut['weight'])#we can then make a weighted ratio\n",
        "        Gix.vs[i]['CommunityRatio']=sum(wOut['weight'])/sum(EdgeListOut['weight'])#if EdgeListIn is empty, total ratio is equal to out ratio\n",
        "    else:\n",
        "        source_vertex = Gix.vs[[j.source for j in EdgeListIn]]#select all vertices that are sources of edges to i\n",
        "        vIn=source_vertex.select(ModularityClass_eq=ModClass)\n",
        "        wIn=Gix.es.select(_source_in=vIn,_target=i)\n",
        "        Gix.vs[i]['CommunityRatioIn']=sum(wIn['weight'])/sum(EdgeListIn['weight'])\n",
        "        if len(EdgeListOut)==0:\n",
        "            Gix.vs[i]['CommunityRatioOut']=0\n",
        "            Gix.vs[i]['CommunityRatio']=sum(wIn['weight'])/sum(EdgeListIn['weight'])\n",
        "        else:\n",
        "            target_vertex = Gix.vs[[j.target for j in EdgeListOut]]\n",
        "            vOut=target_vertex.select(ModularityClass_eq=ModClass)\n",
        "            wOut=Gix.es.select(_target_in=vOut,_source=i)\n",
        "            Gix.vs[i]['CommunityRatioOut']=sum(wOut['weight'])/sum(EdgeListOut['weight'])\n",
        "            Gix.vs[i]['CommunityRatio']=(sum(wOut['weight'])+sum(wIn['weight'])/sum(EdgeListIn['weight']))/(sum(EdgeListIn['weight'])+sum(EdgeListOut['weight']))\n",
        "Gix.write_graphml('C:/Users/solal/Documents/CommunityRatio.graphml')"
      ],
      "outputs": [
        {
          "output_type": "stream",
          "name": "stdout",
          "text": [
            "IGRAPH D-W- 249 3313 -- \n",
            "+ attr: Betweenness Centrality (v), Closeness Centrality (v), Component ID (v), Harmonic Closeness Centrality (v), In-Degree (v), Modularity Class (v), Out-Degree (v), PageRank (v), Strongly-Connected ID (v), Weighted Degree (v), Weighted In-Degree (v), Weighted Out-Degree (v), b (v), g (v), id (v), label (v), r (v), size (v), x (v), y (v), Edge Label (e), id (e), weight (e)\n"
          ]
        }
      ],
      "execution_count": 145,
      "metadata": {}
    }
  ],
  "metadata": {
    "kernelspec": {
      "name": "python3",
      "language": "python",
      "display_name": "Python 3"
    },
    "language_info": {
      "name": "python",
      "version": "3.7.5",
      "mimetype": "text/x-python",
      "codemirror_mode": {
        "name": "ipython",
        "version": 3
      },
      "pygments_lexer": "ipython3",
      "nbconvert_exporter": "python",
      "file_extension": ".py"
    },
    "nteract": {
      "version": "0.15.0"
    },
    "kernel_info": {
      "name": "python3"
    }
  },
  "nbformat": 4,
  "nbformat_minor": 2
}