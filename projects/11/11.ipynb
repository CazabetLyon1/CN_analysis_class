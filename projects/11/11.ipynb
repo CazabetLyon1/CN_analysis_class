{
  "cells": [
    {
      "cell_type": "markdown",
      "source": [
        "# Complex Networks: the Erdös Number"
      ],
      "metadata": {}
    },
    {
      "cell_type": "markdown",
      "source": [
        "Paul Erdös was a Hungarian mathematician. He lived from 1913 to 1996 and had 511 colaborators, while researchers usually have 3 or 4 collaborators in average. This impressive number is due to Erdös' peculiar lifestyle: he was always travelling, either to teach at a university, to attend to a seminar or to visit a colleague. He loved solving problems and his life was entirely devoted to mathematics, which enabled him to write more than 1500 articles.\n",
        "\n",
        "As a tribute to him was created the Erdös number. It measures the distance from any researcher to Erdös. He himself has an Erdös number of 0, his direct co-authors have an Erdös number of 1, the co-authors' collaborators have an Erdös number of 2, and so on. This project aims at studying the graph of all people with an Erdös number of 2 or less. \n",
        "\n",
        "This graph comes from the *Erdös Number Project* [1], a website which contains collaboration data files and information about Erdös, the graph of his collaborators, the graph of all scientific collaborations, and comments about those last two. It also allows anyone to compute their Erdös number. Our data file comes from this website, and was updated in 2015. This project is not the first study of this graph: there are some facts disseminated on the website, but they are mostly about the whole collaboration graph or about a more restrictive definition of the Erdös number. Furthermore, an article was published by Vladimir Batagelj and Andrej Mrvar [9]. In this paper, they use the Erdös collaboration graph as an exemple of a large network on which they can present some graph analysis methods. Their goal was hence not to study the graph in itself, but to produce results which will benefit the graph theory community. Their version of this graph is from 1999 and counts 6100 vertices and 9939 edges. Today's graph has more than 11000 vertices and 18000, so our results will not be different than those in this paper. Furthermore, our goal is not the same: we intend to see what this graph teaches us about the collaboration habits of mathematicians. \n",
        "\n",
        "Indeed, we will ask the following questions: \n",
        "* Are there other authors with as many collaborators as Erdös?\n",
        "* What does the degree distribution teach us about collaboration habits?\n",
        "* Can we define a new number with the second mathematician having the highest number of collaborations?\n",
        "* What does this graph look like if we take off Erdös' node?\n",
        "* What centrality measure allows us to determine the most important authors of the network?\n",
        "* Can we detect some relevant communities?\n",
        "\n",
        "\n",
        "We will need some data about the authors of the graph: they either come from their wikipedia page [2], their personal page or their *ResearchGate* profile [3], from which we can for instance find an author's current number of co-authors. Since I looked for a lot of authors online, I will not provide the page reference for each."
      ],
      "metadata": {}
    },
    {
      "cell_type": "markdown",
      "source": [
        "## 1 - Construction of the graph"
      ],
      "metadata": {}
    },
    {
      "cell_type": "markdown",
      "source": [
        "The Erdos_2.txt file was last updated in 2015. It lists the coauthors of Paul Erdös, together with their own coauthors listed beneath them. For each coauthor of Erdös the date of the first paper is given, but we will not use it. If the coauthor was known to be deceased in 2015, an asterisk follows their name. When two people have the same name, they are distinguished using carets.\n",
        "\n",
        "The structure is the following : the coauthors of Erdös are listed in alphabetical order and are written in capital letters. Under each of them are listed their own collaborators, that is to say people with an Erdös number of 2. There is a tabulation before the name of those people. Here is an exemple : Ashbacher is a collaborator of Erdös, their first paper was published in 1997, and he had 7 co-authors other than Erdös.\n",
        "\n",
        "***\n",
        "\n",
        "ASHBACHER, CHARLES D. &nbsp;&nbsp;&nbsp;&nbsp;&nbsp;&nbsp;&nbsp;&nbsp;&nbsp;&nbsp;&nbsp;&nbsp;          1997\n",
        "\n",
        "    Harmon, Gregory\n",
        "    Le, Mao Hua\n",
        "    Murthy, Amarnath\n",
        "    Neirynck, Lori\n",
        "    Nolte, William D., Jr.\n",
        "    Straw, Mark\n",
        "    Wilson, Lewis\n",
        "    \n",
        "***"
      ],
      "metadata": {}
    },
    {
      "cell_type": "markdown",
      "source": [
        "Let us begin by importing all the libraries we will need for this study."
      ],
      "metadata": {}
    },
    {
      "cell_type": "code",
      "source": [
        "import numpy as np\n",
        "import matplotlib.pyplot as plt\n",
        "import networkx as nx\n",
        "import pandas as pd\n",
        "import statistics as st\n",
        "from networkx.algorithms import community\n",
        "from scipy.optimize import curve_fit"
      ],
      "outputs": [],
      "execution_count": 1,
      "metadata": {}
    },
    {
      "cell_type": "markdown",
      "source": [
        "We start by extracting from our .txt file a list of nodes and edges. We start by reading every line and storing it as a string of characters in a list that we name `data_set`."
      ],
      "metadata": {}
    },
    {
      "cell_type": "code",
      "source": [
        "data_set = []\n",
        "f = open('Erdos_2.txt')\n",
        "\n",
        "for i in range (20699) :\n",
        "    line = f.readline()\n",
        "    data_set.append(line) # list of a list of strings"
      ],
      "outputs": [],
      "execution_count": 2,
      "metadata": {}
    },
    {
      "cell_type": "markdown",
      "source": [
        " The first step is to extract from a line in the file the name of the author. We can distinguish two types of strings: \n",
        "* the ones containing the name of a direct collaborator of Erdös, which are not tabulated but have a date at the end of the line separated from the author name by a lot of spaces. For instance, \n",
        "    'ABBOTT, HARVEY LESLIE &nbsp;&nbsp;&nbsp;&nbsp;&nbsp;&nbsp;&nbsp;&nbsp;&nbsp;&nbsp;&nbsp;&nbsp;1974'\n",
        "* the ones containing the name of someone with an Erdös number of 2. They are tabulated. For instance,\n",
        "    '&nbsp;&nbsp;&nbsp;&nbsp;&nbsp;&nbsp; Aull, Charles E.'\n",
        "\n",
        "For each string, we have to get rid of all the spaces and of the date, if there is one. We also take off the stars indicating that the person is dead, and the symbol \\n at the end of each line. This is what the function `extract_name` does. "
      ],
      "metadata": {}
    },
    {
      "cell_type": "code",
      "source": [
        "def extract_name (data, date = False) :\n",
        "    \n",
        "    line = data\n",
        "    \n",
        "    if date : # remove the date and all the spaces after the name\n",
        "        line = line[0:-5] # take off the date\n",
        "        car = line[-1]\n",
        "        while not car.isalpha() and not car == '.' and not car.isdigit() and not car == ')':\n",
        "            line = line[0:-1]\n",
        "            car = line[-1]\n",
        "            \n",
        "    else : # remove all the spaces before the name\n",
        "        car = line[0]\n",
        "        while not car.isalpha() :\n",
        "            line = line[1:]\n",
        "            car = line[0]\n",
        "\n",
        "        line = line.split('*')[0]\n",
        "        line = line.split('\\n')[0]\n",
        "    return line"
      ],
      "outputs": [],
      "execution_count": 3,
      "metadata": {}
    },
    {
      "cell_type": "markdown",
      "source": [
        "In order to test our function, we use a few examples: we check that the stars disappear like we wanted to, that all the letters are there and that the carets which allow us to distinguish two different people with the same name are still here. "
      ],
      "metadata": {}
    },
    {
      "cell_type": "code",
      "source": [
        "st1 = 'RENYI, ALFRED A.*                       1950'\n",
        "st2 = '     RENYI, ALFRED A.*'\n",
        "\n",
        "print(extract_name(st1, date=True))\n",
        "print(extract_name(st2))\n",
        "print(extract_name(st1, date=True)==extract_name(st2))\n",
        "\n",
        "st3 = 'BEHZAD, MEHDI^1                         1991'\n",
        "st4 = '    BEHZAD, MEHDI^1'\n",
        "\n",
        "print(extract_name(st3, date=True))\n",
        "print(extract_name(st4))\n",
        "print(extract_name(st3, date=True)==extract_name(st4))\n",
        "\n",
        "st5 = 'CHUNG, FAN RONG KING (GRAHAM)           1979'\n",
        "st6 = '     CHUNG, FAN RONG KING (GRAHAM)'\n",
        "\n",
        "print(extract_name(st5, date=True))\n",
        "print(extract_name(st6))\n",
        "print(extract_name(st5, date=True)==extract_name(st6))"
      ],
      "outputs": [
        {
          "output_type": "stream",
          "name": "stdout",
          "text": [
            "RENYI, ALFRED A.\n",
            "RENYI, ALFRED A.\n",
            "True\n",
            "BEHZAD, MEHDI^1\n",
            "BEHZAD, MEHDI^1\n",
            "True\n",
            "CHUNG, FAN RONG KING (GRAHAM)\n",
            "CHUNG, FAN RONG KING (GRAHAM)\n",
            "True\n"
          ]
        }
      ],
      "execution_count": 4,
      "metadata": {}
    },
    {
      "cell_type": "markdown",
      "source": [
        "We can now extract the names and create our graph. We use the Python package NetworkX to manipulate our graph. Our graph is called G. Since there are empty lines in the .txt file, for each element in our `data_set` list we have to check whether the string is of length 0.\n",
        "\n",
        "We distinguish the collaborators of Erdös from the others thanks to the indentations: the collaborators of Erdös are indented, the others are not. Once we found a non indented author, we create a link between them and Erdös. Then, we know that they have collaborated with all the indented authors below them. The non-indented author is called *ref* (the reference), and for each non-indented author below this reference we create a link between them and the reference. Everytime we find a new non-indented author, the reference changes."
      ],
      "metadata": {}
    },
    {
      "cell_type": "code",
      "source": [
        "G = nx.Graph()\n",
        "G.add_node('Erdos, Paul')\n",
        "\n",
        "index = 0\n",
        "\n",
        "for i in range (23, len(data_set)) : # values start at line 23 (there is some text above)\n",
        "    data = data_set[i]\n",
        "    test = data.split()\n",
        "    \n",
        "    if len(test) != 0 : # ignore the empty lines\n",
        "        \n",
        "        if data[0].isalpha() : # not indented : directly linked to Erdos\n",
        "            name = extract_name(data, date = True)\n",
        "\n",
        "            if not G.has_node(name) : # author not yet in the dictionary : add them, link them to Erdos\n",
        "                G.add_node(name)\n",
        "            \n",
        "            ref = name # the next authors will be linked to this one\n",
        "            G.add_edge('Erdos, Paul',ref)\n",
        "\n",
        "        else :\n",
        "            name = extract_name(data)\n",
        "\n",
        "            if not G.has_node(name) : # author not yet in the dictionary : add them\n",
        "                G.add_node(name)\n",
        "        \n",
        "            G.add_edge(name,ref) "
      ],
      "outputs": [],
      "execution_count": 5,
      "metadata": {}
    },
    {
      "cell_type": "markdown",
      "source": [
        "We export the edge list as a .txt file (which we then convert into a .csv file) in order to be able to represent our graph with Gephi. Since there are already commas in our file, we use a semicolon as a delimiter."
      ],
      "metadata": {}
    },
    {
      "cell_type": "code",
      "source": [
        "nx.write_edgelist(G, \"Edgelist_for_gephi\", delimiter=';', data=False) # to be used with gephi"
      ],
      "outputs": [],
      "execution_count": 6,
      "metadata": {}
    },
    {
      "cell_type": "markdown",
      "source": [
        "We can take a look at the result by creating the table of all the edges thanks to the Pandas package of Python. This package names our nodes **source** and **target** even though the graph is not oriented. "
      ],
      "metadata": {}
    },
    {
      "cell_type": "code",
      "source": [
        "panda_table = nx.to_pandas_edgelist(G)\n",
        "panda_table.head(10)"
      ],
      "outputs": [
        {
          "output_type": "execute_result",
          "execution_count": 7,
          "data": {
            "text/html": [
              "<div>\n",
              "<style scoped>\n",
              "    .dataframe tbody tr th:only-of-type {\n",
              "        vertical-align: middle;\n",
              "    }\n",
              "\n",
              "    .dataframe tbody tr th {\n",
              "        vertical-align: top;\n",
              "    }\n",
              "\n",
              "    .dataframe thead th {\n",
              "        text-align: right;\n",
              "    }\n",
              "</style>\n",
              "<table border=\"1\" class=\"dataframe\">\n",
              "  <thead>\n",
              "    <tr style=\"text-align: right;\">\n",
              "      <th></th>\n",
              "      <th>source</th>\n",
              "      <th>target</th>\n",
              "    </tr>\n",
              "  </thead>\n",
              "  <tbody>\n",
              "    <tr>\n",
              "      <th>0</th>\n",
              "      <td>Erdos, Paul</td>\n",
              "      <td>ABBOTT, HARVEY LESLIE</td>\n",
              "    </tr>\n",
              "    <tr>\n",
              "      <th>1</th>\n",
              "      <td>Erdos, Paul</td>\n",
              "      <td>ACZEL, JANOS D.</td>\n",
              "    </tr>\n",
              "    <tr>\n",
              "      <th>2</th>\n",
              "      <td>Erdos, Paul</td>\n",
              "      <td>AGOH, TAKASHI</td>\n",
              "    </tr>\n",
              "    <tr>\n",
              "      <th>3</th>\n",
              "      <td>Erdos, Paul</td>\n",
              "      <td>AHARONI, RON</td>\n",
              "    </tr>\n",
              "    <tr>\n",
              "      <th>4</th>\n",
              "      <td>Erdos, Paul</td>\n",
              "      <td>AIGNER, MARTIN S.</td>\n",
              "    </tr>\n",
              "    <tr>\n",
              "      <th>5</th>\n",
              "      <td>Erdos, Paul</td>\n",
              "      <td>AJTAI, MIKLOS</td>\n",
              "    </tr>\n",
              "    <tr>\n",
              "      <th>6</th>\n",
              "      <td>Erdos, Paul</td>\n",
              "      <td>ALAOGLU, LEONIDAS</td>\n",
              "    </tr>\n",
              "    <tr>\n",
              "      <th>7</th>\n",
              "      <td>Erdos, Paul</td>\n",
              "      <td>ALAVI, YOUSEF</td>\n",
              "    </tr>\n",
              "    <tr>\n",
              "      <th>8</th>\n",
              "      <td>Erdos, Paul</td>\n",
              "      <td>ALLADI, KRISHNASWAMI</td>\n",
              "    </tr>\n",
              "    <tr>\n",
              "      <th>9</th>\n",
              "      <td>Erdos, Paul</td>\n",
              "      <td>ALON, NOGA M.</td>\n",
              "    </tr>\n",
              "  </tbody>\n",
              "</table>\n",
              "</div>"
            ],
            "text/plain": [
              "        source                 target\n",
              "0  Erdos, Paul  ABBOTT, HARVEY LESLIE\n",
              "1  Erdos, Paul        ACZEL, JANOS D.\n",
              "2  Erdos, Paul          AGOH, TAKASHI\n",
              "3  Erdos, Paul           AHARONI, RON\n",
              "4  Erdos, Paul      AIGNER, MARTIN S.\n",
              "5  Erdos, Paul          AJTAI, MIKLOS\n",
              "6  Erdos, Paul      ALAOGLU, LEONIDAS\n",
              "7  Erdos, Paul          ALAVI, YOUSEF\n",
              "8  Erdos, Paul   ALLADI, KRISHNASWAMI\n",
              "9  Erdos, Paul          ALON, NOGA M."
            ]
          },
          "metadata": {}
        }
      ],
      "execution_count": 7,
      "metadata": {}
    },
    {
      "cell_type": "markdown",
      "source": [
        "Finally, let us look at the graph with Gephi. The node sizes are proportional to the node degrees, and the colours correspond to communities computed by Gephi. Those communities will be described in more details below. This network was visualized using the ForceAtlas spatialisation, which interpretes each node as a particle repelled by the others while links add a return force. We only display the names of the nodes with a degree higher than 150.\n",
        "\n",
        "<img src=\"Community.png\">"
      ],
      "metadata": {}
    },
    {
      "cell_type": "markdown",
      "source": [
        "## 2 - The degree distribution"
      ],
      "metadata": {}
    },
    {
      "cell_type": "markdown",
      "source": [
        "Now that we constructed our graph, we can study it. Let us start by the most basic properties, that is to say the number of nodes and edges. We count $|V| = 11526$ vertices and $|E| = 18506$ edges. This allows us to compute the density using the following formula:\n",
        "\n",
        "$$\\text{density} = \\frac{2|E|}{|V|(|V|-1)}$$\n",
        "\n",
        "We get a density of 0.00028, which shows that our graph is really sparse, which is not surprising for a collaboration network. Then we compute the diameter of the graph, which is the maximum shortest path between two nodes, and we get 4. Indeed, a path cannot be of length higher than 4: one node is either connected to Erdös or to one of his collaborator. Let us take two authors who never collaborated with Erdös, Author1 and Author2. Author1 is linked to Collaborator1 who collaborated with Erdös, and Author2 is linked to Colaborator2. Hence the maximum shortest path between two authors:\n",
        "\n",
        "**Author1 - Collaborator1 - Erdös - Collaborator2 - Author2**\n",
        "\n",
        "which has a length of 4."
      ],
      "metadata": {}
    },
    {
      "cell_type": "code",
      "source": [
        "E = G.number_of_edges()\n",
        "N = G.number_of_nodes()\n",
        "den = nx.density(G)\n",
        "# dia = nx.diameter(G) # is 4 (very long to compute)\n",
        "print( 'Number of nodes: ', N)\n",
        "print('Number of edges: ', E)\n",
        "print('Density of the graph: ', den)\n",
        "# print('Diameter of the graph: ', dia)"
      ],
      "outputs": [
        {
          "output_type": "stream",
          "name": "stdout",
          "text": [
            "Number of nodes:  11526\n",
            "Number of edges:  18506\n",
            "Density of the graph:  0.0002786268750872779\n"
          ]
        }
      ],
      "execution_count": 8,
      "metadata": {}
    },
    {
      "cell_type": "markdown",
      "source": [
        "We want to extract some properties about the degree of the vertices in our graph: the maximum value, the minimum value, the mean, the standard deviation... And we want to be able to compare people with different Erdös numbers. In order to do so, we create lists of authors of Erdös number 0, 1 and 2 with their number of collaborators (the degree of their node). Of course, only Erdös has an Erdös number of 0. "
      ],
      "metadata": {}
    },
    {
      "cell_type": "code",
      "source": [
        "List_en1 = []\n",
        "List_en2 = []\n",
        "List_en0 = ['Erdos, Paul']\n",
        "\n",
        "for n in nx.nodes(G) :\n",
        "\n",
        "    if n in nx.all_neighbors(G, 'Erdos, Paul') :\n",
        "        List_en1.append(n)\n",
        "    else : \n",
        "        if n != 'Erdos, Paul' :\n",
        "            List_en2.append(n)"
      ],
      "outputs": [],
      "execution_count": 9,
      "metadata": {}
    },
    {
      "cell_type": "markdown",
      "source": [
        "From those lists we compute all the parameters we wanted. We denote by **all** the population of the whole graph and by **en1** (respectively **en2**) the population of authors with an Erdös number of 1 (respectively 2)."
      ],
      "metadata": {}
    },
    {
      "cell_type": "code",
      "source": [
        "degree_sequence_all = sorted([[G.degree(node), node] for node in List_en1+List_en2+List_en0], reverse=True)\n",
        "degree_sequence_en1 = sorted([[G.degree(node), node] for node in List_en1], reverse=True)\n",
        "degree_sequence_en2 = sorted([[G.degree(node), node] for node in List_en2], reverse=True)\n",
        "\n",
        "list_degrees_all = [deg[0] for deg in degree_sequence_all]\n",
        "list_degrees_en1 = [deg[0] for deg in degree_sequence_en1]\n",
        "list_degrees_en2 = [deg[0] for deg in degree_sequence_en2]\n",
        "\n",
        "data_degree = {'All':[max(degree_sequence_all)[0], max(degree_sequence_all)[1], min(degree_sequence_all)[0], min(degree_sequence_all)[1], st.mean(list_degrees_all), st.stdev(list_degrees_all)], 'Erdös number of 1':[max(degree_sequence_en1)[0], max(degree_sequence_en1)[1], min(degree_sequence_en1)[0], min(degree_sequence_en1)[1], st.mean(list_degrees_en1), st.stdev(list_degrees_en1)], 'Erdös number of 2':[max(degree_sequence_en2)[0], max(degree_sequence_en2)[1], min(degree_sequence_en2)[0], min(degree_sequence_en2)[1], st.mean(list_degrees_en2), st.stdev(list_degrees_en2)]} \n",
        "\n",
        "Degree_panda = pd.DataFrame(data_degree, index = ['Maximum degree', 'Author with maximum degree', 'Minimum degree', 'Author with minimum degree', 'Mean degree', 'Standard deviation'])\n",
        "Degree_panda"
      ],
      "outputs": [
        {
          "output_type": "execute_result",
          "execution_count": 10,
          "data": {
            "text/html": [
              "<div>\n",
              "<style scoped>\n",
              "    .dataframe tbody tr th:only-of-type {\n",
              "        vertical-align: middle;\n",
              "    }\n",
              "\n",
              "    .dataframe tbody tr th {\n",
              "        vertical-align: top;\n",
              "    }\n",
              "\n",
              "    .dataframe thead th {\n",
              "        text-align: right;\n",
              "    }\n",
              "</style>\n",
              "<table border=\"1\" class=\"dataframe\">\n",
              "  <thead>\n",
              "    <tr style=\"text-align: right;\">\n",
              "      <th></th>\n",
              "      <th>All</th>\n",
              "      <th>Erdös number of 1</th>\n",
              "      <th>Erdös number of 2</th>\n",
              "    </tr>\n",
              "  </thead>\n",
              "  <tbody>\n",
              "    <tr>\n",
              "      <th>Maximum degree</th>\n",
              "      <td>511</td>\n",
              "      <td>436</td>\n",
              "      <td>19</td>\n",
              "    </tr>\n",
              "    <tr>\n",
              "      <th>Author with maximum degree</th>\n",
              "      <td>Erdos, Paul</td>\n",
              "      <td>ALON, NOGA M.</td>\n",
              "      <td>Lesniak, Linda M.</td>\n",
              "    </tr>\n",
              "    <tr>\n",
              "      <th>Minimum degree</th>\n",
              "      <td>1</td>\n",
              "      <td>1</td>\n",
              "      <td>1</td>\n",
              "    </tr>\n",
              "    <tr>\n",
              "      <th>Author with minimum degree</th>\n",
              "      <td>ANNING, NORMAN H.</td>\n",
              "      <td>ANNING, NORMAN H.</td>\n",
              "      <td>Aagedal, Jan Oyvind</td>\n",
              "    </tr>\n",
              "    <tr>\n",
              "      <th>Mean degree</th>\n",
              "      <td>3.21117</td>\n",
              "      <td>39.4677</td>\n",
              "      <td>1.48293</td>\n",
              "    </tr>\n",
              "    <tr>\n",
              "      <th>Standard deviation</th>\n",
              "      <td>13.3281</td>\n",
              "      <td>45.7465</td>\n",
              "      <td>1.26065</td>\n",
              "    </tr>\n",
              "  </tbody>\n",
              "</table>\n",
              "</div>"
            ],
            "text/plain": [
              "                                          All  Erdös number of 1  \\\n",
              "Maximum degree                            511                436   \n",
              "Author with maximum degree        Erdos, Paul      ALON, NOGA M.   \n",
              "Minimum degree                              1                  1   \n",
              "Author with minimum degree  ANNING, NORMAN H.  ANNING, NORMAN H.   \n",
              "Mean degree                           3.21117            39.4677   \n",
              "Standard deviation                    13.3281            45.7465   \n",
              "\n",
              "                              Erdös number of 2  \n",
              "Maximum degree                               19  \n",
              "Author with maximum degree    Lesniak, Linda M.  \n",
              "Minimum degree                                1  \n",
              "Author with minimum degree  Aagedal, Jan Oyvind  \n",
              "Mean degree                             1.48293  \n",
              "Standard deviation                      1.26065  "
            ]
          },
          "metadata": {}
        }
      ],
      "execution_count": 10,
      "metadata": {}
    },
    {
      "cell_type": "markdown",
      "source": [
        "Not surprisingly, in the whole graph the maximum degree is the one of Erdös' node. If we only consider the authors of Erdös number 1, that is to say the direct colaborators of Erdös, the maximum degree is 436: that is approximately 80 collaborators less than Erdös, but it is a big number compared to the mean value which is around 40. \n",
        "\n",
        "We must keep in mind that the people with Erdös number 2 have one of their collaborators in this graph only if this collaborator has worked either with Erdös himself or with one of Erdös' direct collaborators. Hence, it is probable that most of them have more collaborators than what is shown by our graph: we compute (see below) that 77 % of them have a degree of 1, and the maximum degree is 19. The author who has this degree 19 is Linda Lesniak, and she actually has 50 co-authors in total if we look at her *ResearchGate* profile. \n",
        "\n",
        "When it comes to the authors with an Erdös number of 1 the mean degree is 39.4, meaning that those authors have in average 40 collaborators. This value is actually quite large: the Erdos project page teaches us that if we look at the graph of all collaborations in mathematics the average number of collaborators is of 3.36 (there are 676000 authors in this graph). One explanation could be that the people who collaborated with Erdös were those used to collaborating with a lot of other researchers, while most authors had just around 4 co-authors. \n",
        "\n",
        "Finally, the standard deviation is interesting. It is very low for the authors with an Erdös number of 2, which makes sense since most of them has only 1 collaborator in the graph. On the contrary, it is quite high for the people with a number of 1: 46 of deviation for an average of 40. The reason for that is that the degree distribution (shown below) is very noisy, with most authors having a degree between 1 and 100. \n",
        "\n",
        "Let us now look at the 10 authors with the most collaborators."
      ],
      "metadata": {}
    },
    {
      "cell_type": "code",
      "source": [
        "data_rank = {'Name': [degree_sequence_all[i][1] for i in range (11)], 'Number of collaborations': [degree_sequence_all[i][0] for i in range (11)], 'Domains of activity': ['Discrete mathematics, graph theory, number theory, mathematical analysis, approximation theory, set theory, and probability theory', ' Combinatorics, theoretical computer science', 'Graph theory', 'Graph thoery, geometry', 'Graph theory', ' Mathematical logic, model theory, axiomatic set theory', 'Biomathematics, thermodynamics, geometrical thermodynamics, optimization and mathematical modeling', 'Graph theory, discrete mathematics', ' Scheduling theory, computational geometry, Ramsey theory, quasi-randomness', 'Number thoery', 'Data science, macro-informatics, cognitive computing, interconnection networks']}\n",
        "\n",
        "Rank_panda = pd.DataFrame(data_rank)\n",
        "pd.options.display.max_colwidth = 500\n",
        "Rank_panda.head(11)"
      ],
      "outputs": [
        {
          "output_type": "execute_result",
          "execution_count": 11,
          "data": {
            "text/html": [
              "<div>\n",
              "<style scoped>\n",
              "    .dataframe tbody tr th:only-of-type {\n",
              "        vertical-align: middle;\n",
              "    }\n",
              "\n",
              "    .dataframe tbody tr th {\n",
              "        vertical-align: top;\n",
              "    }\n",
              "\n",
              "    .dataframe thead th {\n",
              "        text-align: right;\n",
              "    }\n",
              "</style>\n",
              "<table border=\"1\" class=\"dataframe\">\n",
              "  <thead>\n",
              "    <tr style=\"text-align: right;\">\n",
              "      <th></th>\n",
              "      <th>Name</th>\n",
              "      <th>Number of collaborations</th>\n",
              "      <th>Domains of activity</th>\n",
              "    </tr>\n",
              "  </thead>\n",
              "  <tbody>\n",
              "    <tr>\n",
              "      <th>0</th>\n",
              "      <td>Erdos, Paul</td>\n",
              "      <td>511</td>\n",
              "      <td>Discrete mathematics, graph theory, number theory, mathematical analysis, approximation theory, set theory, and probability theory</td>\n",
              "    </tr>\n",
              "    <tr>\n",
              "      <th>1</th>\n",
              "      <td>ALON, NOGA M.</td>\n",
              "      <td>436</td>\n",
              "      <td>Combinatorics, theoretical computer science</td>\n",
              "    </tr>\n",
              "    <tr>\n",
              "      <th>2</th>\n",
              "      <td>HARARY, FRANK</td>\n",
              "      <td>316</td>\n",
              "      <td>Graph theory</td>\n",
              "    </tr>\n",
              "    <tr>\n",
              "      <th>3</th>\n",
              "      <td>COLBOURN, CHARLES JOSEPH</td>\n",
              "      <td>245</td>\n",
              "      <td>Graph thoery, geometry</td>\n",
              "    </tr>\n",
              "    <tr>\n",
              "      <th>4</th>\n",
              "      <td>TUZA, ZSOLT</td>\n",
              "      <td>225</td>\n",
              "      <td>Graph theory</td>\n",
              "    </tr>\n",
              "    <tr>\n",
              "      <th>5</th>\n",
              "      <td>SHELAH, SAHARON</td>\n",
              "      <td>224</td>\n",
              "      <td>Mathematical logic, model theory, axiomatic set theory</td>\n",
              "    </tr>\n",
              "    <tr>\n",
              "      <th>6</th>\n",
              "      <td>SALAMON, PETER</td>\n",
              "      <td>221</td>\n",
              "      <td>Biomathematics, thermodynamics, geometrical thermodynamics, optimization and mathematical modeling</td>\n",
              "    </tr>\n",
              "    <tr>\n",
              "      <th>7</th>\n",
              "      <td>WEST, DOUGLAS BRENT</td>\n",
              "      <td>202</td>\n",
              "      <td>Graph theory, discrete mathematics</td>\n",
              "    </tr>\n",
              "    <tr>\n",
              "      <th>8</th>\n",
              "      <td>GRAHAM, RONALD LEWIS</td>\n",
              "      <td>197</td>\n",
              "      <td>Scheduling theory, computational geometry, Ramsey theory, quasi-randomness</td>\n",
              "    </tr>\n",
              "    <tr>\n",
              "      <th>9</th>\n",
              "      <td>LUCA, FLORIAN</td>\n",
              "      <td>194</td>\n",
              "      <td>Number thoery</td>\n",
              "    </tr>\n",
              "    <tr>\n",
              "      <th>10</th>\n",
              "      <td>HSU, DERBIAU FRANK</td>\n",
              "      <td>171</td>\n",
              "      <td>Data science, macro-informatics, cognitive computing, interconnection networks</td>\n",
              "    </tr>\n",
              "  </tbody>\n",
              "</table>\n",
              "</div>"
            ],
            "text/plain": [
              "                        Name  Number of collaborations  \\\n",
              "0                Erdos, Paul                       511   \n",
              "1              ALON, NOGA M.                       436   \n",
              "2              HARARY, FRANK                       316   \n",
              "3   COLBOURN, CHARLES JOSEPH                       245   \n",
              "4                TUZA, ZSOLT                       225   \n",
              "5            SHELAH, SAHARON                       224   \n",
              "6             SALAMON, PETER                       221   \n",
              "7        WEST, DOUGLAS BRENT                       202   \n",
              "8       GRAHAM, RONALD LEWIS                       197   \n",
              "9              LUCA, FLORIAN                       194   \n",
              "10        HSU, DERBIAU FRANK                       171   \n",
              "\n",
              "                                                                                                                   Domains of activity  \n",
              "0   Discrete mathematics, graph theory, number theory, mathematical analysis, approximation theory, set theory, and probability theory  \n",
              "1                                                                                          Combinatorics, theoretical computer science  \n",
              "2                                                                                                                         Graph theory  \n",
              "3                                                                                                               Graph thoery, geometry  \n",
              "4                                                                                                                         Graph theory  \n",
              "5                                                                               Mathematical logic, model theory, axiomatic set theory  \n",
              "6                                   Biomathematics, thermodynamics, geometrical thermodynamics, optimization and mathematical modeling  \n",
              "7                                                                                                   Graph theory, discrete mathematics  \n",
              "8                                                           Scheduling theory, computational geometry, Ramsey theory, quasi-randomness  \n",
              "9                                                                                                                        Number thoery  \n",
              "10                                                      Data science, macro-informatics, cognitive computing, interconnection networks  "
            ]
          },
          "metadata": {}
        }
      ],
      "execution_count": 11,
      "metadata": {}
    },
    {
      "cell_type": "markdown",
      "source": [
        "The rate at which the number of collaborators decreases is stunning: from Erdös to Alon, from Alon to Harary, from Harary to Colbourn, the number of co-authors goes down by almost 100 every time. From this table we can also see the domains of research of those people. Not surprinsingly, all those domains are close to the ones that Erdös studied since they all published at least one paper with him. We can see that a lot of them worked in graph theory.\n",
        "\n",
        "We can finally plot the degree distributions for our three categories (all authors, Erdös number of 1, Erdös number of 2)."
      ],
      "metadata": {}
    },
    {
      "cell_type": "code",
      "source": [
        "degree_distribution_all = [0]*(max(degree_sequence_all)[0]+1) # degree distribution\n",
        "for deg in degree_sequence_all :\n",
        "    index = deg[0]\n",
        "    degree_distribution_all[index] += 1\n",
        "    \n",
        "degree_distribution_en1 = [0]*(max(degree_sequence_en1)[0]+1) # degree distribution\n",
        "for deg in degree_sequence_en1 :\n",
        "    index = deg[0]\n",
        "    degree_distribution_en1[index] += 1\n",
        "\n",
        "degree_distribution_en2 = [0]*(max(degree_sequence_en2)[0]+1) # degree distribution\n",
        "for deg in degree_sequence_en2 :\n",
        "    index = deg[0]\n",
        "    degree_distribution_en2[index] += 1\n",
        "\n",
        "plt.figure(figsize=(20,5))\n",
        "plt.subplot(131)\n",
        "plt.plot(degree_distribution_all)\n",
        "plt.xlabel('Degree')\n",
        "plt.ylabel('Number of nodes')\n",
        "# plt.ylim([0,20]) # for a zoom\n",
        "plt.title('Full distribution')\n",
        "\n",
        "plt.subplot(132)\n",
        "plt.plot(degree_distribution_en1)\n",
        "plt.xlabel('Degree')\n",
        "plt.ylabel('Number of nodes')\n",
        "plt.title('Distribution of authors with Erdös number 1')\n",
        "\n",
        "plt.subplot(133)\n",
        "plt.plot(degree_distribution_en2)\n",
        "plt.xlabel('Degree')\n",
        "plt.ylabel('Number of nodes')\n",
        "plt.title('Distribution of authors with Erdös number 2')\n",
        "\n",
        "plt.show()"
      ],
      "outputs": [
        {
          "output_type": "display_data",
          "data": {
            "image/png": "[encoded data removed]",
            "text/plain": [
              "<Figure size 1440x360 with 3 Axes>"
            ]
          },
          "metadata": {}
        }
      ],
      "execution_count": 12,
      "metadata": {}
    },
    {
      "cell_type": "markdown",
      "source": [
        "The full distribution is difficult to read: there are so many nodes with a very small degree that we only see a high peak. The distributions of the authors with an Erdös number of 1 and 2 are clearer. The distribution of authors with an Erdös number of 2 is quite noisy, which may be because there are less data (511 nodes compared to more than 10000 in the other two distributions). For all three distributions we can see that there are a lot of nodes with only a few links, and some hubs with very high degrees, but this information is only trustworthy in the case of the researchers with an Erdös number of 1 since the others do not have all their collaborators in the graph.\n",
        "\n",
        "From those distributions we can confirm what we saw with the degree statistics. Most authors have between 1 and 5 co-authors, which is consistent with the average of 3.36 in the whole graph of mathematician collaborators. The people with an Erdös number of 1 tend to have a lot of collaborators besides Erdös, which give a distribution less peaked than the one for all authors, and hence much more noisy. Finally, since not all of their collaborators are taken into account, the majority of the authors with an Erdös number of 2 only have 1 collaborator (77 % of them)."
      ],
      "metadata": {}
    },
    {
      "cell_type": "code",
      "source": [
        "Nb_authors = G.number_of_nodes()\n",
        "print(int(degree_distribution_all[1]/Nb_authors*100), '% of the authors have only one collaborator')\n",
        "print(int(sum(degree_distribution_all[1:6])/Nb_authors*100), '% of the authors have between 1 and 5 collaborators')\n",
        "\n",
        "Nb_authors_en2 = len(List_en2)\n",
        "print(int(degree_distribution_all[1]/Nb_authors_en2*100), '% of the authors with an Erdös number of 2 have only one collaborator')\n",
        "\n",
        "Nb_authors_en1 = len(List_en1)\n",
        "print(int(degree_distribution_en1[1]/Nb_authors_en1*100), '% of the authors with an Erdös number of 1 have only one collaborator')"
      ],
      "outputs": [
        {
          "output_type": "stream",
          "name": "stdout",
          "text": [
            "73 % of the authors have only one collaborator\n",
            "94 % of the authors have between 1 and 5 collaborators\n",
            "77 % of the authors with an Erdös number of 2 have only one collaborator\n",
            "1 % of the authors with an Erdös number of 1 have only one collaborator\n"
          ]
        }
      ],
      "execution_count": 13,
      "metadata": {}
    },
    {
      "cell_type": "markdown",
      "source": [
        "Furthermore, those distributions look like power laws. Let us draw them again but with logarithmic scales. We modelize the distribution by a power law  fitted manually (the fitting method from scipy does not work on our data)."
      ],
      "metadata": {}
    },
    {
      "cell_type": "code",
      "source": [
        "def fct_fit(x,a,b) :\n",
        "    return a/x**b\n",
        "\n",
        "N_all = [i for i in range (1,len(degree_distribution_all)+1)]\n",
        "#popt, pcov = curve_fit(fct_fit, N_all, degree_distribution_all)\n",
        "\n",
        "plt.figure(figsize=(20,5))\n",
        "plt.subplot(131)\n",
        "plt.plot(degree_distribution_all, label='Data')\n",
        "plt.plot(N_all, [9000/nall**2.5 for nall in N_all], label='Power law fit') # fct_fit(N_all, *popt)\n",
        "plt.xlabel('Degree')\n",
        "plt.ylabel('Number of nodes')\n",
        "plt.xscale('log')\n",
        "plt.yscale('log')\n",
        "# plt.ylim([0,20]) # for a zoom\n",
        "plt.title('Full distribution')\n",
        "plt.ylim([1, 10000])\n",
        "plt.legend()\n",
        "\n",
        "N_en1 = [i for i in range (1,len(degree_distribution_en1)+1)]\n",
        "plt.subplot(132)\n",
        "plt.plot(degree_distribution_en1, label='Data')\n",
        "plt.plot(N_en1, [100/nen1**0.9 for nen1 in N_en1], label='Power law fit') # fct_fit(N_all, *popt)\n",
        "plt.xlabel('Degree')\n",
        "plt.ylabel('Number of nodes')\n",
        "plt.xscale('log')\n",
        "plt.yscale('log')\n",
        "plt.title('Distribution of authors with Erdös number 1')\n",
        "plt.ylim([1, 20])\n",
        "plt.legend()\n",
        "\n",
        "N_en2 = [i for i in range (1,len(degree_distribution_en2)+1)]\n",
        "plt.subplot(133)\n",
        "plt.plot(degree_distribution_en2, label='Data')\n",
        "plt.plot(N_en2, [9000/nen2**2.7 for nen2 in N_en2], label='Power law fit') # fct_fit(N_all, *popt)\n",
        "plt.xlabel('Degree')\n",
        "plt.ylabel('Number of nodes')\n",
        "plt.xscale('log')\n",
        "plt.yscale('log')\n",
        "plt.title('Distribution of authors with Erdös number 2')\n",
        "plt.ylim([1, 10000])\n",
        "\n",
        "plt.legend()\n",
        "plt.show()"
      ],
      "outputs": [
        {
          "output_type": "display_data",
          "data": {
            "image/png": "[encoded data removed]",
            "text/plain": [
              "<Figure size 1440x360 with 3 Axes>"
            ]
          },
          "metadata": {}
        }
      ],
      "execution_count": 14,
      "metadata": {}
    },
    {
      "cell_type": "markdown",
      "source": [
        "On the full distribution the power law seems to fit quite well the data (coefficient 2.5), the same goes for the ditribution of people with an Erdös number of 2 (coefficient 2.7). Unfortuntely, the only distribution which is really meaningfull since it contains all the authors' collaborators is too noisy to conclude anything. The power law seems to fit (coefficient 0.9), but the noise is too important for us to be really accurate."
      ],
      "metadata": {}
    },
    {
      "cell_type": "markdown",
      "source": [
        "## 3 - A graph without Erdös\n",
        "\n",
        "Bey definition, Erdös connects all the nodes together. What happens if we delete his node? Let's find out! We define G2, the graph containing all the nodes but Erdös'. We start by comparing the simplest features: the number of nodes, of edges, the density, the diameter..."
      ],
      "metadata": {}
    },
    {
      "cell_type": "code",
      "source": [
        "G2 = G.copy()\n",
        "G2.remove_node('Erdos, Paul')\n",
        "\n",
        "E2 = G2.number_of_edges()\n",
        "N2 = G2.number_of_nodes()\n",
        "den2 = nx.density(G)\n",
        "# dia2 = nx.diameter(CC[0]) # 12 (very long to compute)\n",
        "\n",
        "print('Loss of', E-E2, ' edges')\n",
        "data_G2 = {'Number of nodes': [N, N2], 'Number of edges': [E, E2], 'Density': [den, den2], 'Connected?': [nx.is_connected(G), nx.is_connected(G2)], 'Diameter of largest CC': [4,12]}\n",
        "\n",
        "G2_panda = pd.DataFrame(data_G2, index=['With Erdös', 'Without Erdös'])\n",
        "G2_panda"
      ],
      "outputs": [
        {
          "output_type": "stream",
          "name": "stdout",
          "text": [
            "Loss of 511  edges\n"
          ]
        },
        {
          "output_type": "execute_result",
          "execution_count": 15,
          "data": {
            "text/html": [
              "<div>\n",
              "<style scoped>\n",
              "    .dataframe tbody tr th:only-of-type {\n",
              "        vertical-align: middle;\n",
              "    }\n",
              "\n",
              "    .dataframe tbody tr th {\n",
              "        vertical-align: top;\n",
              "    }\n",
              "\n",
              "    .dataframe thead th {\n",
              "        text-align: right;\n",
              "    }\n",
              "</style>\n",
              "<table border=\"1\" class=\"dataframe\">\n",
              "  <thead>\n",
              "    <tr style=\"text-align: right;\">\n",
              "      <th></th>\n",
              "      <th>Number of nodes</th>\n",
              "      <th>Number of edges</th>\n",
              "      <th>Density</th>\n",
              "      <th>Connected?</th>\n",
              "      <th>Diameter of largest CC</th>\n",
              "    </tr>\n",
              "  </thead>\n",
              "  <tbody>\n",
              "    <tr>\n",
              "      <th>With Erdös</th>\n",
              "      <td>11526</td>\n",
              "      <td>18506</td>\n",
              "      <td>0.000279</td>\n",
              "      <td>True</td>\n",
              "      <td>4</td>\n",
              "    </tr>\n",
              "    <tr>\n",
              "      <th>Without Erdös</th>\n",
              "      <td>11525</td>\n",
              "      <td>17995</td>\n",
              "      <td>0.000279</td>\n",
              "      <td>False</td>\n",
              "      <td>12</td>\n",
              "    </tr>\n",
              "  </tbody>\n",
              "</table>\n",
              "</div>"
            ],
            "text/plain": [
              "               Number of nodes  Number of edges   Density  Connected?  \\\n",
              "With Erdös               11526            18506  0.000279        True   \n",
              "Without Erdös            11525            17995  0.000279       False   \n",
              "\n",
              "               Diameter of largest CC  \n",
              "With Erdös                          4  \n",
              "Without Erdös                      12  "
            ]
          },
          "metadata": {}
        }
      ],
      "execution_count": 15,
      "metadata": {}
    },
    {
      "cell_type": "markdown",
      "source": [
        "For now the results are obvious: by deleting Erdös we took off one node and 511 edges, and this does not affect the density a lot. A more interesting result is the fact that the graph is not connected anymore. Let us look at the connected components."
      ],
      "metadata": {}
    },
    {
      "cell_type": "code",
      "source": [
        "CC_size = [len(c) for c in sorted(nx.connected_components(G2), key=len, reverse=True)]\n",
        "print('G2 has ', len(CC_size), ' connected components')\n",
        "\n",
        "print('Size of the different connected components: ', CC_size)\n",
        "\n",
        "CC = [G2.subgraph(c) for c in nx.connected_components(G2)]"
      ],
      "outputs": [
        {
          "output_type": "stream",
          "name": "stdout",
          "text": [
            "G2 has  14  connected components\n",
            "Size of the different connected components:  [11480, 13, 8, 5, 4, 3, 3, 3, 1, 1, 1, 1, 1, 1]\n"
          ]
        }
      ],
      "execution_count": 16,
      "metadata": {}
    },
    {
      "cell_type": "code",
      "source": [
        "len(CC[0])\n",
        "BB_graph = nx.union(CC[1], CC[2])\n",
        "for i in range (3, 14) :\n",
        "    BB_graph = nx.union(BB_graph, CC[i])\n",
        "nx.write_edgelist(BB_graph, \"Edgelist_no_Erdos\", delimiter=';', data=False) # to be used with gephi"
      ],
      "outputs": [],
      "execution_count": 17,
      "metadata": {}
    },
    {
      "cell_type": "markdown",
      "source": [
        "There are 14 different connected components: the largest contains most of the nodes. The second largest connected component has 13 nodes, and there are in total only 45 nodes outside of the largest connected component: even if we take Erdös off, the graph is still almost connected. \n",
        "\n",
        "We export to Gephi the edgelists of all the connected components but the largest. We can see what those connected components look like.\n",
        "\n",
        "<img src=\"BB_graph.png\", width=\"600\">"
      ],
      "metadata": {}
    },
    {
      "cell_type": "markdown",
      "source": [
        "There are a few nodes without any links: those are the researchers who only collaborated with Erdös and no one else.\n",
        "\n",
        "The other components are, except for one, composed of one co-author of Erdös and their own co-authors. Those co-authors are linked to no other researchers of the graph, which explains why their component was disconnected when we took Erdös off.\n",
        "\n",
        "The second largest component is mostly made of Israeli mathematicians. Abraham Ginzburg and Abraham Ziv wrote with Erdös the Erdös-Ginzburg-Ziv theorem (number theory), which is why they are linked together. Since neither them or their own co-authors collaborated with other individuals in the general graph, they were disconnected too when Erdös' node was deleted.\n",
        "\n",
        "The small number of nodes which were disconnected when the graph lost its most important node could indicates that there is a high clustering in this graph. Let us look at the average clustering coefficient. The clustering coefficient of a node u was defined by Luce and Perry in 1949 [8], it is the fraction of possible triangles through that node that exist\n",
        "\n",
        "$$C_u = \\frac{2T(u)}{deg(u)(deg(u)−1)}$$\n",
        "\n",
        "where T(u) is the number of triangles and deg(u) the degree of the node u. The average clustering coefficient is simply defined by:\n",
        "\n",
        "$$ C = \\frac{1}{N} \\sum_{v \\in G} C_v$$"
      ],
      "metadata": {}
    },
    {
      "cell_type": "code",
      "source": [
        "print('Average clustering coefficient of G: ', nx.average_clustering(G)) "
      ],
      "outputs": [
        {
          "output_type": "stream",
          "name": "stdout",
          "text": [
            "Average clustering coefficient of G:  0.10583676717061977\n"
          ]
        }
      ],
      "execution_count": 18,
      "metadata": {}
    },
    {
      "cell_type": "markdown",
      "source": [
        "This high clustering coefficient and the small distances in the graph (diameter of 4) indicate that we are in the presence of a small-world graph. Indeed, mathematicians tend to collaborate more with the people they meet in their research teams or at seminars. Erdös' behavior is very uncommon, most people do not travel randomly to collaborate with any colleague they meet. This explains why our graph has clusters: usually collaborations happen inside a same lab or at least in the same country."
      ],
      "metadata": {}
    },
    {
      "cell_type": "markdown",
      "source": [
        "## 4 - Centrality measures"
      ],
      "metadata": {}
    },
    {
      "cell_type": "markdown",
      "source": [
        "Until this section we only looked at the degree to determine which nodes are the most important in the network. Let us compute some other centralities and see if some other authors emerge. The NetworkX library has functions which can compute some centralities, but they are extremely slow because of the size of our network. Instead of using those, we used Gephi's algorithms. \n",
        "\n",
        "We will look at two centralities. The first one is the betweenness centrality: it is the number of shortest paths which go through each node. Let $\\sigma_{st}$ be the number of shortest paths from node $s$ to node $t$ and $\\sigma_{st}(v)$ the number of shortest paths going through node $v$. The betweenness centrality of a node $v$, as it was defined by Anthonisse in 1971 [4], is given by:\n",
        "\n",
        "$$ C_B(v) = \\sum_{s \\neq v \\neq  t \\in V} \\frac{\\sigma_{st}(v)}{\\sigma_{st}} $$\n",
        "\n",
        "Then we will look at the closeness centrality, which shows how close a node is to the others. It was define by Sabidussi in 1966 [5]. Let us denote $d_G(s,t)$ the minimum length of any path connecting node $s$ and node $t$ in the graph G, the closeness of a node is:\n",
        "\n",
        "$$ C_C(v) = \\frac{1}{\\sum_{t \\in V}d_G(v,t)} $$\n",
        "\n",
        "The algorithm used by Gephi is the one designed by Ulrik Brandes [6]. In the table below are, computed by Gephi, the centralities for each node.\n",
        "\n",
        "Finally, we also looked at the community structure of our graph. Each node has been associted by the Gephi algorithm to a modularity class, which uses the method proposed by Blondel et al. in [7]. This yields 11 communities, we will study them in more details below. Each community is associated to a *modularity class* value between 0 and 10."
      ],
      "metadata": {}
    },
    {
      "cell_type": "code",
      "source": [
        "data_centralities_raw = pd.read_csv(\"Centralities.csv\") \n",
        "data_centralities = data_centralities_raw.sort_values(by='Degree', ascending=False)\n",
        "\n",
        "data_centralities.head(15)"
      ],
      "outputs": [
        {
          "output_type": "execute_result",
          "execution_count": 19,
          "data": {
            "text/html": [
              "<div>\n",
              "<style scoped>\n",
              "    .dataframe tbody tr th:only-of-type {\n",
              "        vertical-align: middle;\n",
              "    }\n",
              "\n",
              "    .dataframe tbody tr th {\n",
              "        vertical-align: top;\n",
              "    }\n",
              "\n",
              "    .dataframe thead th {\n",
              "        text-align: right;\n",
              "    }\n",
              "</style>\n",
              "<table border=\"1\" class=\"dataframe\">\n",
              "  <thead>\n",
              "    <tr style=\"text-align: right;\">\n",
              "      <th></th>\n",
              "      <th>Node ID</th>\n",
              "      <th>Degree</th>\n",
              "      <th>Modularity class</th>\n",
              "      <th>Betweenness centrality</th>\n",
              "      <th>Closeness centrality</th>\n",
              "    </tr>\n",
              "  </thead>\n",
              "  <tbody>\n",
              "    <tr>\n",
              "      <th>0</th>\n",
              "      <td>Erdos, Paul</td>\n",
              "      <td>511</td>\n",
              "      <td>10</td>\n",
              "      <td>0.754279</td>\n",
              "      <td>0.511329</td>\n",
              "    </tr>\n",
              "    <tr>\n",
              "      <th>10</th>\n",
              "      <td>ALON, NOGA M.</td>\n",
              "      <td>438</td>\n",
              "      <td>10</td>\n",
              "      <td>0.053781</td>\n",
              "      <td>0.379180</td>\n",
              "    </tr>\n",
              "    <tr>\n",
              "      <th>187</th>\n",
              "      <td>HARARY, FRANK</td>\n",
              "      <td>318</td>\n",
              "      <td>10</td>\n",
              "      <td>0.038197</td>\n",
              "      <td>0.363155</td>\n",
              "    </tr>\n",
              "    <tr>\n",
              "      <th>86</th>\n",
              "      <td>COLBOURN, CHARLES JOSEPH</td>\n",
              "      <td>245</td>\n",
              "      <td>10</td>\n",
              "      <td>0.029156</td>\n",
              "      <td>0.352898</td>\n",
              "    </tr>\n",
              "    <tr>\n",
              "      <th>479</th>\n",
              "      <td>TUZA, ZSOLT</td>\n",
              "      <td>226</td>\n",
              "      <td>10</td>\n",
              "      <td>0.026389</td>\n",
              "      <td>0.365353</td>\n",
              "    </tr>\n",
              "    <tr>\n",
              "      <th>421</th>\n",
              "      <td>SHELAH, SAHARON</td>\n",
              "      <td>224</td>\n",
              "      <td>5</td>\n",
              "      <td>0.027771</td>\n",
              "      <td>0.347213</td>\n",
              "    </tr>\n",
              "    <tr>\n",
              "      <th>395</th>\n",
              "      <td>SALAMON, PETER</td>\n",
              "      <td>221</td>\n",
              "      <td>6</td>\n",
              "      <td>0.037471</td>\n",
              "      <td>0.342765</td>\n",
              "    </tr>\n",
              "    <tr>\n",
              "      <th>498</th>\n",
              "      <td>WEST, DOUGLAS BRENT</td>\n",
              "      <td>202</td>\n",
              "      <td>10</td>\n",
              "      <td>0.021248</td>\n",
              "      <td>0.357559</td>\n",
              "    </tr>\n",
              "    <tr>\n",
              "      <th>165</th>\n",
              "      <td>GRAHAM, RONALD LEWIS</td>\n",
              "      <td>199</td>\n",
              "      <td>10</td>\n",
              "      <td>0.022237</td>\n",
              "      <td>0.369485</td>\n",
              "    </tr>\n",
              "    <tr>\n",
              "      <th>289</th>\n",
              "      <td>LUCA, FLORIAN</td>\n",
              "      <td>194</td>\n",
              "      <td>3</td>\n",
              "      <td>0.023089</td>\n",
              "      <td>0.344867</td>\n",
              "    </tr>\n",
              "    <tr>\n",
              "      <th>219</th>\n",
              "      <td>HSU, DERBIAU FRANK</td>\n",
              "      <td>171</td>\n",
              "      <td>2</td>\n",
              "      <td>0.026378</td>\n",
              "      <td>0.347036</td>\n",
              "    </tr>\n",
              "    <tr>\n",
              "      <th>44</th>\n",
              "      <td>BOLLOBAS, BELA</td>\n",
              "      <td>168</td>\n",
              "      <td>10</td>\n",
              "      <td>0.015205</td>\n",
              "      <td>0.366409</td>\n",
              "    </tr>\n",
              "    <tr>\n",
              "      <th>341</th>\n",
              "      <td>PACH, JANOS</td>\n",
              "      <td>155</td>\n",
              "      <td>10</td>\n",
              "      <td>0.015536</td>\n",
              "      <td>0.359633</td>\n",
              "    </tr>\n",
              "    <tr>\n",
              "      <th>249</th>\n",
              "      <td>KLEITMAN, DANIEL J.</td>\n",
              "      <td>154</td>\n",
              "      <td>10</td>\n",
              "      <td>0.017621</td>\n",
              "      <td>0.360860</td>\n",
              "    </tr>\n",
              "    <tr>\n",
              "      <th>336</th>\n",
              "      <td>ODLYZKO, ANDREW MICHAEL</td>\n",
              "      <td>153</td>\n",
              "      <td>10</td>\n",
              "      <td>0.016041</td>\n",
              "      <td>0.355027</td>\n",
              "    </tr>\n",
              "  </tbody>\n",
              "</table>\n",
              "</div>"
            ],
            "text/plain": [
              "                      Node ID  Degree  Modularity class  \\\n",
              "0                 Erdos, Paul     511                10   \n",
              "10              ALON, NOGA M.     438                10   \n",
              "187             HARARY, FRANK     318                10   \n",
              "86   COLBOURN, CHARLES JOSEPH     245                10   \n",
              "479               TUZA, ZSOLT     226                10   \n",
              "421           SHELAH, SAHARON     224                 5   \n",
              "395            SALAMON, PETER     221                 6   \n",
              "498       WEST, DOUGLAS BRENT     202                10   \n",
              "165      GRAHAM, RONALD LEWIS     199                10   \n",
              "289             LUCA, FLORIAN     194                 3   \n",
              "219        HSU, DERBIAU FRANK     171                 2   \n",
              "44             BOLLOBAS, BELA     168                10   \n",
              "341               PACH, JANOS     155                10   \n",
              "249       KLEITMAN, DANIEL J.     154                10   \n",
              "336   ODLYZKO, ANDREW MICHAEL     153                10   \n",
              "\n",
              "     Betweenness centrality  Closeness centrality  \n",
              "0                  0.754279              0.511329  \n",
              "10                 0.053781              0.379180  \n",
              "187                0.038197              0.363155  \n",
              "86                 0.029156              0.352898  \n",
              "479                0.026389              0.365353  \n",
              "421                0.027771              0.347213  \n",
              "395                0.037471              0.342765  \n",
              "498                0.021248              0.357559  \n",
              "165                0.022237              0.369485  \n",
              "289                0.023089              0.344867  \n",
              "219                0.026378              0.347036  \n",
              "44                 0.015205              0.366409  \n",
              "341                0.015536              0.359633  \n",
              "249                0.017621              0.360860  \n",
              "336                0.016041              0.355027  "
            ]
          },
          "metadata": {}
        }
      ],
      "execution_count": 19,
      "metadata": {}
    },
    {
      "cell_type": "markdown",
      "source": [
        "Let us first study the betweenness centrality. We have normalized it, so the values range from 0 to 1. Here are the authors ranked by their betweenness centrality (we only displayed the 10 firsts):"
      ],
      "metadata": {}
    },
    {
      "cell_type": "code",
      "source": [
        "B_panda = data_centralities_raw[['Node ID', 'Betweenness centrality']]\n",
        "B_panda = B_panda.sort_values(by=['Betweenness centrality'], ascending=False)\n",
        "B_panda.head(11)"
      ],
      "outputs": [
        {
          "output_type": "execute_result",
          "execution_count": 20,
          "data": {
            "text/html": [
              "<div>\n",
              "<style scoped>\n",
              "    .dataframe tbody tr th:only-of-type {\n",
              "        vertical-align: middle;\n",
              "    }\n",
              "\n",
              "    .dataframe tbody tr th {\n",
              "        vertical-align: top;\n",
              "    }\n",
              "\n",
              "    .dataframe thead th {\n",
              "        text-align: right;\n",
              "    }\n",
              "</style>\n",
              "<table border=\"1\" class=\"dataframe\">\n",
              "  <thead>\n",
              "    <tr style=\"text-align: right;\">\n",
              "      <th></th>\n",
              "      <th>Node ID</th>\n",
              "      <th>Betweenness centrality</th>\n",
              "    </tr>\n",
              "  </thead>\n",
              "  <tbody>\n",
              "    <tr>\n",
              "      <th>0</th>\n",
              "      <td>Erdos, Paul</td>\n",
              "      <td>0.754279</td>\n",
              "    </tr>\n",
              "    <tr>\n",
              "      <th>10</th>\n",
              "      <td>ALON, NOGA M.</td>\n",
              "      <td>0.053781</td>\n",
              "    </tr>\n",
              "    <tr>\n",
              "      <th>187</th>\n",
              "      <td>HARARY, FRANK</td>\n",
              "      <td>0.038197</td>\n",
              "    </tr>\n",
              "    <tr>\n",
              "      <th>395</th>\n",
              "      <td>SALAMON, PETER</td>\n",
              "      <td>0.037471</td>\n",
              "    </tr>\n",
              "    <tr>\n",
              "      <th>86</th>\n",
              "      <td>COLBOURN, CHARLES JOSEPH</td>\n",
              "      <td>0.029156</td>\n",
              "    </tr>\n",
              "    <tr>\n",
              "      <th>421</th>\n",
              "      <td>SHELAH, SAHARON</td>\n",
              "      <td>0.027771</td>\n",
              "    </tr>\n",
              "    <tr>\n",
              "      <th>479</th>\n",
              "      <td>TUZA, ZSOLT</td>\n",
              "      <td>0.026389</td>\n",
              "    </tr>\n",
              "    <tr>\n",
              "      <th>219</th>\n",
              "      <td>HSU, DERBIAU FRANK</td>\n",
              "      <td>0.026378</td>\n",
              "    </tr>\n",
              "    <tr>\n",
              "      <th>289</th>\n",
              "      <td>LUCA, FLORIAN</td>\n",
              "      <td>0.023089</td>\n",
              "    </tr>\n",
              "    <tr>\n",
              "      <th>165</th>\n",
              "      <td>GRAHAM, RONALD LEWIS</td>\n",
              "      <td>0.022237</td>\n",
              "    </tr>\n",
              "    <tr>\n",
              "      <th>260</th>\n",
              "      <td>KOREN, ISRAEL</td>\n",
              "      <td>0.021787</td>\n",
              "    </tr>\n",
              "  </tbody>\n",
              "</table>\n",
              "</div>"
            ],
            "text/plain": [
              "                      Node ID  Betweenness centrality\n",
              "0                 Erdos, Paul                0.754279\n",
              "10              ALON, NOGA M.                0.053781\n",
              "187             HARARY, FRANK                0.038197\n",
              "395            SALAMON, PETER                0.037471\n",
              "86   COLBOURN, CHARLES JOSEPH                0.029156\n",
              "421           SHELAH, SAHARON                0.027771\n",
              "479               TUZA, ZSOLT                0.026389\n",
              "219        HSU, DERBIAU FRANK                0.026378\n",
              "289             LUCA, FLORIAN                0.023089\n",
              "165      GRAHAM, RONALD LEWIS                0.022237\n",
              "260             KOREN, ISRAEL                0.021787"
            ]
          },
          "metadata": {}
        }
      ],
      "execution_count": 20,
      "metadata": {}
    },
    {
      "cell_type": "markdown",
      "source": [
        "We can first notice that this ranking is not the same as the ranking according to the degree. The first three do not change. Most authors in this ranking by the betweenness were already in the ranking by the degree exept for WEST, DOUGLAS BRENT who is not among the first 11 anymore and KOREN, ISRAEL who appeared in the ranking. The other authors of the ranking have either lost or gained places. This gives us a new evaluation of the important nodes, very consistent with the evaluation by the degree. \n",
        "\n",
        "While the difference between Alon Noga and Erdös' degrees was not very high, here Erdös' betweenness is one order of magnitude above everyone else's, at 0.75 while Alon Noga has 0.05. Indeed, a lot of shortest paths going from one author to another go through Erdös' node: by definition, the other nodes are either linked to Erdös or to one of his neighbours. It is hence not a surprise that his betweenness is extremely high. \n",
        "\n",
        "We can explain why the ranking does not change a lot: the nodes with high degrees are all direct collaborators of Erdös. Since they have very high degrees, they have a lot of neighbours. Those neighbours, when looking for a shortest path to another node, will most probably have to go through Erdös since he connects very different parts of the graph, and the fastest way to reach Erdös is to go through their neighbour with a very high degree. Consequently, there are a lot of shortest paths which will go through the nodes with high degrees. Of course some shortest paths will not go through Erdös, but a majority of them will, so the degree is highly linked to the betweenness. \n",
        "\n",
        "Here is an image of the graph with the nodes size and color representing their betweenness. We only displayed the labels of the 20 nodes with the highest betweenness. \n",
        "\n",
        "\n",
        "<img src=\"Betweenness.png\", width=\"1000\">"
      ],
      "metadata": {}
    },
    {
      "cell_type": "markdown",
      "source": [
        "Now let us do the same thing for the closeness:"
      ],
      "metadata": {}
    },
    {
      "cell_type": "code",
      "source": [
        "C_panda = data_centralities_raw[['Node ID', 'Closeness centrality']]\n",
        "C_panda = C_panda.sort_values(by=['Closeness centrality'], ascending=False)\n",
        "C_panda.head(11)"
      ],
      "outputs": [
        {
          "output_type": "execute_result",
          "execution_count": 21,
          "data": {
            "text/html": [
              "<div>\n",
              "<style scoped>\n",
              "    .dataframe tbody tr th:only-of-type {\n",
              "        vertical-align: middle;\n",
              "    }\n",
              "\n",
              "    .dataframe tbody tr th {\n",
              "        vertical-align: top;\n",
              "    }\n",
              "\n",
              "    .dataframe thead th {\n",
              "        text-align: right;\n",
              "    }\n",
              "</style>\n",
              "<table border=\"1\" class=\"dataframe\">\n",
              "  <thead>\n",
              "    <tr style=\"text-align: right;\">\n",
              "      <th></th>\n",
              "      <th>Node ID</th>\n",
              "      <th>Closeness centrality</th>\n",
              "    </tr>\n",
              "  </thead>\n",
              "  <tbody>\n",
              "    <tr>\n",
              "      <th>0</th>\n",
              "      <td>Erdos, Paul</td>\n",
              "      <td>0.511329</td>\n",
              "    </tr>\n",
              "    <tr>\n",
              "      <th>10</th>\n",
              "      <td>ALON, NOGA M.</td>\n",
              "      <td>0.379180</td>\n",
              "    </tr>\n",
              "    <tr>\n",
              "      <th>165</th>\n",
              "      <td>GRAHAM, RONALD LEWIS</td>\n",
              "      <td>0.369485</td>\n",
              "    </tr>\n",
              "    <tr>\n",
              "      <th>378</th>\n",
              "      <td>RODL, VOJTECH</td>\n",
              "      <td>0.367238</td>\n",
              "    </tr>\n",
              "    <tr>\n",
              "      <th>44</th>\n",
              "      <td>BOLLOBAS, BELA</td>\n",
              "      <td>0.366409</td>\n",
              "    </tr>\n",
              "    <tr>\n",
              "      <th>479</th>\n",
              "      <td>TUZA, ZSOLT</td>\n",
              "      <td>0.365353</td>\n",
              "    </tr>\n",
              "    <tr>\n",
              "      <th>440</th>\n",
              "      <td>SPENCER, JOEL HAROLD</td>\n",
              "      <td>0.364498</td>\n",
              "    </tr>\n",
              "    <tr>\n",
              "      <th>78</th>\n",
              "      <td>CHUNG, FAN RONG KING (GRAHAM</td>\n",
              "      <td>0.364176</td>\n",
              "    </tr>\n",
              "    <tr>\n",
              "      <th>148</th>\n",
              "      <td>FUREDI, ZOLTAN</td>\n",
              "      <td>0.363912</td>\n",
              "    </tr>\n",
              "    <tr>\n",
              "      <th>326</th>\n",
              "      <td>NESETRIL, JAROSLAV</td>\n",
              "      <td>0.363808</td>\n",
              "    </tr>\n",
              "    <tr>\n",
              "      <th>187</th>\n",
              "      <td>HARARY, FRANK</td>\n",
              "      <td>0.363155</td>\n",
              "    </tr>\n",
              "  </tbody>\n",
              "</table>\n",
              "</div>"
            ],
            "text/plain": [
              "                          Node ID  Closeness centrality\n",
              "0                     Erdos, Paul              0.511329\n",
              "10                  ALON, NOGA M.              0.379180\n",
              "165          GRAHAM, RONALD LEWIS              0.369485\n",
              "378                 RODL, VOJTECH              0.367238\n",
              "44                 BOLLOBAS, BELA              0.366409\n",
              "479                   TUZA, ZSOLT              0.365353\n",
              "440          SPENCER, JOEL HAROLD              0.364498\n",
              "78   CHUNG, FAN RONG KING (GRAHAM              0.364176\n",
              "148                FUREDI, ZOLTAN              0.363912\n",
              "326            NESETRIL, JAROSLAV              0.363808\n",
              "187                 HARARY, FRANK              0.363155"
            ]
          },
          "metadata": {}
        }
      ],
      "execution_count": 21,
      "metadata": {}
    },
    {
      "cell_type": "markdown",
      "source": [
        "Here the ranking changes more: 6 mathematicians out of 11 were not in the previous rankings. Erdös and Alon are still the two firsts, but no other authors kept their original ranking. For instance even though HARARY, FRANK has a degree of \n",
        "318 and GRAHAM, RONALD LEWIS only has 199, Graham is more central than Harary with a closeness centrality of 0.369 for Graham and of 0.363 for Harary. We can remark that the values are quite close though.\n",
        "\n",
        "Once again, since the closeness measures how close one node is from all the others, it is very high for Erdös. He was indeed placed at the center of the network by definition. But contrarely to the betweenness centrality, here the values are less widely spread than for the betweenness centrality: Erdös has approximately 0.5, his collaborators have between 0.3 and 0.4, and the collaborators of his collaborators have around 0.2. \n",
        "\n",
        "Here is an image of the graph with the nodes size and color representing their closeness. We only displayed the labels of the 20 nodes with the highest closeness. The color scale is the same as the previous graph: the predominance of Erdös is less obvious here, even though is is still clear that his node is the biggest. The closeness of the other nodes is not very far from his. \n",
        "\n",
        "<img src=\"Closeness.png\", width=\"1000\">"
      ],
      "metadata": {}
    },
    {
      "cell_type": "markdown",
      "source": [
        "To conclude on the centralities, it appears that the importance of the different nodes was made quite clear by measuring their degrees. The geometric centrality measures that we studied showed us other authors who are important in the network even though their degree is not so high, either because they have a high betweenness or a high closeness. Finally, there is a correlation between the degree and the two centrality measures: the nodes with a high centrality have a high degree and are direct collaborators of Erdös. One last thing that could be helpful is to look at the communities. They are shown on this graph:\n",
        "\n",
        "<img src=\"Community.png\", width=\"1000\">"
      ],
      "metadata": {}
    },
    {
      "cell_type": "markdown",
      "source": [
        "The algorithm detected 11 communities. Some are quite small, with only a dozen of nodes, but others are way larger with thousands of nodes. We would like to see if this partition corresponds to parameters such as the domain of activity of the author or the country they work in.\n",
        "To do so, we look at the 5 authors with the highest degree in each community. It would be more accurate to look at more authors in each community, but it would take too much time. We consider that the authors with the highest degrees are the centers of their communities and are enough to be able to describe those communities. This is probably more true in the smallest communities, and probably wrong in the biggests. "
      ],
      "metadata": {}
    },
    {
      "cell_type": "code",
      "source": [
        "Com = [0,1,2,3,4,5,6,7,8,9,10]\n",
        "Size = [0.1, 0.1, 2.4, 13.5, 3.7, 7.7, 1.9, 0.2, 8.4, 4.4, 57.6]\n",
        "Max_d = [8, 11, 171, 194, 133, 224, 221, 16, 96, 140, 511]\n",
        "Act = ['number theory', 'algebra, logic, statistics, number theory, computer science', 'data science, computer science, number theory, discrete mathematics, automorphic functions', 'number theory and computer science', 'cryptography, information theory, computer science, networks', 'logic, set theory, applied mathematics, geometry, computer science', 'biomathematics, geometrical thermodynamics, physics, computer science', 'computer science, algebra, number theory, group theory', 'computer science, analysis, logic, partial differential equations', 'algebra, information theory, computer science, graph theory, random walk', 'discrete mathematics, graph theory, combinatorics, computer science, geometry']\n",
        "Work = ['US and other', 'Israel (4), Germany', 'US', 'US, Germany, UK, Poland', 'Israel (4) and US (1)', 'Israel, US, UK', 'US, UK, Israel', 'US', 'US', 'US, Germany, Russia, Hungary', 'US (3), Canada, Hungary']\n",
        "\n",
        "\n",
        "data_communities = {'Community': Com, 'Size (%)': Size, 'Maximum degree': Max_d, 'Domains of activity': Act, 'Work country': Work}\n",
        "communities_panda = pd.DataFrame(data_communities)\n",
        "pd.options.display.max_colwidth = 500\n",
        "communities_panda = communities_panda.sort_values(by=['Size (%)'], ascending=False)\n",
        "communities_panda = communities_panda.style.hide_index()\n",
        "communities_panda"
      ],
      "outputs": [
        {
          "output_type": "execute_result",
          "execution_count": 22,
          "data": {
            "text/html": [
              "<style  type=\"text/css\" >\n",
              "</style><table id=\"T_65325e78_1cca_11ea_bd40_240a64ca56a9\" ><thead>    <tr>        <th class=\"col_heading level0 col0\" >Community</th>        <th class=\"col_heading level0 col1\" >Size (%)</th>        <th class=\"col_heading level0 col2\" >Maximum degree</th>        <th class=\"col_heading level0 col3\" >Domains of activity</th>        <th class=\"col_heading level0 col4\" >Work country</th>    </tr></thead><tbody>\n",
              "                <tr>\n",
              "                                <td id=\"T_65325e78_1cca_11ea_bd40_240a64ca56a9row0_col0\" class=\"data row0 col0\" >10</td>\n",
              "                        <td id=\"T_65325e78_1cca_11ea_bd40_240a64ca56a9row0_col1\" class=\"data row0 col1\" >57.6</td>\n",
              "                        <td id=\"T_65325e78_1cca_11ea_bd40_240a64ca56a9row0_col2\" class=\"data row0 col2\" >511</td>\n",
              "                        <td id=\"T_65325e78_1cca_11ea_bd40_240a64ca56a9row0_col3\" class=\"data row0 col3\" >discrete mathematics, graph theory, combinatorics, computer science, geometry</td>\n",
              "                        <td id=\"T_65325e78_1cca_11ea_bd40_240a64ca56a9row0_col4\" class=\"data row0 col4\" >US (3), Canada, Hungary</td>\n",
              "            </tr>\n",
              "            <tr>\n",
              "                                <td id=\"T_65325e78_1cca_11ea_bd40_240a64ca56a9row1_col0\" class=\"data row1 col0\" >3</td>\n",
              "                        <td id=\"T_65325e78_1cca_11ea_bd40_240a64ca56a9row1_col1\" class=\"data row1 col1\" >13.5</td>\n",
              "                        <td id=\"T_65325e78_1cca_11ea_bd40_240a64ca56a9row1_col2\" class=\"data row1 col2\" >194</td>\n",
              "                        <td id=\"T_65325e78_1cca_11ea_bd40_240a64ca56a9row1_col3\" class=\"data row1 col3\" >number theory and computer science</td>\n",
              "                        <td id=\"T_65325e78_1cca_11ea_bd40_240a64ca56a9row1_col4\" class=\"data row1 col4\" >US, Germany, UK, Poland</td>\n",
              "            </tr>\n",
              "            <tr>\n",
              "                                <td id=\"T_65325e78_1cca_11ea_bd40_240a64ca56a9row2_col0\" class=\"data row2 col0\" >8</td>\n",
              "                        <td id=\"T_65325e78_1cca_11ea_bd40_240a64ca56a9row2_col1\" class=\"data row2 col1\" >8.4</td>\n",
              "                        <td id=\"T_65325e78_1cca_11ea_bd40_240a64ca56a9row2_col2\" class=\"data row2 col2\" >96</td>\n",
              "                        <td id=\"T_65325e78_1cca_11ea_bd40_240a64ca56a9row2_col3\" class=\"data row2 col3\" >computer science, analysis, logic, partial differential equations</td>\n",
              "                        <td id=\"T_65325e78_1cca_11ea_bd40_240a64ca56a9row2_col4\" class=\"data row2 col4\" >US</td>\n",
              "            </tr>\n",
              "            <tr>\n",
              "                                <td id=\"T_65325e78_1cca_11ea_bd40_240a64ca56a9row3_col0\" class=\"data row3 col0\" >5</td>\n",
              "                        <td id=\"T_65325e78_1cca_11ea_bd40_240a64ca56a9row3_col1\" class=\"data row3 col1\" >7.7</td>\n",
              "                        <td id=\"T_65325e78_1cca_11ea_bd40_240a64ca56a9row3_col2\" class=\"data row3 col2\" >224</td>\n",
              "                        <td id=\"T_65325e78_1cca_11ea_bd40_240a64ca56a9row3_col3\" class=\"data row3 col3\" >logic, set theory, applied mathematics, geometry, computer science</td>\n",
              "                        <td id=\"T_65325e78_1cca_11ea_bd40_240a64ca56a9row3_col4\" class=\"data row3 col4\" >Israel, US, UK</td>\n",
              "            </tr>\n",
              "            <tr>\n",
              "                                <td id=\"T_65325e78_1cca_11ea_bd40_240a64ca56a9row4_col0\" class=\"data row4 col0\" >9</td>\n",
              "                        <td id=\"T_65325e78_1cca_11ea_bd40_240a64ca56a9row4_col1\" class=\"data row4 col1\" >4.4</td>\n",
              "                        <td id=\"T_65325e78_1cca_11ea_bd40_240a64ca56a9row4_col2\" class=\"data row4 col2\" >140</td>\n",
              "                        <td id=\"T_65325e78_1cca_11ea_bd40_240a64ca56a9row4_col3\" class=\"data row4 col3\" >algebra, information theory, computer science, graph theory, random walk</td>\n",
              "                        <td id=\"T_65325e78_1cca_11ea_bd40_240a64ca56a9row4_col4\" class=\"data row4 col4\" >US, Germany, Russia, Hungary</td>\n",
              "            </tr>\n",
              "            <tr>\n",
              "                                <td id=\"T_65325e78_1cca_11ea_bd40_240a64ca56a9row5_col0\" class=\"data row5 col0\" >4</td>\n",
              "                        <td id=\"T_65325e78_1cca_11ea_bd40_240a64ca56a9row5_col1\" class=\"data row5 col1\" >3.7</td>\n",
              "                        <td id=\"T_65325e78_1cca_11ea_bd40_240a64ca56a9row5_col2\" class=\"data row5 col2\" >133</td>\n",
              "                        <td id=\"T_65325e78_1cca_11ea_bd40_240a64ca56a9row5_col3\" class=\"data row5 col3\" >cryptography, information theory, computer science, networks</td>\n",
              "                        <td id=\"T_65325e78_1cca_11ea_bd40_240a64ca56a9row5_col4\" class=\"data row5 col4\" >Israel (4) and US (1)</td>\n",
              "            </tr>\n",
              "            <tr>\n",
              "                                <td id=\"T_65325e78_1cca_11ea_bd40_240a64ca56a9row6_col0\" class=\"data row6 col0\" >2</td>\n",
              "                        <td id=\"T_65325e78_1cca_11ea_bd40_240a64ca56a9row6_col1\" class=\"data row6 col1\" >2.4</td>\n",
              "                        <td id=\"T_65325e78_1cca_11ea_bd40_240a64ca56a9row6_col2\" class=\"data row6 col2\" >171</td>\n",
              "                        <td id=\"T_65325e78_1cca_11ea_bd40_240a64ca56a9row6_col3\" class=\"data row6 col3\" >data science, computer science, number theory, discrete mathematics, automorphic functions</td>\n",
              "                        <td id=\"T_65325e78_1cca_11ea_bd40_240a64ca56a9row6_col4\" class=\"data row6 col4\" >US</td>\n",
              "            </tr>\n",
              "            <tr>\n",
              "                                <td id=\"T_65325e78_1cca_11ea_bd40_240a64ca56a9row7_col0\" class=\"data row7 col0\" >6</td>\n",
              "                        <td id=\"T_65325e78_1cca_11ea_bd40_240a64ca56a9row7_col1\" class=\"data row7 col1\" >1.9</td>\n",
              "                        <td id=\"T_65325e78_1cca_11ea_bd40_240a64ca56a9row7_col2\" class=\"data row7 col2\" >221</td>\n",
              "                        <td id=\"T_65325e78_1cca_11ea_bd40_240a64ca56a9row7_col3\" class=\"data row7 col3\" >biomathematics, geometrical thermodynamics, physics, computer science</td>\n",
              "                        <td id=\"T_65325e78_1cca_11ea_bd40_240a64ca56a9row7_col4\" class=\"data row7 col4\" >US, UK, Israel</td>\n",
              "            </tr>\n",
              "            <tr>\n",
              "                                <td id=\"T_65325e78_1cca_11ea_bd40_240a64ca56a9row8_col0\" class=\"data row8 col0\" >7</td>\n",
              "                        <td id=\"T_65325e78_1cca_11ea_bd40_240a64ca56a9row8_col1\" class=\"data row8 col1\" >0.2</td>\n",
              "                        <td id=\"T_65325e78_1cca_11ea_bd40_240a64ca56a9row8_col2\" class=\"data row8 col2\" >16</td>\n",
              "                        <td id=\"T_65325e78_1cca_11ea_bd40_240a64ca56a9row8_col3\" class=\"data row8 col3\" >computer science, algebra, number theory, group theory</td>\n",
              "                        <td id=\"T_65325e78_1cca_11ea_bd40_240a64ca56a9row8_col4\" class=\"data row8 col4\" >US</td>\n",
              "            </tr>\n",
              "            <tr>\n",
              "                                <td id=\"T_65325e78_1cca_11ea_bd40_240a64ca56a9row9_col0\" class=\"data row9 col0\" >0</td>\n",
              "                        <td id=\"T_65325e78_1cca_11ea_bd40_240a64ca56a9row9_col1\" class=\"data row9 col1\" >0.1</td>\n",
              "                        <td id=\"T_65325e78_1cca_11ea_bd40_240a64ca56a9row9_col2\" class=\"data row9 col2\" >8</td>\n",
              "                        <td id=\"T_65325e78_1cca_11ea_bd40_240a64ca56a9row9_col3\" class=\"data row9 col3\" >number theory</td>\n",
              "                        <td id=\"T_65325e78_1cca_11ea_bd40_240a64ca56a9row9_col4\" class=\"data row9 col4\" >US and other</td>\n",
              "            </tr>\n",
              "            <tr>\n",
              "                                <td id=\"T_65325e78_1cca_11ea_bd40_240a64ca56a9row10_col0\" class=\"data row10 col0\" >1</td>\n",
              "                        <td id=\"T_65325e78_1cca_11ea_bd40_240a64ca56a9row10_col1\" class=\"data row10 col1\" >0.1</td>\n",
              "                        <td id=\"T_65325e78_1cca_11ea_bd40_240a64ca56a9row10_col2\" class=\"data row10 col2\" >11</td>\n",
              "                        <td id=\"T_65325e78_1cca_11ea_bd40_240a64ca56a9row10_col3\" class=\"data row10 col3\" >algebra, logic, statistics, number theory, computer science</td>\n",
              "                        <td id=\"T_65325e78_1cca_11ea_bd40_240a64ca56a9row10_col4\" class=\"data row10 col4\" >Israel (4), Germany</td>\n",
              "            </tr>\n",
              "    </tbody></table>"
            ],
            "text/plain": [
              "<pandas.io.formats.style.Styler at 0x7f4998826160>"
            ]
          },
          "metadata": {}
        }
      ],
      "execution_count": 22,
      "metadata": {}
    },
    {
      "cell_type": "markdown",
      "source": [
        "The table above shows for each community the portion of nodes from the network it contains, the maximum degree, the domains of activity of the 5 researchers with the highest degree and the country in which they work. \n",
        "\n",
        "The community 0 is composed of ASHBACHER, CHARLES D. and his co-authors (without Erdös), and the community 1 is made of ZIV, ABRAHAM and GISBURG, ABRAHAM and their collaborators. Those two groups were two of the connected components which appeared when we took Erdös' node off, so we get why they are considered as two distinct communities: they are weakly connected to the rest of the network, and well connected inside the community. \n",
        "The other communities do not correspond to the connected components we studied in the last section, they are larger. There is one community, number 10, which is composed of more than half of the network, it is Erdös' community. The others are smaller. \n",
        "\n",
        "For the smallest communities we can see that the localisation of the authors plays a role. Indeed, the community 1 is mainly based is Israel, the community 0 and 7 in the US (we couldn't find the localisation of all the authors). Since those are small communities with 0.1% or 0.2% of the network nodes we can assume that those are indeed communities mostly based in one country. The fields of research vary a lot: we cannot say that the communities are based on the it. Inside one community there can be a lot of different domains. The only exception is community 0 which only studies number theory.\n",
        "\n",
        "For bigger communities we can also see sometimes one dominant country: the US for communities 8 and 2 and Israel for community 4. But since there are way more than 5 authors inside those communities it may not be relevant to consider that they are all mainly based in one country. \n",
        "\n",
        "On a closing note, we can say that the smallest communities are based on the authors' location, but not really on their research field. The other communities are too big to say anything on the location. If we wanted more relevant communities we should make smaller groups, which is possible thanks to the Gephi algorithm. But it would be impossible to analyse them the way we did here because there would be too many."
      ],
      "metadata": {}
    },
    {
      "cell_type": "markdown",
      "source": [
        "## 5 - From the Erdös Number to the Alon Number"
      ],
      "metadata": {}
    },
    {
      "cell_type": "markdown",
      "source": [
        "What is the average Erdös number for a researcher today? Let us look at the mathematicians from the geometry team of the ENS of Lyon. We use the *MathSciNet* distance calculator [10]. We did not display the researchers who were not on the data base of the distance calculator (because they did not write any papers): 4 members are not shown."
      ],
      "metadata": {}
    },
    {
      "cell_type": "code",
      "source": [
        "data_geometry = {'Name': ['Aurélien Alvarez', 'Claude Danthony', 'Mikael De la Salle', 'Damien Gaboriau', 'Etienne Ghys', 'Alexey Glutsyuk', 'Adrien Le Boudec', 'Amine Marrakchi', 'Marco Mazzucchelli', 'Bruno Sevennec', 'Jean-Claude Sikorav', 'Alexei Tsugvintsev', 'Abdelghani Zeghib', 'Laurent Bartholdi', 'Dominik Francoeur', 'Auguste Hebert', 'Paul-Henry Leemann', 'Valentine Roos', 'Mario Shannon', 'Simon Allais', 'Matthieu Joseph', 'Kambiz Moghaddamfar'], 'Function': ['Permanent member', 'Permanent member', 'Permanent member', 'Permanent member', 'Permanent member', 'Permanent member', 'Permanent member', 'Permanent member', 'Permanent member', 'Permanent member', 'Permanent member', 'Permanent member', 'Permanent member', 'Visiting professor', 'Postdoc', 'Postdoc', 'Postdoc', 'Postdoc', 'Postdoc', 'Ph.D. Student', 'Ph.D. Student', 'Ph.D. Student'], 'Erdös Number': [3,3,3,3,4,4,4,5,4,3,5,4,4,3,5,6,4,'inf',5,'inf',4,4]}\n",
        "geometry_panda = pd.DataFrame(data_geometry)\n",
        "pd.options.display.max_colwidth = 500\n",
        "geometry_panda"
      ],
      "outputs": [
        {
          "output_type": "execute_result",
          "execution_count": 23,
          "data": {
            "text/html": [
              "<div>\n",
              "<style scoped>\n",
              "    .dataframe tbody tr th:only-of-type {\n",
              "        vertical-align: middle;\n",
              "    }\n",
              "\n",
              "    .dataframe tbody tr th {\n",
              "        vertical-align: top;\n",
              "    }\n",
              "\n",
              "    .dataframe thead th {\n",
              "        text-align: right;\n",
              "    }\n",
              "</style>\n",
              "<table border=\"1\" class=\"dataframe\">\n",
              "  <thead>\n",
              "    <tr style=\"text-align: right;\">\n",
              "      <th></th>\n",
              "      <th>Name</th>\n",
              "      <th>Function</th>\n",
              "      <th>Erdös Number</th>\n",
              "    </tr>\n",
              "  </thead>\n",
              "  <tbody>\n",
              "    <tr>\n",
              "      <th>0</th>\n",
              "      <td>Aurélien Alvarez</td>\n",
              "      <td>Permanent member</td>\n",
              "      <td>3</td>\n",
              "    </tr>\n",
              "    <tr>\n",
              "      <th>1</th>\n",
              "      <td>Claude Danthony</td>\n",
              "      <td>Permanent member</td>\n",
              "      <td>3</td>\n",
              "    </tr>\n",
              "    <tr>\n",
              "      <th>2</th>\n",
              "      <td>Mikael De la Salle</td>\n",
              "      <td>Permanent member</td>\n",
              "      <td>3</td>\n",
              "    </tr>\n",
              "    <tr>\n",
              "      <th>3</th>\n",
              "      <td>Damien Gaboriau</td>\n",
              "      <td>Permanent member</td>\n",
              "      <td>3</td>\n",
              "    </tr>\n",
              "    <tr>\n",
              "      <th>4</th>\n",
              "      <td>Etienne Ghys</td>\n",
              "      <td>Permanent member</td>\n",
              "      <td>4</td>\n",
              "    </tr>\n",
              "    <tr>\n",
              "      <th>5</th>\n",
              "      <td>Alexey Glutsyuk</td>\n",
              "      <td>Permanent member</td>\n",
              "      <td>4</td>\n",
              "    </tr>\n",
              "    <tr>\n",
              "      <th>6</th>\n",
              "      <td>Adrien Le Boudec</td>\n",
              "      <td>Permanent member</td>\n",
              "      <td>4</td>\n",
              "    </tr>\n",
              "    <tr>\n",
              "      <th>7</th>\n",
              "      <td>Amine Marrakchi</td>\n",
              "      <td>Permanent member</td>\n",
              "      <td>5</td>\n",
              "    </tr>\n",
              "    <tr>\n",
              "      <th>8</th>\n",
              "      <td>Marco Mazzucchelli</td>\n",
              "      <td>Permanent member</td>\n",
              "      <td>4</td>\n",
              "    </tr>\n",
              "    <tr>\n",
              "      <th>9</th>\n",
              "      <td>Bruno Sevennec</td>\n",
              "      <td>Permanent member</td>\n",
              "      <td>3</td>\n",
              "    </tr>\n",
              "    <tr>\n",
              "      <th>10</th>\n",
              "      <td>Jean-Claude Sikorav</td>\n",
              "      <td>Permanent member</td>\n",
              "      <td>5</td>\n",
              "    </tr>\n",
              "    <tr>\n",
              "      <th>11</th>\n",
              "      <td>Alexei Tsugvintsev</td>\n",
              "      <td>Permanent member</td>\n",
              "      <td>4</td>\n",
              "    </tr>\n",
              "    <tr>\n",
              "      <th>12</th>\n",
              "      <td>Abdelghani Zeghib</td>\n",
              "      <td>Permanent member</td>\n",
              "      <td>4</td>\n",
              "    </tr>\n",
              "    <tr>\n",
              "      <th>13</th>\n",
              "      <td>Laurent Bartholdi</td>\n",
              "      <td>Visiting professor</td>\n",
              "      <td>3</td>\n",
              "    </tr>\n",
              "    <tr>\n",
              "      <th>14</th>\n",
              "      <td>Dominik Francoeur</td>\n",
              "      <td>Postdoc</td>\n",
              "      <td>5</td>\n",
              "    </tr>\n",
              "    <tr>\n",
              "      <th>15</th>\n",
              "      <td>Auguste Hebert</td>\n",
              "      <td>Postdoc</td>\n",
              "      <td>6</td>\n",
              "    </tr>\n",
              "    <tr>\n",
              "      <th>16</th>\n",
              "      <td>Paul-Henry Leemann</td>\n",
              "      <td>Postdoc</td>\n",
              "      <td>4</td>\n",
              "    </tr>\n",
              "    <tr>\n",
              "      <th>17</th>\n",
              "      <td>Valentine Roos</td>\n",
              "      <td>Postdoc</td>\n",
              "      <td>inf</td>\n",
              "    </tr>\n",
              "    <tr>\n",
              "      <th>18</th>\n",
              "      <td>Mario Shannon</td>\n",
              "      <td>Postdoc</td>\n",
              "      <td>5</td>\n",
              "    </tr>\n",
              "    <tr>\n",
              "      <th>19</th>\n",
              "      <td>Simon Allais</td>\n",
              "      <td>Ph.D. Student</td>\n",
              "      <td>inf</td>\n",
              "    </tr>\n",
              "    <tr>\n",
              "      <th>20</th>\n",
              "      <td>Matthieu Joseph</td>\n",
              "      <td>Ph.D. Student</td>\n",
              "      <td>4</td>\n",
              "    </tr>\n",
              "    <tr>\n",
              "      <th>21</th>\n",
              "      <td>Kambiz Moghaddamfar</td>\n",
              "      <td>Ph.D. Student</td>\n",
              "      <td>4</td>\n",
              "    </tr>\n",
              "  </tbody>\n",
              "</table>\n",
              "</div>"
            ],
            "text/plain": [
              "                   Name            Function Erdös Number\n",
              "0      Aurélien Alvarez    Permanent member            3\n",
              "1       Claude Danthony    Permanent member            3\n",
              "2    Mikael De la Salle    Permanent member            3\n",
              "3       Damien Gaboriau    Permanent member            3\n",
              "4          Etienne Ghys    Permanent member            4\n",
              "5       Alexey Glutsyuk    Permanent member            4\n",
              "6      Adrien Le Boudec    Permanent member            4\n",
              "7       Amine Marrakchi    Permanent member            5\n",
              "8    Marco Mazzucchelli    Permanent member            4\n",
              "9        Bruno Sevennec    Permanent member            3\n",
              "10  Jean-Claude Sikorav    Permanent member            5\n",
              "11   Alexei Tsugvintsev    Permanent member            4\n",
              "12    Abdelghani Zeghib    Permanent member            4\n",
              "13    Laurent Bartholdi  Visiting professor            3\n",
              "14    Dominik Francoeur             Postdoc            5\n",
              "15       Auguste Hebert             Postdoc            6\n",
              "16   Paul-Henry Leemann             Postdoc            4\n",
              "17       Valentine Roos             Postdoc          inf\n",
              "18        Mario Shannon             Postdoc            5\n",
              "19         Simon Allais       Ph.D. Student          inf\n",
              "20      Matthieu Joseph       Ph.D. Student            4\n",
              "21  Kambiz Moghaddamfar       Ph.D. Student            4"
            ]
          },
          "metadata": {}
        }
      ],
      "execution_count": 23,
      "metadata": {}
    },
    {
      "cell_type": "markdown",
      "source": [
        "Those data yield an average Erdös number of 4 for this research team when we ignore the infinite values, which are due to the fact that the researcher is not in the same connected component as Erdös on the whole collaboration graph. The *Erdös Number Project* webpage tells us that for all researchers the Erdös number is in average 4.6 with a standard deviation of 1.2. Consequently, the researchers of the geometry team are quite well representative of the research population. It appears also that the Erdös numbers are never really high: except for those with an infinite value, the maximum Erdös number of our data is 6. The largest known Erdös number is 13, and only 2% of the researchers have a number higher than 8."
      ],
      "metadata": {}
    },
    {
      "cell_type": "markdown",
      "source": [
        "With our data, let us see what changes if instead of measuring the Erdös number, we define the Alon number: the length of the shortest path between any author and Alon, who is the second author with the most co-authors after Erdös. \n",
        "\n",
        "To do so, we look at all the shortest paths from Alon Noga to any node. Since the diameter of the graph is 4, the maximum Alon Number is 4."
      ],
      "metadata": {}
    },
    {
      "cell_type": "code",
      "source": [
        "Alon_nb = [0 for i in range (0,4)]\n",
        "ref = 'ALON, NOGA M.'\n",
        "\n",
        "for node in G.nodes():\n",
        "    path = len(nx.shortest_path(G, ref, node))\n",
        "    Alon_nb[path-1] += 1\n",
        "\n",
        "print(Alon_nb)"
      ],
      "outputs": [
        {
          "output_type": "stream",
          "name": "stdout",
          "text": [
            "[1, 436, 3307, 7782]\n"
          ]
        }
      ],
      "execution_count": 24,
      "metadata": {}
    },
    {
      "cell_type": "markdown",
      "source": [
        "We get that one author has an Alon number of 0, 436 have the number 1, 3307 the number 2 and 7782 the number 3.\n",
        "\n",
        "It may be more interesting to see what the Alon Number looks like in a graph without Erdös, so that the maximum value is not too much biased by the way this graph was built. Let us do the same as above, but on the largest connected component of G2. Since the diameter of the largest connected component of G2 is 12, the distribution should be sparser than on G."
      ],
      "metadata": {}
    },
    {
      "cell_type": "code",
      "source": [
        "Alon_nb2 = [0 for i in range (1,12)]\n",
        "ref = 'ALON, NOGA M.'\n",
        "List_Alon_nb = []\n",
        "\n",
        "for node in CC[0].nodes():\n",
        "    path = len(nx.shortest_path(CC[0], ref, node))\n",
        "    Alon_nb2[path-1] += 1\n",
        "    List_Alon_nb.append(path-1)\n",
        "\n",
        "print(Alon_nb2)"
      ],
      "outputs": [
        {
          "output_type": "stream",
          "name": "stdout",
          "text": [
            "[1, 435, 3067, 5305, 2070, 560, 41, 1, 0, 0, 0]\n"
          ]
        }
      ],
      "execution_count": 25,
      "metadata": {}
    },
    {
      "cell_type": "markdown",
      "source": [
        "Let us show the distribution of the Alon number in both graphs, G and G2, and the Erdös number distribution in the geometry team of the ENS:"
      ],
      "metadata": {}
    },
    {
      "cell_type": "code",
      "source": [
        "Erdos_nb = [3,3,3,3,4,4,4,5,4,3,5,4,4,3,5,6,4,5,4,4]\n",
        "Erdos_distribution = [0, 0, 0, 0, 0, 0, 0, 0, 0, 0, 0]\n",
        "\n",
        "for en in Erdos_nb:\n",
        "    Erdos_distribution[en] += 1\n",
        "print(Erdos_distribution)"
      ],
      "outputs": [
        {
          "output_type": "stream",
          "name": "stdout",
          "text": [
            "[0, 0, 0, 6, 9, 4, 1, 0, 0, 0, 0]\n"
          ]
        }
      ],
      "execution_count": 26,
      "metadata": {}
    },
    {
      "cell_type": "code",
      "source": [
        "plt.figure(figsize=(13,5))\n",
        "plt.subplot(121)\n",
        "plt.plot(Alon_nb, label = 'Graph with Erdös')\n",
        "plt.plot(Alon_nb2, label = 'Graph without Erdös')\n",
        "plt.xlabel('Alon Number')\n",
        "plt.ylabel('Number of nodes')\n",
        "plt.legend()\n",
        "\n",
        "plt.subplot(122)\n",
        "plt.plot(Erdos_distribution)\n",
        "plt.xlabel('Erdös Number')\n",
        "plt.ylabel('Number of nodes')\n",
        "plt.show()"
      ],
      "outputs": [
        {
          "output_type": "display_data",
          "data": {
            "image/png": "[encoded data removed]",
            "text/plain": [
              "<Figure size 936x360 with 2 Axes>"
            ]
          },
          "metadata": {}
        }
      ],
      "execution_count": 27,
      "metadata": {}
    },
    {
      "cell_type": "code",
      "source": [
        "Std_Erdos = st.stdev(Erdos_nb)\n",
        "Std_Alon = st.stdev(List_Alon_nb)\n",
        "\n",
        "M_Erdos = st.mean(Erdos_nb)\n",
        "M_Alon = st.mean(List_Alon_nb)\n",
        "\n",
        "print('Standard deviation for the Erdös number distribution: ', Std_Erdos)\n",
        "print('Standard deviation for the Alon number distribution: ', Std_Alon)\n",
        "\n",
        "print('Mean of the Erdös number distribution: ', M_Erdos)\n",
        "print('Mean of the Alon number distribution: ', M_Alon)"
      ],
      "outputs": [
        {
          "output_type": "stream",
          "name": "stdout",
          "text": [
            "Standard deviation for the Erdös number distribution:  0.8583950752789521\n",
            "Standard deviation for the Alon number distribution:  0.908631493135608\n",
            "Mean of the Erdös number distribution:  4\n",
            "Mean of the Alon number distribution:  2.9457317073170732\n"
          ]
        }
      ],
      "execution_count": 28,
      "metadata": {}
    },
    {
      "cell_type": "markdown",
      "source": [
        "The Erdos number and the Alon number distributions look quite alike: they have a similar shape and almost the same standard deviation (0.86 and 0.91). The means are also different: 4 for the Erdös number, 3 for the Alon number. The problem is that the two distributions are not really relevant to compare: the Erdös number is computed for scientists in the whole collaboration graph while the Alon number is computed for the authors at a maximum distance of 2 from Erdös. It is not very surprising that the mean is lower for the Alon number: we only look at people close to Alon.\n",
        "\n",
        "One last thing we can check is the Alon number of the researchers fro the geometry team. That way, we are sure to be able to compare the two distribution since they both come from the same dataset. We use here again the *MathSciNet* distance calculator."
      ],
      "metadata": {}
    },
    {
      "cell_type": "code",
      "source": [
        "data_geometry2 = {'Name': ['Aurélien Alvarez', 'Claude Danthony', 'Mikael De la Salle', 'Damien Gaboriau', 'Etienne Ghys', 'Alexey Glutsyuk', 'Adrien Le Boudec', 'Amine Marrakchi', 'Marco Mazzucchelli', 'Bruno Sevennec', 'Jean-Claude Sikorav', 'Alexei Tsugvintsev', 'Abdelghani Zeghib', 'Laurent Bartholdi', 'Dominik Francoeur', 'Auguste Hebert', 'Paul-Henry Leemann', 'Valentine Roos', 'Mario Shannon', 'Simon Allais', 'Matthieu Joseph', 'Kambiz Moghaddamfar'], 'Function': ['Permanent member', 'Permanent member', 'Permanent member', 'Permanent member', 'Permanent member', 'Permanent member', 'Permanent member', 'Permanent member', 'Permanent member', 'Permanent member', 'Permanent member', 'Permanent member', 'Permanent member', 'Visiting professor', 'Postdoc', 'Postdoc', 'Postdoc', 'Postdoc', 'Postdoc', 'Ph.D. Student', 'Ph.D. Student', 'Ph.D. Student'], 'Erdös Number': [3,3,3,3,4,4,4,5,4,3,5,4,4,3,5,6,4,'inf',5,'inf',4,4], 'Alon number':[3,3,3,3,3,3,3,5,4,3,4,4,4,3,5,6,3,'inf',5,'inf',4,4]}\n",
        "geometry_panda2 = pd.DataFrame(data_geometry2)\n",
        "pd.options.display.max_colwidth = 500\n",
        "geometry_panda2"
      ],
      "outputs": [
        {
          "output_type": "execute_result",
          "execution_count": 29,
          "data": {
            "text/html": [
              "<div>\n",
              "<style scoped>\n",
              "    .dataframe tbody tr th:only-of-type {\n",
              "        vertical-align: middle;\n",
              "    }\n",
              "\n",
              "    .dataframe tbody tr th {\n",
              "        vertical-align: top;\n",
              "    }\n",
              "\n",
              "    .dataframe thead th {\n",
              "        text-align: right;\n",
              "    }\n",
              "</style>\n",
              "<table border=\"1\" class=\"dataframe\">\n",
              "  <thead>\n",
              "    <tr style=\"text-align: right;\">\n",
              "      <th></th>\n",
              "      <th>Name</th>\n",
              "      <th>Function</th>\n",
              "      <th>Erdös Number</th>\n",
              "      <th>Alon number</th>\n",
              "    </tr>\n",
              "  </thead>\n",
              "  <tbody>\n",
              "    <tr>\n",
              "      <th>0</th>\n",
              "      <td>Aurélien Alvarez</td>\n",
              "      <td>Permanent member</td>\n",
              "      <td>3</td>\n",
              "      <td>3</td>\n",
              "    </tr>\n",
              "    <tr>\n",
              "      <th>1</th>\n",
              "      <td>Claude Danthony</td>\n",
              "      <td>Permanent member</td>\n",
              "      <td>3</td>\n",
              "      <td>3</td>\n",
              "    </tr>\n",
              "    <tr>\n",
              "      <th>2</th>\n",
              "      <td>Mikael De la Salle</td>\n",
              "      <td>Permanent member</td>\n",
              "      <td>3</td>\n",
              "      <td>3</td>\n",
              "    </tr>\n",
              "    <tr>\n",
              "      <th>3</th>\n",
              "      <td>Damien Gaboriau</td>\n",
              "      <td>Permanent member</td>\n",
              "      <td>3</td>\n",
              "      <td>3</td>\n",
              "    </tr>\n",
              "    <tr>\n",
              "      <th>4</th>\n",
              "      <td>Etienne Ghys</td>\n",
              "      <td>Permanent member</td>\n",
              "      <td>4</td>\n",
              "      <td>3</td>\n",
              "    </tr>\n",
              "    <tr>\n",
              "      <th>5</th>\n",
              "      <td>Alexey Glutsyuk</td>\n",
              "      <td>Permanent member</td>\n",
              "      <td>4</td>\n",
              "      <td>3</td>\n",
              "    </tr>\n",
              "    <tr>\n",
              "      <th>6</th>\n",
              "      <td>Adrien Le Boudec</td>\n",
              "      <td>Permanent member</td>\n",
              "      <td>4</td>\n",
              "      <td>3</td>\n",
              "    </tr>\n",
              "    <tr>\n",
              "      <th>7</th>\n",
              "      <td>Amine Marrakchi</td>\n",
              "      <td>Permanent member</td>\n",
              "      <td>5</td>\n",
              "      <td>5</td>\n",
              "    </tr>\n",
              "    <tr>\n",
              "      <th>8</th>\n",
              "      <td>Marco Mazzucchelli</td>\n",
              "      <td>Permanent member</td>\n",
              "      <td>4</td>\n",
              "      <td>4</td>\n",
              "    </tr>\n",
              "    <tr>\n",
              "      <th>9</th>\n",
              "      <td>Bruno Sevennec</td>\n",
              "      <td>Permanent member</td>\n",
              "      <td>3</td>\n",
              "      <td>3</td>\n",
              "    </tr>\n",
              "    <tr>\n",
              "      <th>10</th>\n",
              "      <td>Jean-Claude Sikorav</td>\n",
              "      <td>Permanent member</td>\n",
              "      <td>5</td>\n",
              "      <td>4</td>\n",
              "    </tr>\n",
              "    <tr>\n",
              "      <th>11</th>\n",
              "      <td>Alexei Tsugvintsev</td>\n",
              "      <td>Permanent member</td>\n",
              "      <td>4</td>\n",
              "      <td>4</td>\n",
              "    </tr>\n",
              "    <tr>\n",
              "      <th>12</th>\n",
              "      <td>Abdelghani Zeghib</td>\n",
              "      <td>Permanent member</td>\n",
              "      <td>4</td>\n",
              "      <td>4</td>\n",
              "    </tr>\n",
              "    <tr>\n",
              "      <th>13</th>\n",
              "      <td>Laurent Bartholdi</td>\n",
              "      <td>Visiting professor</td>\n",
              "      <td>3</td>\n",
              "      <td>3</td>\n",
              "    </tr>\n",
              "    <tr>\n",
              "      <th>14</th>\n",
              "      <td>Dominik Francoeur</td>\n",
              "      <td>Postdoc</td>\n",
              "      <td>5</td>\n",
              "      <td>5</td>\n",
              "    </tr>\n",
              "    <tr>\n",
              "      <th>15</th>\n",
              "      <td>Auguste Hebert</td>\n",
              "      <td>Postdoc</td>\n",
              "      <td>6</td>\n",
              "      <td>6</td>\n",
              "    </tr>\n",
              "    <tr>\n",
              "      <th>16</th>\n",
              "      <td>Paul-Henry Leemann</td>\n",
              "      <td>Postdoc</td>\n",
              "      <td>4</td>\n",
              "      <td>3</td>\n",
              "    </tr>\n",
              "    <tr>\n",
              "      <th>17</th>\n",
              "      <td>Valentine Roos</td>\n",
              "      <td>Postdoc</td>\n",
              "      <td>inf</td>\n",
              "      <td>inf</td>\n",
              "    </tr>\n",
              "    <tr>\n",
              "      <th>18</th>\n",
              "      <td>Mario Shannon</td>\n",
              "      <td>Postdoc</td>\n",
              "      <td>5</td>\n",
              "      <td>5</td>\n",
              "    </tr>\n",
              "    <tr>\n",
              "      <th>19</th>\n",
              "      <td>Simon Allais</td>\n",
              "      <td>Ph.D. Student</td>\n",
              "      <td>inf</td>\n",
              "      <td>inf</td>\n",
              "    </tr>\n",
              "    <tr>\n",
              "      <th>20</th>\n",
              "      <td>Matthieu Joseph</td>\n",
              "      <td>Ph.D. Student</td>\n",
              "      <td>4</td>\n",
              "      <td>4</td>\n",
              "    </tr>\n",
              "    <tr>\n",
              "      <th>21</th>\n",
              "      <td>Kambiz Moghaddamfar</td>\n",
              "      <td>Ph.D. Student</td>\n",
              "      <td>4</td>\n",
              "      <td>4</td>\n",
              "    </tr>\n",
              "  </tbody>\n",
              "</table>\n",
              "</div>"
            ],
            "text/plain": [
              "                   Name            Function Erdös Number Alon number\n",
              "0      Aurélien Alvarez    Permanent member            3           3\n",
              "1       Claude Danthony    Permanent member            3           3\n",
              "2    Mikael De la Salle    Permanent member            3           3\n",
              "3       Damien Gaboriau    Permanent member            3           3\n",
              "4          Etienne Ghys    Permanent member            4           3\n",
              "5       Alexey Glutsyuk    Permanent member            4           3\n",
              "6      Adrien Le Boudec    Permanent member            4           3\n",
              "7       Amine Marrakchi    Permanent member            5           5\n",
              "8    Marco Mazzucchelli    Permanent member            4           4\n",
              "9        Bruno Sevennec    Permanent member            3           3\n",
              "10  Jean-Claude Sikorav    Permanent member            5           4\n",
              "11   Alexei Tsugvintsev    Permanent member            4           4\n",
              "12    Abdelghani Zeghib    Permanent member            4           4\n",
              "13    Laurent Bartholdi  Visiting professor            3           3\n",
              "14    Dominik Francoeur             Postdoc            5           5\n",
              "15       Auguste Hebert             Postdoc            6           6\n",
              "16   Paul-Henry Leemann             Postdoc            4           3\n",
              "17       Valentine Roos             Postdoc          inf         inf\n",
              "18        Mario Shannon             Postdoc            5           5\n",
              "19         Simon Allais       Ph.D. Student          inf         inf\n",
              "20      Matthieu Joseph       Ph.D. Student            4           4\n",
              "21  Kambiz Moghaddamfar       Ph.D. Student            4           4"
            ]
          },
          "metadata": {}
        }
      ],
      "execution_count": 29,
      "metadata": {}
    },
    {
      "cell_type": "code",
      "source": [
        "Alon_nb_geometry = [3,3,3,3,3,3,3,5,4,3,4,4,4,3,5,6,3,5,4,4]\n",
        "\n",
        "Std_Alon_geo = st.stdev(Alon_nb_geometry)\n",
        "M_Alon_geo = st.mean(Alon_nb_geometry)\n",
        "\n",
        "print('Standard deviation for the Erdös number distribution: ', Std_Erdos)\n",
        "print('Standard deviation for the Alon number distribution: ', Std_Alon_geo)\n",
        "\n",
        "print('Mean of the Erdös number distribution: ', M_Erdos)\n",
        "print('Mean of the Alon number distribution: ', M_Alon_geo)"
      ],
      "outputs": [
        {
          "output_type": "stream",
          "name": "stdout",
          "text": [
            "Standard deviation for the Erdös number distribution:  0.8583950752789521\n",
            "Standard deviation for the Alon number distribution:  0.910465468000326\n",
            "Mean of the Erdös number distribution:  4\n",
            "Mean of the Alon number distribution:  3.75\n"
          ]
        }
      ],
      "execution_count": 30,
      "metadata": {}
    },
    {
      "cell_type": "markdown",
      "source": [
        "The result is surprinsing: first, when we used the distance calculator it appeared that the paths between the authors of the geometry team and Alon almost never go through Erdös. Second, those paths are the same length as those between the geometry team Erdös or smaller. \n",
        "\n",
        "Indeed, the mean Alon number is of 3.75 while the mean Erdös number is of 4. Could it be that Alon is actually closer to the other researchers than Erdös? In our graph Erdös' betweenness and closeness are higher than Alon's ones, but maybe this is different in the whole collaboration graph. Of course, it could also be that we look at a too small part of the collaboration graph and that what we can see on the geometry team of the ENS of Lyon is not representative of the whole collaboration graph. Indeed the difference on the means comes from the fact that two researchers, Etienne Ghys and Jean-Claude Sikorav, have an Alon number one point higher than their Erdös number. All the others have identical Erdös and Alon numbers, this is probably not enough for us to build a reliable mean."
      ],
      "metadata": {}
    },
    {
      "cell_type": "markdown",
      "source": [
        "### Conclusion"
      ],
      "metadata": {}
    },
    {
      "cell_type": "markdown",
      "source": [
        "From this study we learnt severa things. Erdös still hold the record of the researcher with the most collaborators, even though Noga Alon is close. The Erdös graph is a small world network with small distances (diameter of 4) and a high clustering. Indeed, if we take Erdös' node off the graph stays mainly connected. The few centrality measures we looked at change a little the relative importance of each node, but it is clear that in this graph the most important nodes are those with the highest degrees, which correspond to authors with the most colaborators. It is possible to build relevant communities based on the authors locations since researchers usually collaborate more with people in the same country as them. Finally, we can define an Alon number which seems to have properties similar to Erdös'. \n",
        "\n",
        "With more time, it could be interesting to build smaller communities and study their relevance. Wth more computational power, it would also be relevant to establish a cluster tree of our graph and to see how it agrees with our centrality measures and our community partition."
      ],
      "metadata": {}
    },
    {
      "cell_type": "markdown",
      "source": [
        "### References\n",
        "\n",
        "[1] https://oakland.edu/enp/, The Erdös Number Project\n",
        "\n",
        "[2] https://en.wikipedia.org/\n",
        "\n",
        "[3] https://www.researchgate.net/ \n",
        "\n",
        "[4] Anthonisse, J. M., \"The rush in a directed graph\", *Technical Report BN 9/71*, 1971\n",
        "\n",
        "[5] Sabidussi, G., \"The centrality index of a graph\", *Psychometrika*, 1966\n",
        "\n",
        "[6] Ulrik Brandes, \"A Faster Algorithm for Betweenness Centrality\", *The Journal of Mathematical Sociology*, 2001\n",
        "\n",
        "[7] Vincent D. Blondel, Jean-Loup Guillaume, Renaud Lambiotte, Etienne Lefebvre, \"Fast unfolding of communities in large networks\" *J. Stat. Mech.*, 2008 \n",
        "\n",
        "[8] R.D. Luce and A.D. Perry, \"A method of matrix analysis of group structure\". *Psychometrika*, 1949\n",
        "\n",
        "[9] Vladimir Batagelj and Andrej Mrvar, \"Some analyses of Erdos collaboration graph\", *Social Networks*, 2000\n",
        "\n",
        "[10] https://mathscinet.ams.org/mathscinet/freeTools.html?version=2, distance calculator"
      ],
      "metadata": {}
    },
    {
      "cell_type": "code",
      "source": [],
      "outputs": [],
      "execution_count": null,
      "metadata": {}
    }
  ],
  "metadata": {
    "kernelspec": {
      "name": "python3",
      "language": "python",
      "display_name": "Python 3"
    },
    "language_info": {
      "name": "python",
      "version": "3.7.5",
      "mimetype": "text/x-python",
      "codemirror_mode": {
        "name": "ipython",
        "version": 3
      },
      "pygments_lexer": "ipython3",
      "nbconvert_exporter": "python",
      "file_extension": ".py"
    },
    "kernel_info": {
      "name": "python3"
    },
    "nteract": {
      "version": "0.15.0"
    }
  },
  "nbformat": 4,
  "nbformat_minor": 2
}