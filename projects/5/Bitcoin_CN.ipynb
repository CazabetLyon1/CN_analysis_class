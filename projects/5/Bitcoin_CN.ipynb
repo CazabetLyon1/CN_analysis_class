{
  "cells": [
    {
      "cell_type": "code",
      "source": [
        "import pandas as pd\n",
        "import numpy as np\n",
        "import networkx as nx\n",
        "import community\n",
        "import csv as csv\n",
        "import seaborn as sns\n",
        "import collections\n",
        "import matplotlib.pyplot as plt\n",
        "import copy\n",
        "import igraph as ig\n",
        "from igraph import Graph\n",
        "from collections import Counter\n",
        "\n",
        "\n"
      ],
      "outputs": [],
      "execution_count": 1,
      "metadata": {}
    },
    {
      "cell_type": "markdown",
      "source": [
        "# Introduction"
      ],
      "metadata": {}
    },
    {
      "cell_type": "markdown",
      "source": [
        "Bitcoin is a decentralized peer-to-peer cryptocurrency based on the blockchain technology developed by the mysterious [Satoshi Nakamoto](https://bitcoin.org/bitcoin.pdf). This cryptocurrency revealed itself to be an alternative for governmental currency free from centralized bank. The security of the Bitcoin transaction network is based from its decentralization and the fact that its robustness comes from the participation of every actors of the network. If in 2009, when the network was launched, this cryptocurrency was only a dream for anarchists and \"nerds\", this turn in less than 5 years in a strong digital asset. This led it to be considered as a good store of value, a \"digital gold\". But if a lot of use-cases are developed day to day, it is now mainly an object of speculation, whith strong price fluctuations. \n",
        "\n",
        "We are going to explore the data from Bitcoin transactions during three days in september 2016. Then, we are going to try if we can associate price fluctuations to change in network topology."
      ],
      "metadata": {}
    },
    {
      "cell_type": "markdown",
      "source": [
        "## General network topology."
      ],
      "metadata": {}
    },
    {
      "cell_type": "markdown",
      "source": [
        "First, we need to import the data and clean it. The first cleaning process is to proceed to \"user contraction\". Indeed, in [a series of papers studying Bitcoin transaction networks,](https://senseable2015-6.mit.edu/bitcoin/) the authors fusion users that participate in the same transaction input. The second cleaning process is just to remove self-loops or 0 btc transactions. Also, I change the shape of the data so it is more convenient for me to use."
      ],
      "metadata": {}
    },
    {
      "cell_type": "code",
      "source": [
        "def user_contraction(data): #Assemble les adresses en utilisateurs, si ces adresses sont utilisées dans le même tx_in.\n",
        "    user_address = dict() #Création des dictionnaires user-> address et address -> user\n",
        "    address_user = dict()\n",
        "    u_id = 0 #les users sont nommées 0,1,2...\n",
        "    \n",
        "    for line in data['tx_ins']: \n",
        "        #print(line)\n",
        "        user_key = 0\n",
        "        \n",
        "        #Pour chaque transaction, on rassemble les adresses du tx_in dans une liste\n",
        "        address_list = [entry['address'] for entry in line]\n",
        "        #print(address_list)\n",
        "        \n",
        "        found = 0\n",
        "        for address in address_list:\n",
        "            if address in address_user.keys(): #On regarde si l'une des adresses a déjà été référencée\n",
        "                found = 1\n",
        "                #print('found')\n",
        "                user_key = address_user[address] #Si c'est le cas, on récupère l'ID\n",
        "                break\n",
        "        #print('hey')\n",
        "        if found == 1:\n",
        "    #On assigne le même ID à chacune des adresses et on les rassemble dans la même entrée\n",
        "            for address in address_list:\n",
        "                if address not in user_address[user_key]:\n",
        "                    address_user[address] = user_key\n",
        "                    user_address[user_key].append(address)\n",
        "    #Si aucune adresse n'avait été  déjà référencée, on créé une nouvel ID et on rassemble toutes les adresses sous cet ID\n",
        "        else:\n",
        "            user_address[u_id] = []\n",
        "            for address in address_list:\n",
        "                    user_address[u_id].append(address)\n",
        "                    address_user[address] = u_id\n",
        "            u_id += 1\n",
        "                \n",
        "    return user_address, address_user\n",
        "\n",
        "def data_clean(data, a_u): #Transforme les données en une forme facilement convertissable en Edges\n",
        "                           #Prend en entrée les données \"brutes\" et un dictionnaire adresse -> user mapping\n",
        "        col = ['rate','time','u_in','u_out','val'] #Nom des colonnes: rate: taux d'échange, time: date,  \n",
        "                                                    # 'u_in' et 'u_out' emmeteur, destinataire et 'val': valeur en USD\n",
        "        liste = [] #on met toutes les entrées dans une liste avant d'en faire un data frame\n",
        "        \n",
        "        #On récupère les données pour chaque ligne\n",
        "        for index, line in data.iterrows():\n",
        "            \n",
        "            rate = line['exchange_rate']\n",
        "            time = line['timestamp']\n",
        "\n",
        "            u_in = line['tx_ins'][0]['address']\n",
        "            u_in = a_u[u_in]\n",
        "                \n",
        "            for i in range(len(line['tx_outs'])): #On vérifie si l'une des adresses destinatrices sont connues ou pas\n",
        "                u_out = line['tx_outs'][i]['address']\n",
        "                \n",
        "                if u_out in a_u.keys():\n",
        "                    u_out = a_u[u_out]\n",
        "                    \n",
        "                val = line['tx_outs'][i]['value']\n",
        "                val = val/(1e8) * rate\n",
        "                \n",
        "            #Ici on peut rajouter pleins de conditions, exemple si on ne veut pas garder \n",
        "            #les transactions dont la valeur est inférieure à une certaine somme\n",
        "                if u_in != u_out and val != 0:\n",
        "                    liste.append([rate,time,u_in,u_out,val])\n",
        "                \n",
        "            \n",
        "        data2 = pd.DataFrame(liste,columns=col)\n",
        "        return data2\n",
        "    \n",
        "def make_digraph(clean_data): #transforme les data en diGraph où edge est la somme des transactions\n",
        "    G = nx.DiGraph()\n",
        "    \n",
        "    for i,l in clean_data.iterrows():\n",
        "        #print(l)\n",
        "        u = l['u_in']\n",
        "        v = l['u_out']\n",
        "        s = l['val']\n",
        "        #t = l['time']\n",
        "\n",
        "        if (u,v) not in G.edges():\n",
        "            G.add_weighted_edges_from([(u,v,s)])\n",
        "        else:\n",
        "            previous_sum = G.get_edge_data(u,v)\n",
        "            previous_sum = previous_sum['weight']\n",
        "            s += previous_sum\n",
        "            G.add_weighted_edges_from([(u,v,s)])\n",
        "            \n",
        "        \n",
        "    return G\n",
        "\n",
        "\n",
        "def graph_clean(G): #\n",
        "    \n",
        "    print('Nettoyage du graph')\n",
        "    nG = nx.DiGraph()\n",
        "    kept_edges = []\n",
        "    for edge in list(G.edges):\n",
        "        u = edge[0]\n",
        "        v = edge[1]\n",
        "        s = G.get_edge_data(u,v)\n",
        "        s = s['weight']\n",
        "        if(s > 0 and u!=v):\n",
        "            kept_edges.append((u,v,s))\n",
        "    \n",
        "    nG.add_weighted_edges_from(kept_edges)\n",
        "    print(len(list(nG.nodes)), ' nodes and ',len(list(nG.edges)), 'edges.')\n",
        "    \n",
        "    return nG"
      ],
      "outputs": [],
      "execution_count": 2,
      "metadata": {}
    },
    {
      "cell_type": "code",
      "source": [
        "file = 'C://Users//Admin//Documents//cours//complex networks//bitcoin'\n",
        "data = pd.read_json(file, lines = True )\n",
        "\n",
        "u_a, a_u = user_contraction(data)\n",
        "clean_data = data_clean(data, a_u)\n",
        "G = make_digraph(clean_data)\n",
        "\n",
        "nG = graph_clean(G) #I don't remember why I did this because it doesn't seem to change much, but still I put it in the notebook.\n"
      ],
      "outputs": [],
      "execution_count": null,
      "metadata": {}
    },
    {
      "cell_type": "code",
      "source": [
        "pickle_test = pd.read_pickle('C://Users//Admin//Documents//cours//complex networks//pickle_clean_data')\n",
        "G = make_digraph(pickle_test)\n",
        "nG = graph_clean(G)"
      ],
      "outputs": [
        {
          "output_type": "stream",
          "name": "stdout",
          "text": [
            "Nettoyage du graph\n",
            "817680  nodes and  1273486 edges.\n"
          ]
        }
      ],
      "execution_count": 57,
      "metadata": {}
    },
    {
      "cell_type": "markdown",
      "source": [
        "Now we have our graph, we'll do a brief overview to know how to reduce more the dataset which is not usable on gephi yet (817680 nodes and 1273486 edges right now)."
      ],
      "metadata": {}
    },
    {
      "cell_type": "code",
      "source": [
        "sns.set(style=\"white\", palette=\"muted\", color_codes=True)\n",
        "f, axes = plt.subplots(1, 1, figsize=(14, 5), sharex=True)\n",
        "\n",
        "sns.despine(left=True)\n",
        "\n",
        "#Degree distribution.\n",
        "axes.set_title('Degree distribution')\n",
        "axes.set_xscale('log')\n",
        "axes.set_yscale('log')\n",
        "degrees = [nG.degree(n) for n in nG.nodes()]\n",
        "c = Counter(degrees)\n",
        "x = list(c.keys())\n",
        "y = list(c.values())\n",
        "sns.lineplot(x=x, y=y, color=\"b\",ax=axes)\n",
        "\n",
        "plt.show()"
      ],
      "outputs": [
        {
          "output_type": "display_data",
          "data": {
            "image/png": "[encoded data removed]",
            "text/plain": [
              "<Figure size 1008x360 with 1 Axes>"
            ]
          },
          "metadata": {}
        }
      ],
      "execution_count": 70,
      "metadata": {}
    },
    {
      "cell_type": "code",
      "source": [
        "sns.set(style=\"white\", palette=\"muted\", color_codes=True)\n",
        "f, axes = plt.subplots(1, 2, figsize=(14, 5), sharex=True)\n",
        "\n",
        "sns.despine(left=True)\n",
        "\n",
        "\n",
        "\n",
        "#Edge weight distribution.\n",
        "axes[0].set_xscale('linear')\n",
        "axes[0].set_yscale('log')\n",
        "axes[0].set_title('Edge weight distribution')\n",
        "e_weights = np.array([e[2]['weight'] for e in nG.edges(data=True)])\n",
        "#c = Counter(e_weights)\n",
        "#x = list(c.keys())\n",
        "#y = list(c.values())\n",
        "sns.distplot(e_weights, kde=False, bins=30, color=\"b\",ax=axes[0])\n",
        "\n",
        "\n",
        "#Node weight distribution.\n",
        "#c = Counter(e_weights)\n",
        "#x = list(c.keys())\n",
        "#y = list(c.values())\n",
        "axes[1].set_title('Node weight distribution')\n",
        "axes[1].set_xscale('linear')\n",
        "axes[1].set_yscale('log')\n",
        "n_weights = np.array([nG.degree(n,weight='weight') for n in nG.nodes()])\n",
        "sns.distplot(n_weights, kde=False, bins=30, color=\"b\",ax=axes[1])\n",
        "\n",
        "plt.show()\n",
        "\n",
        "\n",
        "\n",
        "    \n"
      ],
      "outputs": [
        {
          "output_type": "display_data",
          "data": {
            "image/png": "[encoded data removed]",
            "text/plain": [
              "<Figure size 1008x360 with 2 Axes>"
            ]
          },
          "metadata": {}
        }
      ],
      "execution_count": 71,
      "metadata": {}
    },
    {
      "cell_type": "markdown",
      "source": [
        "We can see that we can get a powerlaw distribution for the degree distribution, which is caracteristic of \"real\" networks. However, the loglog scale does not give anything relevant for edge weight and node weight distribution so I only plotted it with the log y scale. Interestingly, we have a little group of highly connected and \"heavy\" nodes. Let's investigate it."
      ],
      "metadata": {}
    },
    {
      "cell_type": "code",
      "source": [
        "#Selecting nodes with degree above and ploting the weight distribution of their edges.\n",
        "biggy = [n for n in nG.nodes() if nG.degree(n)>20000]\n",
        "for big in biggy:\n",
        "    #This line prints different statistics relevant to the selectionned node.\n",
        "    print(big, 'degree:',nG.degree(big),' weight=',nG.degree(big, weight='weight'), 'indegree =', nG.in_degree(big), ' indegree weight=',nG.in_degree(big,weight='weight'),'outdegree=', nG.out_degree(big), 'outdegree weight=', nG.out_degree(big,weight='weight'), 'net=',(nG.in_degree(big,weight='weight')-nG.out_degree(big,weight='weight')))\n",
        "    edge_list = list(nG.edges(nbunch = big, data='weight', default=1))\n",
        "    weights = [e[2] for e in edge_list]\n",
        "    plt.hist(weights, bins=30)\n",
        "    plt.yscale('log')\n",
        "    plt.show()\n",
        "    wait = input(\"PRESS ENTER TO CONTINUE.\")\n",
        "    \n"
      ],
      "outputs": [
        {
          "output_type": "stream",
          "name": "stdout",
          "text": [
            "94733 degree: 28729  weight= 11703.351758046094 indegree = 326  indegree weight= 3683.0064623936996 outdegree= 28403 outdegree weight= 8020.345295652393 net= -4337.338833258694\n"
          ]
        },
        {
          "output_type": "display_data",
          "data": {
            "image/png": "[encoded data removed]",
            "text/plain": [
              "<Figure size 432x288 with 1 Axes>"
            ]
          },
          "metadata": {
            "needs_background": "light"
          }
        },
        {
          "output_type": "stream",
          "name": "stdout",
          "text": [
            "PRESS ENTER TO CONTINUE.\n",
            "367573 degree: 29054  weight= 6924.22796030041 indegree = 1  indegree weight= 3653.5199999999995 outdegree= 29053 outdegree weight= 3270.7079603004104 net= 382.81203969958915\n"
          ]
        },
        {
          "output_type": "display_data",
          "data": {
            "image/png": "[encoded data removed]",
            "text/plain": [
              "<Figure size 432x288 with 1 Axes>"
            ]
          },
          "metadata": {
            "needs_background": "light"
          }
        },
        {
          "output_type": "stream",
          "name": "stdout",
          "text": [
            "PRESS ENTER TO CONTINUE.\n"
          ]
        }
      ],
      "execution_count": 23,
      "metadata": {}
    },
    {
      "cell_type": "markdown",
      "source": [
        "Unexpectedly, these nodes with a high degree do not have a high total weight, maybe they are bots spamming the market with very small transactions. Let's fish for the nodes that have a very high weight now."
      ],
      "metadata": {}
    },
    {
      "cell_type": "code",
      "source": [
        "#Selecting nodes with total weight above 3*1e7 dollars.\n",
        "biggy = [n for n in nG.nodes() if nG.degree(n, weight='weight')>3*1e7]\n",
        "for big in biggy:\n",
        "    print(big, 'degree:',nG.degree(big),' weight=',nG.degree(big, weight='weight'), 'indegree =', nG.in_degree(big), ' indegree weight=',nG.in_degree(big,weight='weight'),'outdegree=', nG.out_degree(big), 'outdegree weight=', nG.out_degree(big,weight='weight'))\n",
        "    print('net=',(nG.in_degree(big,weight='weight')-nG.out_degree(big,weight='weight')))\n",
        "    edge_list = list(nG.edges(nbunch = big, data='weight', default=1))\n",
        "    weights = [e[2] for e in edge_list]\n",
        "    plt.hist(weights, bins=30)\n",
        "    plt.yscale('log')\n",
        "    plt.show()\n",
        "    wait = input(\"All edges\")\n",
        "    edge_list = list(nG.in_edges(nbunch = big, data='weight', default=1))\n",
        "    weights = [e[2] for e in edge_list]\n",
        "    plt.hist(weights, bins=30)\n",
        "    plt.yscale('log')\n",
        "    plt.show()\n",
        "    wait = input(\"Entering transactions.\")\n",
        "    edge_list = list(nG.out_edges(nbunch = big, data='weight', default=1))\n",
        "    weights = [e[2] for e in edge_list]\n",
        "    plt.hist(weights, bins=30)\n",
        "    plt.yscale('log')\n",
        "    plt.show()\n",
        "    wait = input(\"Leaving transactions.\")\n",
        "    \n",
        "    "
      ],
      "outputs": [
        {
          "output_type": "stream",
          "name": "stdout",
          "text": [
            "2753 degree: 804  weight= 38733073.92533308 indegree = 187  indegree weight= 20735128.646600798 outdegree= 617 outdegree weight= 17997945.27873229\n",
            "net= 2737183.367868509\n"
          ]
        },
        {
          "output_type": "display_data",
          "data": {
            "image/png": "[encoded data removed]",
            "text/plain": [
              "<Figure size 432x288 with 1 Axes>"
            ]
          },
          "metadata": {
            "needs_background": "light"
          }
        },
        {
          "output_type": "stream",
          "name": "stdout",
          "text": [
            "All edges\n"
          ]
        },
        {
          "output_type": "display_data",
          "data": {
            "image/png": "[encoded data removed]",
            "text/plain": [
              "<Figure size 432x288 with 1 Axes>"
            ]
          },
          "metadata": {
            "needs_background": "light"
          }
        },
        {
          "output_type": "stream",
          "name": "stdout",
          "text": [
            "Entering transactions.\n"
          ]
        },
        {
          "output_type": "display_data",
          "data": {
            "image/png": "[encoded data removed]",
            "text/plain": [
              "<Figure size 432x288 with 1 Axes>"
            ]
          },
          "metadata": {
            "needs_background": "light"
          }
        },
        {
          "output_type": "stream",
          "name": "stdout",
          "text": [
            "Leaving transactions.\n"
          ]
        }
      ],
      "execution_count": 24,
      "metadata": {}
    },
    {
      "cell_type": "markdown",
      "source": [
        "Wow! That guy is interesting! This is the blue whale of the network. During the three days, he made a \"net\" benefit of almost 3M$. Well, we don't know if he actually made any transactions on an exchange so maybe he did not have an influence on the price. It would be interesting to see with who he did these big transactions, and when they happened relatively to price evolution to check for any influences. But we're not here to investigate on a single person but rather for a network view, so we'll go back to that guy if we get the time to do it. "
      ],
      "metadata": {}
    },
    {
      "cell_type": "markdown",
      "source": [
        "Now, the issue we have is that the network is wayyy too big to be looked at in Gephi. So, I could clean the data by removing/fusioning some nodes depending on its properties, but I don't want to make an arbitrary choice. So my idea now is to use an algorithm for community detection and then to fusion these communities in single nodes."
      ],
      "metadata": {}
    },
    {
      "cell_type": "markdown",
      "source": [
        "First, I'm going to extract the weakly connected component of the network in order to leave out any nodes that does not significantly participates to the main network."
      ],
      "metadata": {}
    },
    {
      "cell_type": "code",
      "source": [
        "weak_size_distribution=[len(g) for g in sorted(nx.weakly_connected_component_subgraphs(nG), key=len)]\n",
        "print('The maximum weakly connected components contains :', max(weak_size_distribution),'nodes.')\n",
        "print('Extracting that subgraph...')\n",
        "G = max(nx.weakly_connected_component_subgraphs(nG), key=len)\n",
        "print('Component extracted!')\n",
        "print('This connected components contains: ',len(list(G.nodes)), ' nodes and ',len(list(G.edges)),' edges.')"
      ],
      "outputs": [
        {
          "output_type": "stream",
          "name": "stdout",
          "text": [
            "The maximum weakly connected components contains : 770926 edges.\n",
            "Extracting that subgraph...\n",
            "Component extracted!\n",
            "This connected components contains:  770926  nodes and  1240335  edges.\n"
          ]
        }
      ],
      "execution_count": 5,
      "metadata": {}
    },
    {
      "cell_type": "code",
      "source": [
        "#Let's convert to an IGraph, which possess an Infomap method for community detection\n",
        "#Indeed, NetworkX only contains community detection algorithms for undirected graphs\n",
        "nx.write_graphml(G,'graph.graphml') # Export NX graph to file\n",
        "Gix = ig.read('graph.graphml',format=\"graphml\") # Create new IG graph from file\n",
        "label_prog= Gix.community_label_propagation(weights='weight')\n"
      ],
      "outputs": [],
      "execution_count": null,
      "metadata": {
        "scrolled": true
      }
    },
    {
      "cell_type": "markdown",
      "source": [
        "OK, sadly, the graph did not lose much nodes or edges (if any...) and it will still be impossible to use Gephi. I tried to compute modularity using IGraph and label propagation ([the most scalable community detection algorithm according to Yhan et al. 2016](https://www.nature.com/articles/srep30750)), but on my 3rd gen i5 CPU it was still running after 2h... But thanks to Francois Gu and his 9th gen i7 CPU, I had my modularity classes in less than 5 min. He used the modularity algorithm of Gephi, which is based on Louvain. I'll now proceed to fusion my community in single nodes."
      ],
      "metadata": {}
    },
    {
      "cell_type": "code",
      "source": [
        "#Just pickling the networkx graph in order to load it easily if I need it.\n",
        "mG = nx.read_graphml('C://Users//Admin//Documents//cours//complex networks//yo.graphml')\n",
        "write.gpickle(mG,'C://Users//Admin//Documents//cours//complex networks//modGraph.pickle')\n"
      ],
      "outputs": [],
      "execution_count": null,
      "metadata": {}
    },
    {
      "cell_type": "code",
      "source": [
        "imod = ig.read('C://Users//Admin//Documents//cours//complex networks//yo.graphml',format=\"graphml\")\n",
        "\n",
        "ig.summary(imod)\n",
        "print(\"Dictionnary creation\")\n",
        "mod_nodes = {}\n",
        "#Add modularity keys to dictionaries\n",
        "i = 0\n",
        "for mod in imod.vs['Modularity Class']:\n",
        "    if mod not in mod_nodes.keys():\n",
        "        mod_nodes[mod] = i\n",
        "        i +=1\n",
        "print(i)\n",
        "adj = np.zeros((i,i))\n",
        "        \n",
        "#Fill the dictionaries\n",
        "print('Filling the adjencacy matrix')\n",
        "i = 0\n",
        "for edge in imod.get_edgelist():\n",
        "    \n",
        "    mod_u = imod.vs['Modularity Class'][edge[0]]\n",
        "    mod_v = imod.vs['Modularity Class'][edge[1]]\n",
        "    u = mod_nodes[mod_u]\n",
        "    v = mod_nodes[mod_v]\n",
        "    w = imod.es['weight'][i] \n",
        "    \n",
        "    adj[u,v] += w\n",
        "    i+=1\n",
        "    "
      ],
      "outputs": [
        {
          "output_type": "stream",
          "name": "stdout",
          "text": [
            "IGRAPH D-W- 770926 1240335 -- \n",
            "+ attr: Modularity Class (v), id (v), label (v), id (e), weight (e)\n",
            "Dictionnary creation\n",
            "684\n",
            "Filling the adjency matrix\n"
          ]
        }
      ],
      "execution_count": 91,
      "metadata": {
        "scrolled": true
      }
    },
    {
      "cell_type": "markdown",
      "source": [
        "Finally! After letting this run overnight (I have to admit that the algo wasn't really opti) I had my adjacency matrix! Phew! Now the graph will be way easier to handle. Let's look at it in Gephi."
      ],
      "metadata": {}
    },
    {
      "cell_type": "code",
      "source": [
        "#Just garbage cell here to hande and save my data.\n",
        "def csv_writer(G, filename):\n",
        "    csvtext = [['Source','Target','Sum']]\n",
        "    for e in list(G.edges):\n",
        "        u = e[0]\n",
        "        v = e[1]\n",
        "        w = G.get_edge_data(u,v)\n",
        "        w = w['weight']\n",
        "        csvtext.append([str(u),str(v),str(w)])\n",
        "    \n",
        "    with open(filename, 'w') as csvFile:\n",
        "        writer = csv.writer(csvFile)\n",
        "        writer.writerows(csvtext)\n",
        "        \n",
        "    csvFile.close()\n",
        "\n",
        "\n",
        "#np.save('C://Users//Admin//Documents//cours//complex networks//array.npy',adj)\n",
        "#ModG = nx.from_numpy_array(adj,create_using=nx.DiGraph)\n",
        "#csv_writer(ModG,'C://Users//Admin//Documents//cours//complex networks//ModGraph.csv' )"
      ],
      "outputs": [],
      "execution_count": 55,
      "metadata": {}
    },
    {
      "cell_type": "markdown",
      "source": [
        "![](img/ABCD.png)"
      ],
      "metadata": {}
    },
    {
      "cell_type": "markdown",
      "source": [
        "OK, this is a big mess but also there are some intersting things to see here(**[A]**). Just to remember here, **each node is a community** with supposedly more exchanges inside a community than with the rest of the network. The layout algorithm is Force Atlas 2 with default parameters and this gave the best results. I also reran Louvain algorithm in order to give some substance to the graph but I do not pretend that all the communities displayed here are significant. The size of the nodes represents the total weighted degree of the node.\n",
        "So, what do we see? The network looks kind of like an octopus. The central body is highly interconnected as we can see it forms a single strongly component in **[B]**. Then, satelites communities gravitate around that main network.  What gathers these communities under the same community flag is that they use the same hub as a gate to connect to the main body **([C])**. In Figure **[C]**, I've put these hubs in evidence through PageRank. Other indices yielded the same results. PageRank calculates node's importance through how much they are connected to other high degree nodes. It is more suitable to my graph than eigenvectory centrality, because the latter is not the best for weighted directed networks. It is interesting to see that other nodes in the main body seems to have a high importance. Indeed, running other algorithms like HITS for hub's detection gives a higher score to other nodes in the core. Thus, the core is constituted of highly interconnected communities with a subset being seeing more bitcoin going through itselves. The three bottom left have a higher score probably because they display this strong \"gate\" pattern and they are connected to each others. Finally, as we can see in figure **[D]**, all nodes are connected to each other as they have all roughly the same closeness centrality score. Once again, we can see the importance of some of these nodes through their slightly higher scores. This closeness is reflected in the diameter which is of 7.\n",
        "Now, interpreting this graph is hard because we don't have any information on the nature of the nodes(/communities) observed here. In 2016, most of the transactions are thought to be from [gambling, illegal transactions and market speculation](https://www.aeaweb.org/articles?id=10.1257/jep.29.2.213). It is also an [alternative currency for countries where the local currency lost its value](https://qz.com/africa/1021155/bitcoin-is-being-taken-up-in-zimbabwe-nigeria-south-africa-and-venezuela-among-developing-countries/). Satellites nodes could be individual users who own several adresses. They could be one-time users or one-platform users that only send money to gambling website or market exchanges. Best candidates for the hubs are exchange platforms like Coinbase or Bittrex. Indeed, these platforms receive a lot of bitcoin from trading users, but also send a lot of them to people who want to take their money off the platform and thus secure their funds. The issue with understanding who is who and does what is that I can't differentiate between nodes that represent users with several adresses and actual communities. Thus, the so-called hubs might just be communities exchanging money on the same platform on Coinbase or SilkRoad. However, [Cazabet et al. 2017](https://link.springer.com/chapter/10.1007/978-3-319-72150-7_14) suggest that the method I used should approximately yield for each node being actually a user. Finally, [Juhasz et al. 2018](https://journals.plos.org/plosone/article?id=10.1371/journal.pone.0207000) provide a method allowing to track user's geographical location through Bayesian inferance, which thus could help to interpret such graphs.\n"
      ],
      "metadata": {}
    },
    {
      "cell_type": "markdown",
      "source": [
        "### Time varying structure"
      ],
      "metadata": {}
    },
    {
      "cell_type": "markdown",
      "source": [
        "OK, now we have studied the general structure of the Bitcoin transaction network, let's see how it evolves over time. We'll look at the the graph structure at three points in time: before the price rise, during, and after."
      ],
      "metadata": {}
    },
    {
      "cell_type": "code",
      "source": [
        "#Reloading the data to recover the original dataset\n",
        "file = 'C://Users//Admin//Documents//cours//complex networks//bitcoin'\n",
        "data = pd.read_json(file, lines = True )\n",
        "\n",
        "u_a, a_u = user_contraction(data)\n",
        "clean_data = data_clean(data, a_u)\n",
        "\n",
        "\n"
      ],
      "outputs": [],
      "execution_count": 3,
      "metadata": {}
    },
    {
      "cell_type": "code",
      "source": [
        "x = list(clean_data['time'])\n",
        "y = list(clean_data['rate'])\n",
        "plt.plot(x,y)\n",
        "plt.title('Bitcoin price fluctations.')\n",
        "plt.show()"
      ],
      "outputs": [
        {
          "output_type": "display_data",
          "data": {
            "image/png": "[encoded data removed]",
            "text/plain": [
              "<Figure size 432x288 with 1 Axes>"
            ]
          },
          "metadata": {}
        }
      ],
      "execution_count": 77,
      "metadata": {}
    },
    {
      "cell_type": "markdown",
      "source": [
        "As we can see on this plot, at the end of September the 2nd, 2016, a strong price rise happened from 575$ to almost 590$. Can we see the change of network topology after the price rise? Or, most interestingly, can we see the network topology change **before** the price rise, which would mean some actors (potential 'market manipulator') are placing themselves in order to profit a maximum from that rise?"
      ],
      "metadata": {}
    },
    {
      "cell_type": "code",
      "source": [
        "def make_digraph_time(clean_data): #Same function as earlier but now keeping track of time\n",
        "    G = nx.DiGraph()\n",
        "    start = str(min(clean_data['time']))\n",
        "    end = str(max(clean_data['time']))\n",
        "    for i,l in clean_data.iterrows():\n",
        "    \n",
        "        u = l['u_in']\n",
        "        v = l['u_out']\n",
        "        s = l['val']\n",
        "        \n",
        "\n",
        "        if (u,v) not in G.edges():\n",
        "            G.add_edges_from([(u,v,{'weight':s, 'start':start, 'end':end})])\n",
        "        else:\n",
        "            previous_sum = G.get_edge_data(u,v)\n",
        "            previous_sum = previous_sum['weight']\n",
        "            s += previous_sum\n",
        "            G.add_edges_from([(u,v, {'weight':s, 'start':start, 'end':end})])\n",
        "            \n",
        "    return G\n",
        "\n",
        "def csv_writer_time(liste_G, filename):\n",
        "    csvtext = [['source','target','weight','start date', 'end date']]\n",
        "    i = 1\n",
        "    for G in liste_G:\n",
        "        message = 'Writing sample {}!'.format(i)\n",
        "        print(message)\n",
        "        i+=1\n",
        "        for e in list(G.edges(data=True)):\n",
        "            u = e[0]\n",
        "            v = e[1]\n",
        "            data = e[2]\n",
        "            w = data['weight']\n",
        "            start = data['start']\n",
        "            end = data['end'] \n",
        "            csvtext.append([str(u),str(v),str(w),str(start),str(end)])\n",
        "    \n",
        "    print('Transferring to csv file.')\n",
        "    with open(filename, 'w') as csvFile:\n",
        "        writer = csv.writer(csvFile)\n",
        "        writer.writerows(csvtext)\n",
        "        \n",
        "    csvFile.close()"
      ],
      "outputs": [],
      "execution_count": 14,
      "metadata": {}
    },
    {
      "cell_type": "code",
      "source": [
        "#Creating 7 graphs at different time points, before and after the price rise.\n",
        "print('Sampling...')\n",
        "sample1 = clean_data.loc[(clean_data['time'] >= \"2016-09-02 12:00:00\") & (clean_data['time'] < \"2016-09-02 14:00:00\")]\n",
        "sample2 = clean_data.loc[(clean_data['time'] >= \"2016-09-02 18:00:00\") & (clean_data['time'] < \"2016-09-02 20:00:00\")]\n",
        "sample3 = clean_data.loc[(clean_data['time'] >= \"2016-09-02 22:00:00\") & (clean_data['time'] < \"2016-09-03 00:00:00\")]\n",
        "sample4 = clean_data.loc[(clean_data['time'] >= \"2016-09-03 02:00:00\") & (clean_data['time'] < \"2016-09-03 04:00:00\")]\n",
        "sample5 = clean_data.loc[(clean_data['time'] >= \"2016-09-03 06:00:00\") & (clean_data['time'] < \"2016-09-03 08:00:00\")]\n",
        "sample6 = clean_data.loc[(clean_data['time'] >= \"2016-09-03 10:00:00\") & (clean_data['time'] < \"2016-09-03 12:00:00\")]\n",
        "sample7 = clean_data.loc[(clean_data['time'] >= \"2016-09-03 14:00:00\") & (clean_data['time'] < \"2016-09-03 16:00:00\")]\n",
        "\n",
        "print('Sampling over...')\n",
        "print('Converting towards DiGraph...')\n",
        "tG1 = make_digraph_time(sample1)\n",
        "print('Sample 1 converted!')\n",
        "\n",
        "tG2 = make_digraph_time(sample2)\n",
        "print('Sample 2 converted!')\n",
        "\n",
        "tG3 = make_digraph_time(sample3)\n",
        "print('Sample 3 converted!')\n",
        "\n",
        "tG4 = make_digraph_time(sample4)\n",
        "print('Sample 4 converted!')\n",
        "\n",
        "tG5 = make_digraph_time(sample5)\n",
        "print('Sample 5 converted!')\n",
        "\n",
        "tG6 = make_digraph_time(sample6)\n",
        "print('Sample 6 converted!')\n",
        "\n",
        "tG7 = make_digraph_time(sample7)\n",
        "print('Sample 7 converted!')\n",
        "\n",
        "liste_sample = [tG1,tG2,tG3,tG4,tG5,tG6,tG7]\n",
        "\n",
        "print('Writing towards CSV files')\n",
        "csv_writer_time(liste_sample,'timegraph.csv')\n"
      ],
      "outputs": [
        {
          "output_type": "stream",
          "name": "stdout",
          "text": [
            "Sampling...\n",
            "Sampling over...\n",
            "Converting towards DiGraph...\n",
            "Sample 1 converted!\n",
            "Sample 2 converted!\n",
            "Sample 3 converted!\n",
            "Sample 4 converted!\n",
            "Sample 5 converted!\n",
            "Sample 6 converted!\n",
            "Sample 7 converted!\n",
            "Writing towards CSV files\n",
            "Writing sample 1!\n",
            "Writing sample 2!\n",
            "Writing sample 3!\n",
            "Writing sample 4!\n",
            "Writing sample 5!\n",
            "Writing sample 6!\n",
            "Writing sample 7!\n",
            "Transferring to csv file.\n"
          ]
        }
      ],
      "execution_count": 15,
      "metadata": {}
    },
    {
      "cell_type": "markdown",
      "source": [
        "Now, as I did not manage to use dynamical graphs in Gephi, I just made a community detection and then exported the graph. This way, I can fusion the nodes into single communities for each graph and then re-export into Gephi and compare how communities evolve. This is a lot of back-and-forth but this is the best I came up in this time."
      ],
      "metadata": {}
    },
    {
      "cell_type": "code",
      "source": [
        "#time_graph = nx.read_graphml('timegraph_com.graphml')\n",
        "\n",
        "\n",
        "#Création de la liste de noeuds\n",
        "print('Création de la liste de noeuds')\n",
        "nodes = list(time_graph.nodes(data=True))\n",
        "\n",
        "#On créé un dictionnaire noeud -> community class\n",
        "print('Création du dictionnaire de communautés')\n",
        "node_com = {}\n",
        "for n in nodes:\n",
        "    com = n[1]['Modularity Class']\n",
        "    node_com[n[0]]=com\n",
        "\n",
        "\n",
        "#On créé un dictionnaire (com1,com2): poids, pour chaque graph\n",
        "tg1 = {}\n",
        "tg2 = {}\n",
        "tg3 = {}\n",
        "tg4 = {}\n",
        "tg5 = {}\n",
        "tg6 = {}\n",
        "tg7 = {}\n",
        "\n",
        "#Dictionnaire rassemblant tous les dictionnaires, ce qui permet de les retrouver depuis leur date de départ\n",
        "dico_graph = {'2016-09-02 12:05:02':tg1, '2016-09-02 18:00:29':tg2, '2016-09-02 22:06:01':tg3, '2016-09-03 02:13:46':tg4, '2016-09-03 06:45:03':tg5, '2016-09-03 10:25:09':tg6, '2016-09-03 14:12:24':tg7}\n",
        "\n",
        "#Classe chacun des edges dans le dictionnaire correspondant, en prenant le soin de fusionner les noeuds en communautés\n",
        "print('Fusion des communautés en cours...')\n",
        "for e in list(time_graph.edges(data=True)):\n",
        "    u = node_com[e[0]] \n",
        "    v = node_com[e[1]]\n",
        "    data = e[2]\n",
        "    w = data['weight']\n",
        "    start = data['start date']\n",
        "    \n",
        "    if((u,v) not in dico_graph[start].keys()):\n",
        "        dico_graph[start][(u,v)] = w\n",
        "    else:\n",
        "        dico_graph[start][(u,v)] = dico_graph[start][(u,v)] + w\n",
        "\n",
        "\n",
        "    \n",
        "        \n",
        "print('Terminé!')\n",
        "\n",
        "    \n",
        "  \n",
        "        "
      ],
      "outputs": [
        {
          "output_type": "stream",
          "name": "stdout",
          "text": [
            "Création de la liste de noeuds\n",
            "Création du dictionnaire de communautés\n",
            "Fusion des communautés en cours...\n",
            "Terminé!\n",
            "1838\n",
            "1841\n",
            "1030\n",
            "1393\n",
            "1017\n",
            "1207\n",
            "1877\n"
          ]
        }
      ],
      "execution_count": 52,
      "metadata": {}
    },
    {
      "cell_type": "markdown",
      "source": [
        "OK, now let's remake 7 CSV files that I will be able to compare in Gephi."
      ],
      "metadata": {}
    },
    {
      "cell_type": "code",
      "source": [
        "def dic_to_graph(dic):\n",
        "    G = nx.DiGraph()\n",
        "    liste_edges = []\n",
        "    for e in dic.keys():\n",
        "        u = e[0]\n",
        "        v = e[1]\n",
        "        w = dic[e]\n",
        "        liste_edges.append((u,v,{'weight':w}))\n",
        "    G.add_edges_from(liste_edges)\n",
        "    return G\n",
        "\n",
        "fin1 = dic_to_graph(tg1)\n",
        "fin2 = dic_to_graph(tg2)\n",
        "fin3 = dic_to_graph(tg3)\n",
        "fin4 = dic_to_graph(tg4)\n",
        "fin5 = dic_to_graph(tg5)\n",
        "fin6 = dic_to_graph(tg6)\n",
        "fin7 = dic_to_graph(tg7)\n",
        "\n",
        "filename = ['fin1.csv','fin2.csv','fin3.csv','fin4.csv','fin5.csv','fin6.csv','fin7.csv']\n",
        "graphs = [fin1,fin2,fin3,fin4,fin5,fin6,fin7]\n",
        "for i in range(7):\n",
        "    csv_writer(graphs[i],filename[i])"
      ],
      "outputs": [],
      "execution_count": 56,
      "metadata": {}
    },
    {
      "cell_type": "markdown",
      "source": [
        "![](img\\time.png)"
      ],
      "metadata": {}
    },
    {
      "cell_type": "markdown",
      "source": [
        "Sadly, this did not work out as I expected. As you can see here, the graph is not connected at all. This example is the first sample but this gives the same thing for other samples. \n"
      ],
      "metadata": {}
    },
    {
      "cell_type": "markdown",
      "source": [
        "# Conclusion"
      ],
      "metadata": {}
    },
    {
      "cell_type": "markdown",
      "source": [
        "The Bitcoin transaction dataset is one of these really heavy dataset (\"Big Data\" some people say) that is hard to handle with few computing power. This led me to use technics to reduce it in order to make it observable through Gephi. As we have seen, this network harbors the same caracteristics as \"real-life\" network which is namely a power-law degree distribution. We've been able to see that the Bitcoin transaction networks has an interesting organization with a main body which is highly connected and has a small diameter. Smaller communities gravitate around the main body and use particularly big hubs that act as gates in order to reach the main body. However the main difficulty with this approach is that we can't properly interpret the network as we do not now the identities of theses nodes/communities.\n",
        "Finally, the most interesting thing would have been to observe network topology changes during strong price changes, but technical issues made me lost a lot of time and I could not get the result I expected. Maybe a better approach would be to not fusion nodes prior to temporal observation, but my laptop could not handle this kind of tasks.\n",
        "\n",
        "### Thanks for reading  I hope you found it interesting.\n"
      ],
      "metadata": {}
    }
  ],
  "metadata": {
    "kernelspec": {
      "name": "python3",
      "language": "python",
      "display_name": "Python 3"
    },
    "language_info": {
      "name": "python",
      "version": "3.7.5",
      "mimetype": "text/x-python",
      "codemirror_mode": {
        "name": "ipython",
        "version": 3
      },
      "pygments_lexer": "ipython3",
      "nbconvert_exporter": "python",
      "file_extension": ".py"
    },
    "kernel_info": {
      "name": "python3"
    },
    "nteract": {
      "version": "0.15.0"
    }
  },
  "nbformat": 4,
  "nbformat_minor": 2
}