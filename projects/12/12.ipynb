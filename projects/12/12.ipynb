{
  "cells": [
    {
      "cell_type": "markdown",
      "source": [
        "# Complex networks project: shared subscribers and subscriptions networks on Youtube"
      ],
      "metadata": {}
    },
    {
      "cell_type": "markdown",
      "source": [],
      "metadata": {}
    },
    {
      "cell_type": "markdown",
      "source": [
        "Youtube has become in a few years the most famous internet platform to share videos. Created at the beginning to share personal videos with others, Youtube is now an important actor of the entertainment industry. Youtubers, Youtube users who regularly post videos, are able to gather millions of subscribers on their videos (PewDiePie recently crossed the 100 million subscribers barrier). \n",
        "\n",
        "I wanted to explore some features of Youtube network structure as I believe Youtube is not a social network (even if Youtube is adding features to make it more social).\n",
        "\n",
        "\n",
        "\n",
        "ADVISE: do not do an all run!"
      ],
      "metadata": {}
    },
    {
      "cell_type": "markdown",
      "source": [
        "## Packages"
      ],
      "metadata": {}
    },
    {
      "cell_type": "code",
      "source": [
        "import networkx as nx\n",
        "import numpy as np\n",
        "import matplotlib.pyplot as plt\n",
        "import csv\n",
        "import community #package for Louvain detection community\n",
        "import pickle\n",
        "\n",
        "from tqdm.notebook import tqdm"
      ],
      "outputs": [],
      "execution_count": 117,
      "metadata": {}
    },
    {
      "cell_type": "markdown",
      "source": [
        "## Data"
      ],
      "metadata": {}
    },
    {
      "cell_type": "markdown",
      "source": [
        "The complete dataset focuses on 15088 active Youtube users (out of more than 800000 users) and includes 5 different types of edges: 1- the contact network between these users; 2- the number of shared friends among all Youtube users for whom they had data excluding the active ones; 3- the number of shared subscriptions; 4- the number of shared subscribers; 5- the number of shared favorite videos.\n",
        "\n",
        "As one may have guessed, those data were mainly used to test new techniques of community detection using 5 dimensions. [1] \n",
        "\n",
        "\n",
        "From my personal use, \"contact\" feature is not important nowadays in Youtube (I can't even find where are my contacts or how to add one on Youtube). The meaning of \"shared favorite videos\" is ambiguous as favorite video could mean a video added to one's personal default \"Favorite\" video folder or liked videos. In any case, I believe the majority of users do not use that feature as importantly as subscribing to a channel. Hence, the work below will only focus on the edges 3- (\\~ 5 million edges) and 4- (\\~ 2 million edges). \n",
        "\n",
        "Source: http://socialcomputing.asu.edu/datasets/YouTube"
      ],
      "metadata": {}
    },
    {
      "cell_type": "code",
      "source": [
        "path = ''"
      ],
      "outputs": [],
      "execution_count": 1,
      "metadata": {}
    },
    {
      "cell_type": "code",
      "source": [
        "## Computing the number of nodes\n",
        "\n",
        "with open(path + 'nodes.csv', mode = 'r') as csvfile:\n",
        "    reader = csv.reader(csvfile)\n",
        "    next(reader)\n",
        "    n = sum(1 for row in reader)"
      ],
      "outputs": [],
      "execution_count": 45,
      "metadata": {}
    },
    {
      "cell_type": "code",
      "source": [
        "## Import edges data\n",
        "\n",
        "datalist = ['contact','shared friends', 'subscription', 'subscriber', 'video']\n",
        "\n",
        "for i in [3,4]:\n",
        "    vars()['edges{}'.format(i)] = []\n",
        "    with open(path + '{}-edges.csv'.format(i), mode ='r') as csvfile:\n",
        "        reader = csv.reader(csvfile)\n",
        "        next(reader)\n",
        "        reader = list(reader)\n",
        "        for row in reader:\n",
        "        # conversion en int + add data type \n",
        "            rowadd = [int(i) for i in row[:2]] + [{datalist[i-1]: int(row[-1])}]\n",
        "            vars()['edges{}'.format(i)].append(rowadd)"
      ],
      "outputs": [],
      "execution_count": 37,
      "metadata": {}
    },
    {
      "cell_type": "markdown",
      "source": [
        "## The Graph"
      ],
      "metadata": {}
    },
    {
      "cell_type": "markdown",
      "source": [
        "I denote G3 the graph with the edges 3- and G4 the graph with the edges 4-. "
      ],
      "metadata": {}
    },
    {
      "cell_type": "code",
      "source": [
        "## Initialize the graphs\n",
        "\n",
        "G3 = nx.Graph()\n",
        "G3.add_nodes_from(np.arange(1,n+1,1))\n",
        "G3.add_edges_from(edges3)\n",
        "\n",
        "G4 = nx.Graph()\n",
        "G4.add_nodes_from(np.arange(1,n+1,1))\n",
        "G4.add_edges_from(edges4)"
      ],
      "outputs": [],
      "execution_count": 48,
      "metadata": {}
    },
    {
      "cell_type": "markdown",
      "source": [
        "If one wants to skip previous steps, it is possible to load unworked version of G3 and G4. However I had G3 and G4 created faster by loading the csv files."
      ],
      "metadata": {}
    },
    {
      "cell_type": "code",
      "source": [
        "## Skip creating the data by directly importing the graphs\n",
        "\n",
        "G3 = nx.read_gexf(path + 'G3_raw.gexf', node_type = int)\n",
        "G4 = nx.read_gexf(path + 'G4_raw.gexf', node_type = int)"
      ],
      "outputs": [],
      "execution_count": 35,
      "metadata": {}
    },
    {
      "cell_type": "markdown",
      "source": [
        "A short overview of the data to get a hang of the data structure."
      ],
      "metadata": {}
    },
    {
      "cell_type": "code",
      "source": [
        "## Number of edges\n",
        "print(len(G3.nodes()))\n",
        "print(len(G4.nodes()))"
      ],
      "outputs": [
        {
          "output_type": "stream",
          "name": "stdout",
          "text": [
            "15088\n",
            "15088\n"
          ]
        }
      ],
      "execution_count": 49,
      "metadata": {}
    },
    {
      "cell_type": "code",
      "source": [
        "## Data overview\n",
        "\n",
        "compteur = 0\n",
        "for u,v,attr in G3.edges(data = True):\n",
        "    compteur += 1\n",
        "    if compteur < 10:\n",
        "        print(u,v,attr)\n",
        "    else:\n",
        "        break    \n",
        "\n",
        "compteur = 0\n",
        "for u,v,attr in G4.edges(data = True):\n",
        "    compteur += 1\n",
        "    if compteur < 10:\n",
        "        print(u,v,attr)\n",
        "    else:\n",
        "        break"
      ],
      "outputs": [
        {
          "output_type": "stream",
          "name": "stdout",
          "text": [
            "1 811 {'subscription': 1}\n",
            "1 813 {'subscription': 1}\n",
            "1 814 {'subscription': 1}\n",
            "1 815 {'subscription': 1}\n",
            "1 816 {'subscription': 1}\n",
            "1 817 {'subscription': 1}\n",
            "1 818 {'subscription': 1}\n",
            "1 820 {'subscription': 1}\n",
            "1 821 {'subscription': 1}\n",
            "4 14437 {'subscriber': 1}\n",
            "8 329 {'subscriber': 1}\n",
            "8 644 {'subscriber': 1}\n",
            "8 3121 {'subscriber': 1}\n",
            "8 3956 {'subscriber': 1}\n",
            "8 5088 {'subscriber': 1}\n",
            "8 5089 {'subscriber': 1}\n",
            "8 5090 {'subscriber': 1}\n",
            "8 5091 {'subscriber': 1}\n"
          ]
        }
      ],
      "execution_count": 95,
      "metadata": {}
    },
    {
      "cell_type": "code",
      "source": [
        "## Save the graph if needed\n",
        "\n",
        "nx.readwrite.gexf.write_gexf(G4, path + 'G4.gexf')"
      ],
      "outputs": [],
      "execution_count": null,
      "metadata": {}
    },
    {
      "cell_type": "markdown",
      "source": [
        "## Degree distribution analysis"
      ],
      "metadata": {}
    },
    {
      "cell_type": "markdown",
      "source": [
        "A first thing one can compute is the weighted degree distribution throughout the graph. Both graph can't be (at least easily) approximated by a power law. It may not seem obvious but one can uncomment some lines in the code, tweak the power parameter and will notice no clear fit. The steep in log/log plot is not obvious and tweaking the number of bins in histogram may change the curve shape a lot.\n",
        "\n",
        "A consequence is that Youtube, at least on the subscribers/subscriptions point of view, does not behave as a social network. \n",
        "\n",
        "Weirdly enough, if one computes the distribution of edges values, one will get that both graph follows a power law like distribution with a power coefficient \\~ -2. "
      ],
      "metadata": {}
    },
    {
      "cell_type": "code",
      "source": [
        "## Calcul du degré de chaque noeud de G3\n",
        "list_degree = [0 for node in G3.nodes()]\n",
        "for u,v in G3.edges():\n",
        "    value = G3.edges[u,v]['subscription']\n",
        "    list_degree[u-1] += value/2\n",
        "    list_degree[v-1] += value/2"
      ],
      "outputs": [],
      "execution_count": 180,
      "metadata": {}
    },
    {
      "cell_type": "code",
      "source": [
        "## Degree distribution of G3\n",
        "\n",
        "n = len(G3.nodes())\n",
        "fig = plt.figure(figsize = [20,10])\n",
        "ax1 = fig.add_subplot(1,2,1)\n",
        "ax2 = fig.add_subplot(1,2,2)\n",
        "\n",
        "lowcut = 0\n",
        "power = 2\n",
        "\n",
        "histo_sub, bins = np.histogram(list_degree, bins = n//10)\n",
        "ax1.bar(list(bins)[lowcut:-1], list(histo_sub/np.sum(histo_sub))[lowcut:], width=np.diff(bins[lowcut:]), ec=\"k\", align=\"edge\")\n",
        "#ax1.plot(list(bins)[lowcut+1:],[1/i**power for i in list(bins)[lowcut+1:]],'r')\n",
        "ax1.set_title('Histogramme normalisé de distribution des degrés')\n",
        "ax1.set_xlabel('Nombre de degrés')\n",
        "ax1.set_ylabel('Proportion de noeuds')\n",
        "#ax1.set_xlim(0,5000)\n",
        "#ax1.set_ylim(0,0.1)\n",
        "\n",
        "ax2.plot(bins[:-1],list(histo_sub/np.sum(histo_sub))[lowcut:])\n",
        "#ax2.plot(list(bins)[lowcut+1:],[1/i**power for i in list(bins)[lowcut+1:]],'r')\n",
        "ax2.set_title('Distribution des degrés en échelle logarithmique')\n",
        "ax2.set_xlabel('Nombre de degrés')\n",
        "ax2.set_ylabel('Proportion de noeuds')\n",
        "plt.yscale('log')\n",
        "plt.xscale('log')\n",
        "\n",
        "plt.show()"
      ],
      "outputs": [
        {
          "output_type": "display_data",
          "data": {
            "image/png": "[encoded data removed]",
            "text/plain": [
              "<Figure size 1440x720 with 2 Axes>"
            ]
          },
          "metadata": {
            "needs_background": "light"
          }
        }
      ],
      "execution_count": 181,
      "metadata": {
        "scrolled": false
      }
    },
    {
      "cell_type": "code",
      "source": [
        "## Edge distribution of G3\n",
        "\n",
        "n = len(G3.nodes())\n",
        "fig = plt.figure(figsize = [20,10])\n",
        "ax1 = fig.add_subplot(1,2,1)\n",
        "ax2 = fig.add_subplot(1,2,2)\n",
        "\n",
        "lowcut = 0\n",
        "power = 2\n",
        "\n",
        "list_attr = [G3.edges[u,v]['subscription'] for u,v in G3.edges()]\n",
        "histo_sub, bins = np.histogram(list_attr, bins = n//100)\n",
        "ax1.bar(list(bins)[lowcut:-1], list(histo_sub/np.sum(histo_sub))[lowcut:], width=np.diff(bins[lowcut:]), ec=\"k\", align=\"edge\")\n",
        "ax1.plot(list(bins)[lowcut+1:],[1/i**power for i in list(bins)[lowcut+1:]],'r')\n",
        "ax1.set_title('Histogramme normalisé de distribution des edges')\n",
        "ax1.set_xlabel('Valeur d\\'un edge')\n",
        "ax1.set_ylabel('Proportion d\\'edge')\n",
        "\n",
        "ax2.plot(bins[:-1],list(histo_sub/np.sum(histo_sub))[lowcut:])\n",
        "ax2.plot(list(bins)[lowcut+1:],[1/i**power for i in list(bins)[lowcut+1:]],'r')\n",
        "ax2.set_title('Distribution des edges en échelle logarithmique')\n",
        "ax2.set_xlabel('Valeur d\\'un edge')\n",
        "ax2.set_ylabel('Proportion d\\'edge')\n",
        "plt.yscale('log')\n",
        "plt.xscale('log')\n",
        "\n",
        "plt.show()"
      ],
      "outputs": [
        {
          "output_type": "display_data",
          "data": {
            "image/png": "[encoded data removed]",
            "text/plain": [
              "<Figure size 1440x720 with 2 Axes>"
            ]
          },
          "metadata": {
            "needs_background": "light"
          }
        }
      ],
      "execution_count": 187,
      "metadata": {}
    },
    {
      "cell_type": "code",
      "source": [
        "## Calcul du degré de chaque noeud de G4\n",
        "\n",
        "list_degree = [0 for node in G4.nodes()]\n",
        "for u,v in G4.edges():\n",
        "    value = G4.edges[u,v]['subscriber']\n",
        "    list_degree[u-1] += value/2\n",
        "    list_degree[v-1] += value/2"
      ],
      "outputs": [],
      "execution_count": 182,
      "metadata": {}
    },
    {
      "cell_type": "code",
      "source": [
        "## Degree distribution of G4\n",
        "\n",
        "n = len(G4.nodes())\n",
        "fig = plt.figure(figsize = [20,10])\n",
        "ax1 = fig.add_subplot(1,2,1)\n",
        "ax2 = fig.add_subplot(1,2,2)\n",
        "\n",
        "lowcut = 0\n",
        "power = 2\n",
        "    \n",
        "histo_sub, bins = np.histogram(list_degree, bins = n//10)\n",
        "ax1.bar(list(bins)[lowcut:-1], list(histo_sub/np.sum(histo_sub))[lowcut:], width=np.diff(bins[lowcut:]), ec=\"k\", align=\"edge\")\n",
        "#ax1.plot(list(bins)[lowcut+1:],[1/i**power for i in list(bins)[lowcut+1:]],'r')\n",
        "ax1.set_title('Histogramme normalisé de distribution des degrés')\n",
        "ax2.set_xlabel('Nombre de degrés')\n",
        "ax2.set_ylabel('Proportion de noeuds')\n",
        "#ax1.set_xlim(0,5000)\n",
        "#ax1.set_ylim(0,0.1)\n",
        "\n",
        "ax2.plot(bins[:-1],list(histo_sub/np.sum(histo_sub))[lowcut:])\n",
        "#ax2.plot(list(bins)[lowcut+1:],[1/i**power for i in list(bins)[lowcut+1:]],'r')\n",
        "ax2.set_title('Distribution des degrés en échelle logarithmique')\n",
        "ax2.set_xlabel('Nombre de degrés')\n",
        "ax2.set_ylabel('Proportion de noeuds')\n",
        "plt.yscale('log')\n",
        "plt.xscale('log')\n",
        "\n",
        "plt.show()"
      ],
      "outputs": [
        {
          "output_type": "display_data",
          "data": {
            "image/png": "[encoded data removed]",
            "text/plain": [
              "<Figure size 1440x720 with 2 Axes>"
            ]
          },
          "metadata": {
            "needs_background": "light"
          }
        }
      ],
      "execution_count": 184,
      "metadata": {
        "scrolled": false
      }
    },
    {
      "cell_type": "code",
      "source": [
        "## Edge distribution of G4\n",
        "\n",
        "n = len(G4.nodes())\n",
        "fig = plt.figure(figsize = [20,10])\n",
        "ax1 = fig.add_subplot(1,2,1)\n",
        "ax2 = fig.add_subplot(1,2,2)\n",
        "\n",
        "lowcut = 0\n",
        "power = 2\n",
        "\n",
        "list_attr = [G4.edges[u,v]['subscriber'] for u,v in G4.edges()]\n",
        "histo_sub, bins = np.histogram(list_attr, bins = n//100)\n",
        "ax1.bar(list(bins)[lowcut:-1], list(histo_sub/np.sum(histo_sub))[lowcut:], width=np.diff(bins[lowcut:]), ec=\"k\", align=\"edge\")\n",
        "ax1.plot(list(bins)[lowcut+1:],[1/i**power for i in list(bins)[lowcut+1:]],'r')\n",
        "ax1.set_title('Histogramme normalisé de distribution des edges')\n",
        "ax1.set_xlabel('Valeur d\\'un edge')\n",
        "ax1.set_ylabel('Proportion d\\'edge')\n",
        "\n",
        "ax2.plot(bins[:-1],list(histo_sub/np.sum(histo_sub))[lowcut:])\n",
        "ax2.plot(list(bins)[lowcut+1:],[1/i**power for i in list(bins)[lowcut+1:]],'r')\n",
        "ax2.set_title('Distribution des edges en échelle logarithmique')\n",
        "ax2.set_xlabel('Valeur d\\'un edge')\n",
        "ax2.set_ylabel('Proportion d\\'edge')\n",
        "plt.yscale('log')\n",
        "plt.xscale('log')\n",
        "\n",
        "plt.show()"
      ],
      "outputs": [
        {
          "output_type": "display_data",
          "data": {
            "image/png": "[encoded data removed]",
            "text/plain": [
              "<Figure size 1440x720 with 2 Axes>"
            ]
          },
          "metadata": {
            "needs_background": "light"
          }
        }
      ],
      "execution_count": 186,
      "metadata": {}
    },
    {
      "cell_type": "markdown",
      "source": [
        "## Comunity detection (Louvain)"
      ],
      "metadata": {}
    },
    {
      "cell_type": "markdown",
      "source": [
        "Let us investigate communities in G3 and G4 using a Louvain algorithm provided by the package community. Computations can take a feeeeew minutes."
      ],
      "metadata": {}
    },
    {
      "cell_type": "code",
      "source": [
        "## Find communities with Louvain algorithms in G3\n",
        "\n",
        "G3_louvain = community.best_partition(G3, weight = 'subscription')"
      ],
      "outputs": [],
      "execution_count": 63,
      "metadata": {}
    },
    {
      "cell_type": "code",
      "source": [
        "## Find communities with Louvain algorithms in G4\n",
        "\n",
        "G4_louvain = community.best_partition(G4, weight = 'subscriber')"
      ],
      "outputs": [],
      "execution_count": 71,
      "metadata": {}
    },
    {
      "cell_type": "markdown",
      "source": [
        "The algorithm returns a dictionary with nodes as entries and stores a number for each node, the number of the community the node is associated with."
      ],
      "metadata": {}
    },
    {
      "cell_type": "code",
      "source": [
        "print(type(G3_louvain))\n",
        "G4_louvain"
      ],
      "outputs": [
        {
          "output_type": "stream",
          "name": "stdout",
          "text": [
            "<class 'dict'>\n"
          ]
        },
        {
          "output_type": "execute_result",
          "execution_count": 74,
          "data": {
            "text/plain": [
              "{1: 0,\n",
              " 2: 1,\n",
              " 3: 2,\n",
              " 4: 3,\n",
              " 5: 4,\n",
              " 6: 5,\n",
              " 7: 6,\n",
              " 8: 7,\n",
              " 9: 3,\n",
              " 10: 7,\n",
              " 11: 8,\n",
              " 12: 3,\n",
              " 13: 3,\n",
              " 14: 9,\n",
              " 15: 10,\n",
              " 16: 11,\n",
              " 17: 12,\n",
              " 18: 13,\n",
              " 19: 14,\n",
              " 20: 15,\n",
              " 21: 3,\n",
              " 22: 16,\n",
              " 23: 17,\n",
              " 24: 3,\n",
              " 25: 3,\n",
              " 26: 3,\n",
              " 27: 3,\n",
              " 28: 3,\n",
              " 29: 18,\n",
              " 30: 3,\n",
              " 31: 3,\n",
              " 32: 3,\n",
              " 33: 3,\n",
              " 34: 3,\n",
              " 35: 3,\n",
              " 36: 3,\n",
              " 37: 19,\n",
              " 38: 20,\n",
              " 39: 21,\n",
              " 40: 12,\n",
              " 41: 12,\n",
              " 42: 12,\n",
              " 43: 12,\n",
              " 44: 3,\n",
              " 45: 22,\n",
              " 46: 12,\n",
              " 47: 3,\n",
              " 48: 12,\n",
              " 49: 23,\n",
              " 50: 3,\n",
              " 51: 3,\n",
              " 52: 24,\n",
              " 53: 12,\n",
              " 54: 25,\n",
              " 55: 3,\n",
              " 56: 12,\n",
              " 57: 26,\n",
              " 58: 12,\n",
              " 59: 12,\n",
              " 60: 3,\n",
              " 61: 27,\n",
              " 62: 12,\n",
              " 63: 12,\n",
              " 64: 3,\n",
              " 65: 28,\n",
              " 66: 3,\n",
              " 67: 12,\n",
              " 68: 29,\n",
              " 69: 3,\n",
              " 70: 25,\n",
              " 71: 25,\n",
              " 72: 12,\n",
              " 73: 3,\n",
              " 74: 30,\n",
              " 75: 3,\n",
              " 76: 31,\n",
              " 77: 3,\n",
              " 78: 32,\n",
              " 79: 3,\n",
              " 80: 3,\n",
              " 81: 3,\n",
              " 82: 3,\n",
              " 83: 27,\n",
              " 84: 33,\n",
              " 85: 3,\n",
              " 86: 7,\n",
              " 87: 3,\n",
              " 88: 7,\n",
              " 89: 3,\n",
              " 90: 34,\n",
              " 91: 7,\n",
              " 92: 7,\n",
              " 93: 7,\n",
              " 94: 7,\n",
              " 95: 7,\n",
              " 96: 35,\n",
              " 97: 7,\n",
              " 98: 3,\n",
              " 99: 36,\n",
              " 100: 37,\n",
              " 101: 37,\n",
              " 102: 37,\n",
              " 103: 11,\n",
              " 104: 3,\n",
              " 105: 11,\n",
              " 106: 37,\n",
              " 107: 36,\n",
              " 108: 36,\n",
              " 109: 37,\n",
              " 110: 36,\n",
              " 111: 37,\n",
              " 112: 37,\n",
              " 113: 36,\n",
              " 114: 11,\n",
              " 115: 36,\n",
              " 116: 37,\n",
              " 117: 36,\n",
              " 118: 37,\n",
              " 119: 37,\n",
              " 120: 37,\n",
              " 121: 36,\n",
              " 122: 11,\n",
              " 123: 3,\n",
              " 124: 11,\n",
              " 125: 36,\n",
              " 126: 3,\n",
              " 127: 3,\n",
              " 128: 36,\n",
              " 129: 36,\n",
              " 130: 36,\n",
              " 131: 3,\n",
              " 132: 37,\n",
              " 133: 36,\n",
              " 134: 3,\n",
              " 135: 37,\n",
              " 136: 3,\n",
              " 137: 37,\n",
              " 138: 37,\n",
              " 139: 11,\n",
              " 140: 36,\n",
              " 141: 37,\n",
              " 142: 3,\n",
              " 143: 3,\n",
              " 144: 3,\n",
              " 145: 36,\n",
              " 146: 3,\n",
              " 147: 37,\n",
              " 148: 36,\n",
              " 149: 37,\n",
              " 150: 37,\n",
              " 151: 36,\n",
              " 152: 37,\n",
              " 153: 37,\n",
              " 154: 36,\n",
              " 155: 11,\n",
              " 156: 37,\n",
              " 157: 3,\n",
              " 158: 37,\n",
              " 159: 37,\n",
              " 160: 36,\n",
              " 161: 36,\n",
              " 162: 37,\n",
              " 163: 37,\n",
              " 164: 36,\n",
              " 165: 3,\n",
              " 166: 37,\n",
              " 167: 37,\n",
              " 168: 3,\n",
              " 169: 37,\n",
              " 170: 37,\n",
              " 171: 3,\n",
              " 172: 37,\n",
              " 173: 11,\n",
              " 174: 11,\n",
              " 175: 3,\n",
              " 176: 3,\n",
              " 177: 37,\n",
              " 178: 36,\n",
              " 179: 3,\n",
              " 180: 37,\n",
              " 181: 3,\n",
              " 182: 11,\n",
              " 183: 3,\n",
              " 184: 37,\n",
              " 185: 37,\n",
              " 186: 37,\n",
              " 187: 37,\n",
              " 188: 12,\n",
              " 189: 3,\n",
              " 190: 3,\n",
              " 191: 38,\n",
              " 192: 39,\n",
              " 193: 12,\n",
              " 194: 12,\n",
              " 195: 12,\n",
              " 196: 12,\n",
              " 197: 12,\n",
              " 198: 12,\n",
              " 199: 40,\n",
              " 200: 12,\n",
              " 201: 41,\n",
              " 202: 12,\n",
              " 203: 12,\n",
              " 204: 42,\n",
              " 205: 12,\n",
              " 206: 43,\n",
              " 207: 44,\n",
              " 208: 45,\n",
              " 209: 12,\n",
              " 210: 46,\n",
              " 211: 3,\n",
              " 212: 3,\n",
              " 213: 3,\n",
              " 214: 3,\n",
              " 215: 3,\n",
              " 216: 47,\n",
              " 217: 3,\n",
              " 218: 3,\n",
              " 219: 3,\n",
              " 220: 3,\n",
              " 221: 3,\n",
              " 222: 48,\n",
              " 223: 3,\n",
              " 224: 3,\n",
              " 225: 25,\n",
              " 226: 37,\n",
              " 227: 49,\n",
              " 228: 3,\n",
              " 229: 3,\n",
              " 230: 3,\n",
              " 231: 3,\n",
              " 232: 3,\n",
              " 233: 3,\n",
              " 234: 3,\n",
              " 235: 3,\n",
              " 236: 3,\n",
              " 237: 3,\n",
              " 238: 25,\n",
              " 239: 25,\n",
              " 240: 3,\n",
              " 241: 3,\n",
              " 242: 50,\n",
              " 243: 51,\n",
              " 244: 7,\n",
              " 245: 52,\n",
              " 246: 3,\n",
              " 247: 25,\n",
              " 248: 36,\n",
              " 249: 25,\n",
              " 250: 25,\n",
              " 251: 3,\n",
              " 252: 53,\n",
              " 253: 3,\n",
              " 254: 11,\n",
              " 255: 3,\n",
              " 256: 11,\n",
              " 257: 54,\n",
              " 258: 11,\n",
              " 259: 11,\n",
              " 260: 11,\n",
              " 261: 11,\n",
              " 262: 11,\n",
              " 263: 11,\n",
              " 264: 55,\n",
              " 265: 56,\n",
              " 266: 11,\n",
              " 267: 57,\n",
              " 268: 58,\n",
              " 269: 59,\n",
              " 270: 60,\n",
              " 271: 61,\n",
              " 272: 3,\n",
              " 273: 3,\n",
              " 274: 3,\n",
              " 275: 3,\n",
              " 276: 62,\n",
              " 277: 63,\n",
              " 278: 64,\n",
              " 279: 11,\n",
              " 280: 3,\n",
              " 281: 3,\n",
              " 282: 3,\n",
              " 283: 3,\n",
              " 284: 65,\n",
              " 285: 3,\n",
              " 286: 66,\n",
              " 287: 67,\n",
              " 288: 68,\n",
              " 289: 69,\n",
              " 290: 3,\n",
              " 291: 3,\n",
              " 292: 70,\n",
              " 293: 3,\n",
              " 294: 3,\n",
              " 295: 3,\n",
              " 296: 3,\n",
              " 297: 3,\n",
              " 298: 3,\n",
              " 299: 3,\n",
              " 300: 3,\n",
              " 301: 3,\n",
              " 302: 71,\n",
              " 303: 72,\n",
              " 304: 73,\n",
              " 305: 74,\n",
              " 306: 75,\n",
              " 307: 76,\n",
              " 308: 77,\n",
              " 309: 78,\n",
              " 310: 3,\n",
              " 311: 3,\n",
              " 312: 79,\n",
              " 313: 80,\n",
              " 314: 81,\n",
              " 315: 82,\n",
              " 316: 83,\n",
              " 317: 84,\n",
              " 318: 85,\n",
              " 319: 86,\n",
              " 320: 87,\n",
              " 321: 88,\n",
              " 322: 89,\n",
              " 323: 3,\n",
              " 324: 90,\n",
              " 325: 91,\n",
              " 326: 92,\n",
              " 327: 93,\n",
              " 328: 94,\n",
              " 329: 3,\n",
              " 330: 95,\n",
              " 331: 3,\n",
              " 332: 3,\n",
              " 333: 3,\n",
              " 334: 96,\n",
              " 335: 97,\n",
              " 336: 3,\n",
              " 337: 3,\n",
              " 338: 98,\n",
              " 339: 99,\n",
              " 340: 100,\n",
              " 341: 101,\n",
              " 342: 102,\n",
              " 343: 3,\n",
              " 344: 103,\n",
              " 345: 104,\n",
              " 346: 105,\n",
              " 347: 3,\n",
              " 348: 3,\n",
              " 349: 106,\n",
              " 350: 107,\n",
              " 351: 108,\n",
              " 352: 109,\n",
              " 353: 3,\n",
              " 354: 110,\n",
              " 355: 111,\n",
              " 356: 112,\n",
              " 357: 3,\n",
              " 358: 113,\n",
              " 359: 114,\n",
              " 360: 115,\n",
              " 361: 3,\n",
              " 362: 116,\n",
              " 363: 3,\n",
              " 364: 117,\n",
              " 365: 118,\n",
              " 366: 119,\n",
              " 367: 12,\n",
              " 368: 12,\n",
              " 369: 12,\n",
              " 370: 12,\n",
              " 371: 12,\n",
              " 372: 120,\n",
              " 373: 121,\n",
              " 374: 12,\n",
              " 375: 12,\n",
              " 376: 12,\n",
              " 377: 12,\n",
              " 378: 12,\n",
              " 379: 12,\n",
              " 380: 12,\n",
              " 381: 122,\n",
              " 382: 123,\n",
              " 383: 12,\n",
              " 384: 12,\n",
              " 385: 12,\n",
              " 386: 12,\n",
              " 387: 124,\n",
              " 388: 125,\n",
              " 389: 126,\n",
              " 390: 12,\n",
              " 391: 127,\n",
              " 392: 128,\n",
              " 393: 129,\n",
              " 394: 12,\n",
              " 395: 130,\n",
              " 396: 131,\n",
              " 397: 132,\n",
              " 398: 133,\n",
              " 399: 12,\n",
              " 400: 12,\n",
              " 401: 12,\n",
              " 402: 12,\n",
              " 403: 12,\n",
              " 404: 12,\n",
              " 405: 12,\n",
              " 406: 3,\n",
              " 407: 134,\n",
              " 408: 25,\n",
              " 409: 3,\n",
              " 410: 25,\n",
              " 411: 37,\n",
              " 412: 135,\n",
              " 413: 136,\n",
              " 414: 137,\n",
              " 415: 25,\n",
              " 416: 25,\n",
              " 417: 25,\n",
              " 418: 3,\n",
              " 419: 25,\n",
              " 420: 25,\n",
              " 421: 25,\n",
              " 422: 25,\n",
              " 423: 3,\n",
              " 424: 138,\n",
              " 425: 139,\n",
              " 426: 140,\n",
              " 427: 141,\n",
              " 428: 142,\n",
              " 429: 143,\n",
              " 430: 144,\n",
              " 431: 145,\n",
              " 432: 146,\n",
              " 433: 147,\n",
              " 434: 148,\n",
              " 435: 149,\n",
              " 436: 150,\n",
              " 437: 151,\n",
              " 438: 152,\n",
              " 439: 153,\n",
              " 440: 154,\n",
              " 441: 3,\n",
              " 442: 155,\n",
              " 443: 156,\n",
              " 444: 157,\n",
              " 445: 158,\n",
              " 446: 159,\n",
              " 447: 160,\n",
              " 448: 161,\n",
              " 449: 3,\n",
              " 450: 162,\n",
              " 451: 163,\n",
              " 452: 164,\n",
              " 453: 165,\n",
              " 454: 166,\n",
              " 455: 167,\n",
              " 456: 168,\n",
              " 457: 169,\n",
              " 458: 170,\n",
              " 459: 171,\n",
              " 460: 172,\n",
              " 461: 173,\n",
              " 462: 174,\n",
              " 463: 175,\n",
              " 464: 176,\n",
              " 465: 177,\n",
              " 466: 178,\n",
              " 467: 3,\n",
              " 468: 179,\n",
              " 469: 180,\n",
              " 470: 181,\n",
              " 471: 182,\n",
              " 472: 183,\n",
              " 473: 184,\n",
              " 474: 185,\n",
              " 475: 186,\n",
              " 476: 187,\n",
              " 477: 188,\n",
              " 478: 189,\n",
              " 479: 190,\n",
              " 480: 191,\n",
              " 481: 192,\n",
              " 482: 193,\n",
              " 483: 194,\n",
              " 484: 195,\n",
              " 485: 196,\n",
              " 486: 197,\n",
              " 487: 3,\n",
              " 488: 3,\n",
              " 489: 12,\n",
              " 490: 198,\n",
              " 491: 199,\n",
              " 492: 200,\n",
              " 493: 3,\n",
              " 494: 201,\n",
              " 495: 3,\n",
              " 496: 3,\n",
              " 497: 202,\n",
              " 498: 203,\n",
              " 499: 204,\n",
              " 500: 12,\n",
              " 501: 205,\n",
              " 502: 206,\n",
              " 503: 207,\n",
              " 504: 208,\n",
              " 505: 209,\n",
              " 506: 210,\n",
              " 507: 25,\n",
              " 508: 211,\n",
              " 509: 212,\n",
              " 510: 3,\n",
              " 511: 213,\n",
              " 512: 214,\n",
              " 513: 215,\n",
              " 514: 3,\n",
              " 515: 216,\n",
              " 516: 217,\n",
              " 517: 218,\n",
              " 518: 219,\n",
              " 519: 220,\n",
              " 520: 221,\n",
              " 521: 222,\n",
              " 522: 223,\n",
              " 523: 224,\n",
              " 524: 225,\n",
              " 525: 226,\n",
              " 526: 227,\n",
              " 527: 228,\n",
              " 528: 3,\n",
              " 529: 229,\n",
              " 530: 230,\n",
              " 531: 231,\n",
              " 532: 232,\n",
              " 533: 11,\n",
              " 534: 233,\n",
              " 535: 27,\n",
              " 536: 27,\n",
              " 537: 27,\n",
              " 538: 27,\n",
              " 539: 27,\n",
              " 540: 27,\n",
              " 541: 27,\n",
              " 542: 234,\n",
              " 543: 27,\n",
              " 544: 27,\n",
              " 545: 27,\n",
              " 546: 27,\n",
              " 547: 27,\n",
              " 548: 3,\n",
              " 549: 27,\n",
              " 550: 27,\n",
              " 551: 27,\n",
              " 552: 27,\n",
              " 553: 27,\n",
              " 554: 27,\n",
              " 555: 27,\n",
              " 556: 3,\n",
              " 557: 27,\n",
              " 558: 3,\n",
              " 559: 3,\n",
              " 560: 27,\n",
              " 561: 27,\n",
              " 562: 27,\n",
              " 563: 27,\n",
              " 564: 27,\n",
              " 565: 27,\n",
              " 566: 27,\n",
              " 567: 27,\n",
              " 568: 27,\n",
              " 569: 27,\n",
              " 570: 27,\n",
              " 571: 27,\n",
              " 572: 27,\n",
              " 573: 27,\n",
              " 574: 3,\n",
              " 575: 235,\n",
              " 576: 236,\n",
              " 577: 3,\n",
              " 578: 3,\n",
              " 579: 3,\n",
              " 580: 3,\n",
              " 581: 237,\n",
              " 582: 3,\n",
              " 583: 238,\n",
              " 584: 3,\n",
              " 585: 239,\n",
              " 586: 240,\n",
              " 587: 241,\n",
              " 588: 242,\n",
              " 589: 243,\n",
              " 590: 244,\n",
              " 591: 245,\n",
              " 592: 246,\n",
              " 593: 3,\n",
              " 594: 3,\n",
              " 595: 247,\n",
              " 596: 248,\n",
              " 597: 3,\n",
              " 598: 3,\n",
              " 599: 3,\n",
              " 600: 249,\n",
              " 601: 3,\n",
              " 602: 250,\n",
              " 603: 251,\n",
              " 604: 252,\n",
              " 605: 253,\n",
              " 606: 254,\n",
              " 607: 3,\n",
              " 608: 3,\n",
              " 609: 3,\n",
              " 610: 3,\n",
              " 611: 255,\n",
              " 612: 256,\n",
              " 613: 257,\n",
              " 614: 258,\n",
              " 615: 259,\n",
              " 616: 260,\n",
              " 617: 3,\n",
              " 618: 3,\n",
              " 619: 261,\n",
              " 620: 262,\n",
              " 621: 263,\n",
              " 622: 3,\n",
              " 623: 264,\n",
              " 624: 3,\n",
              " 625: 3,\n",
              " 626: 245,\n",
              " 627: 3,\n",
              " 628: 265,\n",
              " 629: 266,\n",
              " 630: 267,\n",
              " 631: 3,\n",
              " 632: 268,\n",
              " 633: 269,\n",
              " 634: 270,\n",
              " 635: 3,\n",
              " 636: 3,\n",
              " 637: 7,\n",
              " 638: 271,\n",
              " 639: 3,\n",
              " 640: 272,\n",
              " 641: 3,\n",
              " 642: 37,\n",
              " 643: 3,\n",
              " 644: 3,\n",
              " 645: 3,\n",
              " 646: 273,\n",
              " 647: 274,\n",
              " 648: 3,\n",
              " 649: 275,\n",
              " 650: 276,\n",
              " 651: 3,\n",
              " 652: 3,\n",
              " 653: 277,\n",
              " 654: 3,\n",
              " 655: 278,\n",
              " 656: 3,\n",
              " 657: 3,\n",
              " 658: 25,\n",
              " 659: 3,\n",
              " 660: 279,\n",
              " 661: 280,\n",
              " 662: 281,\n",
              " 663: 3,\n",
              " 664: 3,\n",
              " 665: 3,\n",
              " 666: 282,\n",
              " 667: 3,\n",
              " 668: 3,\n",
              " 669: 3,\n",
              " 670: 25,\n",
              " 671: 3,\n",
              " 672: 3,\n",
              " 673: 3,\n",
              " 674: 283,\n",
              " 675: 3,\n",
              " 676: 284,\n",
              " 677: 285,\n",
              " 678: 3,\n",
              " 679: 3,\n",
              " 680: 3,\n",
              " 681: 3,\n",
              " 682: 3,\n",
              " 683: 3,\n",
              " 684: 3,\n",
              " 685: 3,\n",
              " 686: 3,\n",
              " 687: 3,\n",
              " 688: 3,\n",
              " 689: 25,\n",
              " 690: 3,\n",
              " 691: 286,\n",
              " 692: 3,\n",
              " 693: 287,\n",
              " 694: 3,\n",
              " 695: 3,\n",
              " 696: 3,\n",
              " 697: 3,\n",
              " 698: 3,\n",
              " 699: 3,\n",
              " 700: 3,\n",
              " 701: 3,\n",
              " 702: 3,\n",
              " 703: 3,\n",
              " 704: 3,\n",
              " 705: 3,\n",
              " 706: 288,\n",
              " 707: 289,\n",
              " 708: 290,\n",
              " 709: 3,\n",
              " 710: 3,\n",
              " 711: 3,\n",
              " 712: 291,\n",
              " 713: 3,\n",
              " 714: 292,\n",
              " 715: 3,\n",
              " 716: 3,\n",
              " 717: 293,\n",
              " 718: 3,\n",
              " 719: 3,\n",
              " 720: 294,\n",
              " 721: 295,\n",
              " 722: 296,\n",
              " 723: 297,\n",
              " 724: 298,\n",
              " 725: 299,\n",
              " 726: 300,\n",
              " 727: 3,\n",
              " 728: 3,\n",
              " 729: 301,\n",
              " 730: 302,\n",
              " 731: 303,\n",
              " 732: 304,\n",
              " 733: 305,\n",
              " 734: 306,\n",
              " 735: 307,\n",
              " 736: 308,\n",
              " 737: 309,\n",
              " 738: 310,\n",
              " 739: 311,\n",
              " 740: 312,\n",
              " 741: 313,\n",
              " 742: 314,\n",
              " 743: 3,\n",
              " 744: 315,\n",
              " 745: 27,\n",
              " 746: 316,\n",
              " 747: 3,\n",
              " 748: 317,\n",
              " 749: 318,\n",
              " 750: 319,\n",
              " 751: 320,\n",
              " 752: 321,\n",
              " 753: 322,\n",
              " 754: 323,\n",
              " 755: 324,\n",
              " 756: 325,\n",
              " 757: 326,\n",
              " 758: 327,\n",
              " 759: 328,\n",
              " 760: 3,\n",
              " 761: 329,\n",
              " 762: 330,\n",
              " 763: 331,\n",
              " 764: 332,\n",
              " 765: 333,\n",
              " 766: 334,\n",
              " 767: 335,\n",
              " 768: 3,\n",
              " 769: 336,\n",
              " 770: 337,\n",
              " 771: 338,\n",
              " 772: 339,\n",
              " 773: 340,\n",
              " 774: 341,\n",
              " 775: 342,\n",
              " 776: 3,\n",
              " 777: 343,\n",
              " 778: 344,\n",
              " 779: 345,\n",
              " 780: 3,\n",
              " 781: 346,\n",
              " 782: 347,\n",
              " 783: 348,\n",
              " 784: 3,\n",
              " 785: 349,\n",
              " 786: 350,\n",
              " 787: 351,\n",
              " 788: 3,\n",
              " 789: 3,\n",
              " 790: 352,\n",
              " 791: 353,\n",
              " 792: 354,\n",
              " 793: 355,\n",
              " 794: 356,\n",
              " 795: 3,\n",
              " 796: 3,\n",
              " 797: 3,\n",
              " 798: 3,\n",
              " 799: 3,\n",
              " 800: 3,\n",
              " 801: 357,\n",
              " 802: 3,\n",
              " 803: 358,\n",
              " 804: 359,\n",
              " 805: 3,\n",
              " 806: 3,\n",
              " 807: 360,\n",
              " 808: 3,\n",
              " 809: 361,\n",
              " 810: 362,\n",
              " 811: 3,\n",
              " 812: 363,\n",
              " 813: 364,\n",
              " 814: 3,\n",
              " 815: 365,\n",
              " 816: 366,\n",
              " 817: 367,\n",
              " 818: 368,\n",
              " 819: 369,\n",
              " 820: 370,\n",
              " 821: 3,\n",
              " 822: 371,\n",
              " 823: 372,\n",
              " 824: 373,\n",
              " 825: 374,\n",
              " 826: 375,\n",
              " 827: 376,\n",
              " 828: 3,\n",
              " 829: 377,\n",
              " 830: 378,\n",
              " 831: 379,\n",
              " 832: 3,\n",
              " 833: 380,\n",
              " 834: 381,\n",
              " 835: 382,\n",
              " 836: 383,\n",
              " 837: 384,\n",
              " 838: 3,\n",
              " 839: 385,\n",
              " 840: 386,\n",
              " 841: 387,\n",
              " 842: 388,\n",
              " 843: 389,\n",
              " 844: 390,\n",
              " 845: 391,\n",
              " 846: 392,\n",
              " 847: 3,\n",
              " 848: 393,\n",
              " 849: 394,\n",
              " 850: 395,\n",
              " 851: 396,\n",
              " 852: 397,\n",
              " 853: 398,\n",
              " 854: 399,\n",
              " 855: 400,\n",
              " 856: 401,\n",
              " 857: 402,\n",
              " 858: 403,\n",
              " 859: 404,\n",
              " 860: 405,\n",
              " 861: 406,\n",
              " 862: 3,\n",
              " 863: 407,\n",
              " 864: 408,\n",
              " 865: 3,\n",
              " 866: 3,\n",
              " 867: 3,\n",
              " 868: 3,\n",
              " 869: 3,\n",
              " 870: 3,\n",
              " 871: 3,\n",
              " 872: 3,\n",
              " 873: 3,\n",
              " 874: 3,\n",
              " 875: 3,\n",
              " 876: 3,\n",
              " 877: 3,\n",
              " 878: 3,\n",
              " 879: 3,\n",
              " 880: 3,\n",
              " 881: 409,\n",
              " 882: 410,\n",
              " 883: 411,\n",
              " 884: 412,\n",
              " 885: 413,\n",
              " 886: 414,\n",
              " 887: 3,\n",
              " 888: 415,\n",
              " 889: 3,\n",
              " 890: 3,\n",
              " 891: 3,\n",
              " 892: 416,\n",
              " 893: 417,\n",
              " 894: 418,\n",
              " 895: 419,\n",
              " 896: 420,\n",
              " 897: 421,\n",
              " 898: 422,\n",
              " 899: 3,\n",
              " 900: 423,\n",
              " 901: 3,\n",
              " 902: 3,\n",
              " 903: 424,\n",
              " 904: 3,\n",
              " 905: 3,\n",
              " 906: 3,\n",
              " 907: 425,\n",
              " 908: 426,\n",
              " 909: 427,\n",
              " 910: 428,\n",
              " 911: 429,\n",
              " 912: 430,\n",
              " 913: 431,\n",
              " 914: 432,\n",
              " 915: 433,\n",
              " 916: 434,\n",
              " 917: 3,\n",
              " 918: 435,\n",
              " 919: 436,\n",
              " 920: 12,\n",
              " 921: 3,\n",
              " 922: 437,\n",
              " 923: 438,\n",
              " 924: 439,\n",
              " 925: 440,\n",
              " 926: 441,\n",
              " 927: 442,\n",
              " 928: 3,\n",
              " 929: 443,\n",
              " 930: 410,\n",
              " 931: 444,\n",
              " 932: 445,\n",
              " 933: 446,\n",
              " 934: 3,\n",
              " 935: 447,\n",
              " 936: 448,\n",
              " 937: 449,\n",
              " 938: 3,\n",
              " 939: 450,\n",
              " 940: 451,\n",
              " 941: 452,\n",
              " 942: 3,\n",
              " 943: 3,\n",
              " 944: 453,\n",
              " 945: 454,\n",
              " 946: 455,\n",
              " 947: 3,\n",
              " 948: 37,\n",
              " 949: 3,\n",
              " 950: 3,\n",
              " 951: 3,\n",
              " 952: 3,\n",
              " 953: 3,\n",
              " 954: 3,\n",
              " 955: 3,\n",
              " 956: 3,\n",
              " 957: 3,\n",
              " 958: 3,\n",
              " 959: 3,\n",
              " 960: 3,\n",
              " 961: 3,\n",
              " 962: 3,\n",
              " 963: 64,\n",
              " 964: 3,\n",
              " 965: 3,\n",
              " 966: 3,\n",
              " 967: 3,\n",
              " 968: 3,\n",
              " 969: 3,\n",
              " 970: 3,\n",
              " 971: 3,\n",
              " 972: 3,\n",
              " 973: 3,\n",
              " 974: 3,\n",
              " 975: 3,\n",
              " 976: 3,\n",
              " 977: 3,\n",
              " 978: 3,\n",
              " 979: 3,\n",
              " 980: 456,\n",
              " 981: 36,\n",
              " 982: 3,\n",
              " 983: 457,\n",
              " 984: 36,\n",
              " 985: 458,\n",
              " 986: 459,\n",
              " 987: 460,\n",
              " 988: 461,\n",
              " 989: 462,\n",
              " 990: 463,\n",
              " 991: 464,\n",
              " 992: 465,\n",
              " 993: 466,\n",
              " 994: 467,\n",
              " 995: 3,\n",
              " 996: 468,\n",
              " 997: 12,\n",
              " 998: 469,\n",
              " 999: 470,\n",
              " 1000: 471,\n",
              " ...}"
            ]
          },
          "metadata": {}
        }
      ],
      "execution_count": 74,
      "metadata": {}
    },
    {
      "cell_type": "markdown",
      "source": [
        "I provide saved computations of the Louvain algorithms as communities might differ from one run to another one. Following analysis should still be relevant even with different communities."
      ],
      "metadata": {}
    },
    {
      "cell_type": "code",
      "source": [
        "## Load the communities\n",
        "\n",
        "with open (path + 'G_louvain.p', 'rb') as pfile:\n",
        "    G3_louvain, G4_louvain = pickle.load(pfile)"
      ],
      "outputs": [],
      "execution_count": 75,
      "metadata": {}
    },
    {
      "cell_type": "markdown",
      "source": [
        "A code to save the computations results."
      ],
      "metadata": {}
    },
    {
      "cell_type": "code",
      "source": [
        "## Save the communities as another run would give slightly different communities\n",
        "\n",
        "with open (path + 'G_louvain.p','wb') as pfile:\n",
        "    pickle.dump([G3_louvain, G4_louvain], pfile)"
      ],
      "outputs": [],
      "execution_count": 73,
      "metadata": {}
    },
    {
      "cell_type": "markdown",
      "source": [
        "Create versions of G3 and G4 grouping nodes as communities detected previously."
      ],
      "metadata": {}
    },
    {
      "cell_type": "code",
      "source": [
        "## Community graph for G3\n",
        "\n",
        "nb_com = G3_louvain[max(G3_louvain, key = G3_louvain.get)]\n",
        "G3_community = nx.Graph()\n",
        "G3_community.clear()\n",
        "G3_community.add_nodes_from(np.arange(0,nb_com+1,1))\n",
        "\n",
        "# Compute the weight of a community as the number of nodes inside and update \n",
        "node_weight_list = [0 for i in range (nb_com + 1)]\n",
        "for node in G3_louvain:\n",
        "    node_weight_list[G3_louvain[node]] += 1\n",
        "\n",
        "for i in range(len(node_weight_list)):\n",
        "    G3_community.add_node(i, node_weight = node_weight_list[i])\n",
        "    \n",
        "# Compute the edges between the communities considering 'subscription' as a weight\n",
        "G3_community.remove_edges_from(G3_community.edges())\n",
        "for u,v in G3.edges():\n",
        "    weight = G3.edges[u,v]['subscription']\n",
        "    u_com = G3_louvain[u]; v_com = G3_louvain[v]\n",
        "    \n",
        "    if (u_com, v_com) not in G3_community.edges():\n",
        "        G3_community.add_edge(u_com,v_com, weight = weight)\n",
        "    else:\n",
        "        G3_community.edges[u_com,v_com]['weight'] += weight"
      ],
      "outputs": [],
      "execution_count": 85,
      "metadata": {}
    },
    {
      "cell_type": "code",
      "source": [
        "## Data structure\n",
        "print(len(G3_community.nodes()))\n",
        "print(G3_community.nodes[0])"
      ],
      "outputs": [
        {
          "output_type": "stream",
          "name": "stdout",
          "text": [
            "3336\n",
            "{'node_weight': 4533, 'label': '0'}\n"
          ]
        }
      ],
      "execution_count": 101,
      "metadata": {}
    },
    {
      "cell_type": "markdown",
      "source": [
        "Beware, there are more than 3000 communities but in reality, most of them are only involving one node. It is to say those nodes might be almost disconnected from the others in bigger comuunities. It means that on 15088 nodes, around 3000 can't be given to a community with current data. It may be interpreted as those nodes correspond to active users who either do not subscribe and so do not 'announce' their community affiliation either that in the 800000 users, the user 'true' community is not well enough represented. The communities found in G3 are communities of users who share interests in the same Youtubers."
      ],
      "metadata": {}
    },
    {
      "cell_type": "code",
      "source": [
        "print('Number of communities with only 1 node:', len([G3_community.nodes[i]['node_weight'] for i in G3_community.nodes if G3_community.nodes[i]['node_weight']==1]))\n",
        "print('Number of communities with more than 1 node:',len([G3_community.nodes[i]['node_weight'] for i in G3_community.nodes if G3_community.nodes[i]['node_weight']>1]))\n",
        "print('Number of communities with more than 10 node:',len([G3_community.nodes[i]['node_weight'] for i in G3_community.nodes if G3_community.nodes[i]['node_weight']>10]))"
      ],
      "outputs": [
        {
          "output_type": "stream",
          "name": "stdout",
          "text": [
            "Number of communities with only 1 node: 3323\n",
            "Number of communities with more than 1 node: 13\n",
            "Number of communities with more than 10 node: 5\n"
          ]
        }
      ],
      "execution_count": 111,
      "metadata": {}
    },
    {
      "cell_type": "code",
      "source": [
        "## Save for gephi use\n",
        "nx.readwrite.write_gexf(G3_community, path + 'G3_community.gexf')"
      ],
      "outputs": [],
      "execution_count": 86,
      "metadata": {}
    },
    {
      "cell_type": "code",
      "source": [
        "## Load\n",
        "G3_community = nx.read_gexf(path + 'G3_community.gexf', node_type = int)"
      ],
      "outputs": [],
      "execution_count": 87,
      "metadata": {}
    },
    {
      "cell_type": "code",
      "source": [
        "## Community graph for G4\n",
        "\n",
        "nb_com = G4_louvain[max(G4_louvain, key = G4_louvain.get)]\n",
        "G4_community = nx.Graph()\n",
        "G4_community.clear()\n",
        "G4_community.add_nodes_from(np.arange(0,nb_com+1,1))\n",
        "\n",
        "# Compute the weight of a community as the number of nodes inside and update \n",
        "node_weight_list = [0 for i in range (nb_com + 1)]\n",
        "for node in G4_louvain:\n",
        "    node_weight_list[G4_louvain[node]] += 1\n",
        "\n",
        "for i in range(len(node_weight_list)):\n",
        "    G4_community.add_node(i, node_weight = node_weight_list[i])\n",
        "    \n",
        "# Compute the edges between the communities considering 'subscriber' as a weight\n",
        "G4_community.remove_edges_from(G4_community.edges())\n",
        "for u,v in G4.edges():\n",
        "    weight = G4.edges[u,v]['subscriber']\n",
        "    u_com = G4_louvain[u]; v_com = G4_louvain[v]\n",
        "    \n",
        "    if (u_com, v_com) not in G4_community.edges():\n",
        "        G4_community.add_edge(u_com,v_com,weight = weight)\n",
        "    else:\n",
        "        G4_community.edges[u_com,v_com]['weight'] += weight"
      ],
      "outputs": [],
      "execution_count": 88,
      "metadata": {}
    },
    {
      "cell_type": "code",
      "source": [
        "## Data structure\n",
        "print(len(G4_community.nodes()))\n",
        "print(G4_community.nodes[0])"
      ],
      "outputs": [
        {
          "output_type": "stream",
          "name": "stdout",
          "text": [
            "4648\n",
            "{'node_weight': 1, 'label': '0'}\n"
          ]
        }
      ],
      "execution_count": 115,
      "metadata": {}
    },
    {
      "cell_type": "markdown",
      "source": [
        "G4 communities have the same behaviors as G3 communities: lots of communities are isolated nodes. Recall that 4-edges gives the number of shared subscribers.  This time, those isolated nodes can be interpreted as non Youtuber user: someone who does not actively post videos on his/her channel will not get any subscribers and so will have really low number of shared subscribers. So the communities show communities of Youtubers for G4."
      ],
      "metadata": {}
    },
    {
      "cell_type": "code",
      "source": [
        "print('Number of communities with only 1 node:', len([G4_community.nodes[i]['node_weight'] for i in G4_community.nodes if G4_community.nodes[i]['node_weight']==1]))\n",
        "print('Number of communities with more than 1 node:',len([G4_community.nodes[i]['node_weight'] for i in G4_community.nodes if G4_community.nodes[i]['node_weight']>1]))\n",
        "print('Number of communities with more than 10 node:',len([G4_community.nodes[i]['node_weight'] for i in G4_community.nodes if G4_community.nodes[i]['node_weight']>10]))"
      ],
      "outputs": [
        {
          "output_type": "stream",
          "name": "stdout",
          "text": [
            "Number of communities with only 1 node: 4633\n",
            "Number of communities with more than 1 node: 15\n",
            "Number of communities with more than 10 node: 10\n"
          ]
        }
      ],
      "execution_count": 114,
      "metadata": {}
    },
    {
      "cell_type": "markdown",
      "source": [
        "One may notice that there are not the same numbers of communities from users' point of view (G3) and Youtuberss one (G4). It is not that weird: Youtuber's communities describe the content communities whereas users' communities describe different kind of user (there might be a community of users who watch gaming and technologies related content whereas another community might watch technologies and scientific contents). So it might be interesting to look at relations between communities for G3."
      ],
      "metadata": {}
    },
    {
      "cell_type": "code",
      "source": [
        "## Save for gephi use\n",
        "nx.readwrite.write_gexf(G4_community, path + 'G4_community.gexf')"
      ],
      "outputs": [],
      "execution_count": 89,
      "metadata": {}
    },
    {
      "cell_type": "code",
      "source": [
        "## Load\n",
        "G4_community = nx.read_gexf(path + 'G4_community.gexf', node_type = int)"
      ],
      "outputs": [],
      "execution_count": 90,
      "metadata": {}
    },
    {
      "cell_type": "markdown",
      "source": [
        "#### G3 Community network\n",
        "The subgraph of important communities is connected."
      ],
      "metadata": {}
    },
    {
      "cell_type": "markdown",
      "source": [
        "![title](G3_commu.png)"
      ],
      "metadata": {}
    },
    {
      "cell_type": "markdown",
      "source": [
        "#### G4 community network\n",
        "The subgraph of important communities is connected."
      ],
      "metadata": {}
    },
    {
      "cell_type": "markdown",
      "source": [
        "![G4 community](G4_commu.png)"
      ],
      "metadata": {}
    },
    {
      "cell_type": "markdown",
      "source": [
        "Let us update the master graphs G3 and G4 so we can identify the communities. If one wants to save the updated graphs and explore them in Gephi, beware that save (and load) time are quite long and Gephi 64bit with extended data storage can show all the nodes and edges but will be really slow."
      ],
      "metadata": {}
    },
    {
      "cell_type": "code",
      "source": [
        "## Update G3 to add community number to each node\n",
        "\n",
        "for node in G3.nodes():\n",
        "    community_nb = G3_louvain[node]\n",
        "    G3.nodes[node]['community'] = community_nb"
      ],
      "outputs": [],
      "execution_count": 91,
      "metadata": {}
    },
    {
      "cell_type": "code",
      "source": [
        "## Data structure\n",
        "G3.nodes[1]"
      ],
      "outputs": [
        {
          "output_type": "execute_result",
          "execution_count": 94,
          "data": {
            "text/plain": [
              "{'community': 0}"
            ]
          },
          "metadata": {}
        }
      ],
      "execution_count": 94,
      "metadata": {}
    },
    {
      "cell_type": "code",
      "source": [
        "## Save\n",
        "nx.readwrite.write_gexf(G3, path + 'G3.gexf')"
      ],
      "outputs": [],
      "execution_count": 96,
      "metadata": {}
    },
    {
      "cell_type": "code",
      "source": [
        "## Load\n",
        "G3 = nx.read_gexf(path + 'G3.gexf', node_type = int)"
      ],
      "outputs": [],
      "execution_count": null,
      "metadata": {}
    },
    {
      "cell_type": "code",
      "source": [
        "## Update for G4 to add community number to each node\n",
        "\n",
        "for node in G4.nodes():\n",
        "    community_nb = G4_louvain[node]\n",
        "    G4.nodes[node]['community'] = community_nb"
      ],
      "outputs": [],
      "execution_count": 97,
      "metadata": {}
    },
    {
      "cell_type": "code",
      "source": [
        "## Data structure \n",
        "G4.nodes[234]"
      ],
      "outputs": [
        {
          "output_type": "execute_result",
          "execution_count": 98,
          "data": {
            "text/plain": [
              "{'community': 3}"
            ]
          },
          "metadata": {}
        }
      ],
      "execution_count": 98,
      "metadata": {}
    },
    {
      "cell_type": "code",
      "source": [
        "## Save\n",
        "nx.readwrite.write_gexf(G4, path + 'G4.gexf')"
      ],
      "outputs": [],
      "execution_count": 99,
      "metadata": {}
    },
    {
      "cell_type": "code",
      "source": [
        "## Load\n",
        "G4 = nx.read_gexf(path + 'G4.gexf', node_type = int)"
      ],
      "outputs": [],
      "execution_count": null,
      "metadata": {}
    },
    {
      "cell_type": "markdown",
      "source": [
        "#### G4 network\n",
        "The colors show the different important communities. Spatialization was done with a few runs (and only a few) of ForceAtlas2. The main goal of the image is only to verify that communities visually correpond to what ForceAtlas2 would spatially create as communities.\n",
        "\n",
        "The vizualization was not done with G3 because there are too much data for my computer to handle..."
      ],
      "metadata": {}
    },
    {
      "cell_type": "markdown",
      "source": [
        "![title](G4.png)\n"
      ],
      "metadata": {}
    },
    {
      "cell_type": "markdown",
      "source": [
        "## Subgraphs of communities"
      ],
      "metadata": {}
    },
    {
      "cell_type": "markdown",
      "source": [
        "One might want to investigate properties on communities of Youtube. So here is a code creating a subgraph for each communities in G3 and G4. Some communities have only a few nodes so I set an arbitrary condition that a community must have more than 10 nodes to be considered as a community. Running time can be long... The tqdm package helps see at which iteration the loop is at (the estimated computational time is false as computational time changes at each iteration). I had in all around 10 min of computations for G3 communities and 8 min for G4 communities."
      ],
      "metadata": {}
    },
    {
      "cell_type": "code",
      "source": [
        "## Create for each community its list of nodes\n",
        "\n",
        "nb_com = G3_louvain[max(G3_louvain, key = G3_louvain.get)]\n",
        "list_nodes_in_com = [[] for i in range (nb_com+1)]\n",
        "for i in range(1,len(G3_louvain)+1):\n",
        "    community_nb = G3_louvain[i]\n",
        "    list_nodes_in_com[community_nb].append(i)\n",
        "\n",
        "\n",
        "## For each community, create its graph and add it to a list\n",
        "list_graph_com3 = []\n",
        "for community_nb in tqdm(range(len(list_nodes_in_com))):\n",
        "    list_nodes_in_com_i = list_nodes_in_com[community_nb]\n",
        "    if len(list_nodes_in_com_i) > 10:\n",
        "        graph = nx.Graph()\n",
        "        graph.clear()\n",
        "        graph.add_nodes_from(list_nodes_in_com_i)\n",
        "        graph.add_edges_from( [[u,v,{'subscription':G3.edges[u,v]['subscription']}] for u,v in G3.edges() if u and v in list_nodes_in_com_i])\n",
        "        list_graph_com3.append(graph)"
      ],
      "outputs": [
        {
          "output_type": "display_data",
          "data": {
            "application/vnd.jupyter.widget-view+json": {
              "model_id": "9914f82eb45844ee9abd6f7f6741ab75",
              "version_major": 2,
              "version_minor": 0
            },
            "text/plain": [
              "HBox(children=(FloatProgress(value=0.0, max=3336.0), HTML(value='')))"
            ]
          },
          "metadata": {}
        },
        {
          "output_type": "stream",
          "name": "stdout",
          "text": [
            "\n"
          ]
        }
      ],
      "execution_count": 148,
      "metadata": {}
    },
    {
      "cell_type": "code",
      "source": [
        "## Save\n",
        "with open (path + 'list_graph_com3.p','wb') as pfile:\n",
        "    pickle.dump(list_graph_com3, pfile)"
      ],
      "outputs": [],
      "execution_count": 151,
      "metadata": {}
    },
    {
      "cell_type": "code",
      "source": [
        "## Load\n",
        "with open (path + 'list_graph_com3.p', 'rb') as pfile:\n",
        "    list_graph_com3 = pickle.load(pfile)"
      ],
      "outputs": [],
      "execution_count": 152,
      "metadata": {}
    },
    {
      "cell_type": "markdown",
      "source": [
        "If one computes the average and root mean square degrees inside each community, one gets values of root mean square degrees higher than the mean degree. So like the degree distribution of G3 and G4 we saw earlier, communities have also lots of low degrees nodes and a few large ones."
      ],
      "metadata": {}
    },
    {
      "cell_type": "code",
      "source": [
        "## Average weighted degree and root mean square degree for all G3 communities\n",
        "\n",
        "# Compute the average degree for each node in each community\n",
        "degree_com3 = [graph.degree(weight = 'subscription') for graph in list_graph_com3]\n",
        "degree_com3 = np.asarray(degree_com3)\n",
        "\n",
        "# Compute the average neighbor degree for each community\n",
        "degree_com3_average = [np.average([ graph_degree[key] for key in sorted(dict(graph_degree).keys())]) for graph_degree in degree_com3 ]\n",
        "degree_com3_average = np.asarray(degree_com3_average)\n",
        "\n",
        "# Compute the root mean square degree for each community\n",
        "degree_com3_ms = [np.average([ graph_degree[key]**2 for key in sorted(dict(graph_degree).keys())]) for graph_degree in degree_com3]\n",
        "degree_com3_ms = np.asarray(degree_com3_ms)\n",
        "degree_com3_rms = [ np.sqrt(np.absolute( degree_com3_ms[i] - degree_com3_average[i]*degree_com3_average[i] )) for i in range(len(degree_com3_ms)) ]\n",
        "\n",
        "print(degree_com3_average, '\\n', degree_com3_rms)"
      ],
      "outputs": [
        {
          "output_type": "stream",
          "name": "stdout",
          "text": [
            "[547.72626972 386.79992264  97.81378784  78.15690062 782.51671733] \n",
            " [999.4415681702117, 880.5106179738866, 471.86529265435274, 263.5905274336434, 2101.477879327142]\n"
          ]
        }
      ],
      "execution_count": 226,
      "metadata": {}
    },
    {
      "cell_type": "markdown",
      "source": [
        "Let us focus on 1 node with high degree and let us check if it is big value edges or rather many small edges."
      ],
      "metadata": {}
    },
    {
      "cell_type": "code",
      "source": [
        "Degree_w = list_graph_com3[0].degree(weight = 'subscription')\n",
        "Degree = list_graph_com3[0].degree(weight = None)\n",
        "print('Weighted degree of node 278:', Degree_w[278])\n",
        "print('Unweighted degree of node 278:', Degree[278])"
      ],
      "outputs": [
        {
          "output_type": "stream",
          "name": "stdout",
          "text": [
            "Weighted degree of node 278: 4360\n",
            "Unweighted degree of node 278: 2389\n"
          ]
        }
      ],
      "execution_count": 225,
      "metadata": {}
    },
    {
      "cell_type": "markdown",
      "source": [
        "Doing the same thing for G4."
      ],
      "metadata": {}
    },
    {
      "cell_type": "code",
      "source": [
        "# Create for each community its list of nodes\n",
        "\n",
        "nb_com = G4_louvain[max(G4_louvain, key = G4_louvain.get)]\n",
        "list_nodes_in_com = [[] for i in range (nb_com+1)]\n",
        "for i in range(1,len(G4_louvain)+1):\n",
        "    community_nb = G4_louvain[i]\n",
        "    list_nodes_in_com[community_nb].append(i)\n",
        "\n",
        "# For each community, create its graph\n",
        "list_graph_com4 = []\n",
        "for community_nb in tqdm(range(len(list_nodes_in_com))):\n",
        "    list_nodes_in_com_i = list_nodes_in_com[community_nb]\n",
        "    if len(list_nodes_in_com_i) > 10:\n",
        "        graph = nx.Graph()\n",
        "        graph.clear()\n",
        "        graph.add_nodes_from(list_nodes_in_com_i)\n",
        "        graph.add_edges_from( [[u,v,{'subscriber':G4.edges[u,v]['subscriber']}] for u,v in G4.edges() if u and v in list_nodes_in_com_i])\n",
        "        list_graph_com4.append(graph)"
      ],
      "outputs": [
        {
          "output_type": "display_data",
          "data": {
            "application/vnd.jupyter.widget-view+json": {
              "model_id": "1511a0a3f881488894b2b4b7ff330d13",
              "version_major": 2,
              "version_minor": 0
            },
            "text/plain": [
              "HBox(children=(FloatProgress(value=0.0, max=4648.0), HTML(value='')))"
            ]
          },
          "metadata": {}
        },
        {
          "output_type": "stream",
          "name": "stdout",
          "text": [
            "\n"
          ]
        }
      ],
      "execution_count": 142,
      "metadata": {}
    },
    {
      "cell_type": "code",
      "source": [
        "## Save\n",
        "with open (path + 'list_graph_com4.p','wb') as pfile:\n",
        "    pickle.dump(list_graph_com4, pfile)"
      ],
      "outputs": [],
      "execution_count": 145,
      "metadata": {}
    },
    {
      "cell_type": "code",
      "source": [
        "## Load\n",
        "with open (path + 'list_graph_com4.p', 'rb') as pfile:\n",
        "    list_graph_com4 = pickle.load(pfile)"
      ],
      "outputs": [],
      "execution_count": 146,
      "metadata": {}
    },
    {
      "cell_type": "markdown",
      "source": [
        "We obtain a similar behavior, large root mean square values compared to the mean degrees in each community."
      ],
      "metadata": {}
    },
    {
      "cell_type": "code",
      "source": [
        "## Average weighted degree and root mean square degree for all G4 communities\n",
        "\n",
        "# Compute the average neighbor degree for each node and each community\n",
        "degree_com4 = [graph.degree(weight = 'subscriber') for graph in list_graph_com4]\n",
        "degree_com4 = np.asarray(degree_com4)\n",
        "\n",
        "# Compute the average degree for each community\n",
        "degree_com4_average = [np.average([ graph_degree[key] for key in sorted(dict(graph_degree).keys())]) for graph_degree in degree_com4 ]\n",
        "degree_com4_average = np.asarray(degree_com4_average)\n",
        "\n",
        "# Compute the root mean square degree for each community\n",
        "degree_com4_ms = [np.average([ graph_degree[key]**2 for key in sorted(dict(graph_degree).keys())]) for graph_degree in degree_com4]\n",
        "degree_com4_ms = np.asarray(degree_com4_ms)\n",
        "degree_com4_rms = [ np.sqrt(np.absolute( degree_com4_ms[i] - degree_com4_average[i]*degree_com4_average[i] )) for i in range(len(degree_com4_ms)) ]\n",
        "\n",
        "\n",
        "print(degree_com4_average, '\\n', degree_com4_rms)"
      ],
      "outputs": [
        {
          "output_type": "stream",
          "name": "stdout",
          "text": [
            "[194.78348605  18.25330813 127.48828201  84.46391213  86.4966958\n",
            "  52.60555088  92.1229138  766.37613131  15.51211632  36.34782609] \n",
            " [627.6248584985861, 27.600445761953807, 477.1443068187537, 179.8980497979255, 214.70027329803193, 97.35919294172601, 251.41174888245718, 2003.2564149676189, 53.350892256531694, 62.81269435845582]\n"
          ]
        }
      ],
      "execution_count": 227,
      "metadata": {}
    },
    {
      "cell_type": "markdown",
      "source": [
        "How to interpret these results?\n",
        "\n",
        "For G3, small numbers of high weighted degree users may be interpreted as people who tend to subscribe to lots of channels. It can be expected that those people would have strong edges and many smaller edges. It might be interesting to run Louvain algorithm on a community.\n",
        "\n",
        "For G4, it is possible to imagine a similar story from the Youtuber point of view: Youtubers with high degree can be assumed to have lots of subscribers that are also subscribed to other alike Youtubers giving strong edges and a bunch of subscribers that are subscribed but are not fully watching those Youtubers.  "
      ],
      "metadata": {}
    },
    {
      "cell_type": "markdown",
      "source": [
        "## Leaders in Youtube?"
      ],
      "metadata": {}
    },
    {
      "cell_type": "markdown",
      "source": [
        "Is Youtube structure more similar to a few Youtube personalities who lead their communities (monarchy)? Or is it more well described by an oligarchy system with many equal leaders?\n",
        "\n",
        "This notion is only well defined from a Youtuber point of view so work is done on G4. To score a node leadership, I use pagerank algorithm."
      ],
      "metadata": {}
    },
    {
      "cell_type": "code",
      "source": [
        "## Compute pagerank on G4\n",
        "G4_PR = nx.pagerank(G4, weight = 'subscriber')\n",
        "\n",
        "## Compute pagerank on G4 communities\n",
        "G4_PR_com = [nx.pagerank(graph, weight = 'subscriber') for graph in list_graph_com4]"
      ],
      "outputs": [],
      "execution_count": 274,
      "metadata": {}
    },
    {
      "cell_type": "code",
      "source": [
        "## Pagerank score decrease for G4\n",
        "\n",
        "fig = plt.figure(figsize = (20,10))\n",
        "ax = fig.add_subplot()\n",
        "\n",
        "## Plot for G4\n",
        "\n",
        "list_value_bis = sorted([G4_PR[key] for key in G4_PR.keys()], reverse = True)\n",
        "list_x = np.arange(0,len(G4_PR),1)\n",
        "\n",
        "ax.plot(list_x, list_value_bis, label = 'G4')\n",
        "\n",
        "##Plot for G4 communities\n",
        "for i in range(len(G4_PR_com)):\n",
        "    vars()['list_value{}'.format(i)] = sorted([G4_PR_com[i][key] for key in G4_PR_com[i].keys()], reverse = True)\n",
        "    vars()['list_x{}'.format(i)] = np.arange(0,len(G4_PR_com[i]),1)\n",
        "\n",
        "for i in range(len(G4_PR_com)):\n",
        "    ax.plot(vars()['list_x{}'.format(i)], vars()['list_value{}'.format(i)], label = 'G4_{}'.format(i))\n",
        "\n",
        "\n",
        "ax.legend()\n",
        "ax.set_xlim(0,100)\n",
        "ax.set_title('Pagerank score decrease on G4')\n",
        "ax.set_xlabel('n-th greatest pagerank score')\n",
        "ax.set_ylabel('Pagerank score')\n",
        "plt.show()"
      ],
      "outputs": [
        {
          "output_type": "display_data",
          "data": {
            "image/png": "[encoded data removed]",
            "text/plain": [
              "<Figure size 1440x720 with 1 Axes>"
            ]
          },
          "metadata": {
            "needs_background": "light"
          }
        }
      ],
      "execution_count": 282,
      "metadata": {
        "scrolled": true
      }
    },
    {
      "cell_type": "markdown",
      "source": [
        "Looking at how the pagerank score decreases in G4, we can say that one Youtuber has a score greater than all others but not by much (blue line starting from around 0.03). However in two communities (G4_1 and G4_8), we can clearly see that one Youtuber has greater scores than all the others whereas in the other communities, the score does not decrease too sharply.\n",
        "\n",
        "The pagerank can be understood as follow: a high score means that if a user is subscribed to a Youtuber in the community, there is a high chance that the user is also subscribed to the maximum pagerank score Youtuber. If we consider that the data are unbiased, we might extrapolate that it is the Youtubers with the most subscribers in their community. \n",
        "\n",
        "Several communities and Youtube overall seems not to have a clear leader, potentially because of communities that are evolving independently from each other. It is to say, considering that many communities had time to grow (or the community itself is big enough), there would be Youtubers of great importance in their respective community but equally important for Youtube. "
      ],
      "metadata": {}
    },
    {
      "cell_type": "markdown",
      "source": [
        "## Conclusion"
      ],
      "metadata": {}
    },
    {
      "cell_type": "markdown",
      "source": [
        "Youtube does not have a clear power law behavior concerning weighted degree distribution. One might say that Youtube is not a social network like network and that would be logic as Youtube can be viewed as a bipartite networks Youtubers/Youtube users. It would be interesting to only study the networks of Youtubers.\n",
        "\n",
        "It is clear that Youtube an be decomposed into communities. Louvain algorithm found some communities for our data but one may consider repeating the community detection process with other algorithms, maybe with algorithms developed in [1]. However there are nothe same number of communities detected in G3 and G4 so as said previously, it would be interesting to investigate relations between communities in G3 particularly.\n",
        "\n",
        "Finally, Youtube does not seem to have a clear leader but rather a bunch of leaders. It is not always true in communities but maybe results are biased because of the size of a community. Further investigations might be needed.\n",
        "\n",
        "This work was far from being exhaustive but show an insight of Youtube network structure. It would really be interesting to work on data showing directed edges of subscription (and not numbers of shared something) in the future to maybe reveal the (almost) bipartite structure of Youtube compute communities and other values that are easier to interpret."
      ],
      "metadata": {}
    },
    {
      "cell_type": "markdown",
      "source": [
        "## References"
      ],
      "metadata": {}
    },
    {
      "cell_type": "markdown",
      "source": [
        "[1] Lei Tang, Xufei Wang, and Huan Liu. \"Uncovering Groups via Heterogeneous Interaction Analysis\", IEEE International Conference on Data Mining (ICDM09), Dec. 6-9, 2009. Miami Florida."
      ],
      "metadata": {}
    }
  ],
  "metadata": {
    "kernelspec": {
      "name": "python3",
      "language": "python",
      "display_name": "Python 3"
    },
    "language_info": {
      "name": "python",
      "version": "3.7.5",
      "mimetype": "text/x-python",
      "codemirror_mode": {
        "name": "ipython",
        "version": 3
      },
      "pygments_lexer": "ipython3",
      "nbconvert_exporter": "python",
      "file_extension": ".py"
    },
    "kernel_info": {
      "name": "python3"
    },
    "nteract": {
      "version": "0.15.0"
    }
  },
  "nbformat": 4,
  "nbformat_minor": 2
}