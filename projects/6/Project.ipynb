{
  "cells": [
    {
      "cell_type": "markdown",
      "source": [
        "# Analysis of the network of character co-occurrence in J.R.R Tolkien's *The Lord of the Rings*"
      ],
      "metadata": {}
    },
    {
      "cell_type": "markdown",
      "source": [
        "## Preface"
      ],
      "metadata": {}
    },
    {
      "cell_type": "markdown",
      "source": [
        "I have downloaded the character co-occurrences in *The Lord of the Rings* (LOTR), broken up by volume, off a [Github repository](https://github.com/morethanbooks/projects/tree/master/LotR/tables) using `wget`.\n",
        "\n",
        "I would like to analyse whether the network of character co-occurrence evolves within the book. It could be that this data can be used to describe plot evolution, capturing key moments such as when the Fellowship is formed and broken up, when Frodo and Sam meet Gollum, or when Rohan goes to war with Gondor. Unfortunately, I was unable to find the data broken up by chapter, although this would likely have been very informative.\n",
        "\n",
        "Broken up by volume, I would expect that in the beginning, character clusters will be somewhat segregated, with many interactions between Hobbits and within the Fellowship, and few interactions between characters of distant origins. Gandalf will likely co-occur with a variety of different characters, since he travels Middle Earth. As the story evolves, I would expect an increasing number of interactions to appear between previously segregated characters."
      ],
      "metadata": {}
    },
    {
      "cell_type": "markdown",
      "source": [
        "In this project, I will speak of \"characters' relationships\" as I consider that two characters' co-occurring in one paragraph indicates a form of relationship. This measurement is, of course, disputable, as two characters can be mentioned in the same paragraph by pure chance. However, this bias is arguably comparable between all characters, and for lack of a better solution I will be satisfied with it."
      ],
      "metadata": {}
    },
    {
      "cell_type": "markdown",
      "source": [
        "## An only too concise summary relevant to the upcoming analysis"
      ],
      "metadata": {}
    },
    {
      "cell_type": "markdown",
      "source": [
        "In case the reader is not familiar with the intricacies of the book's plot, I should like to offer a quick summary relevant to this analysis. For sake of clarity, upon their first mentioning, I will set in bold the places, objects and characters which appear in the data I have analysed."
      ],
      "metadata": {}
    },
    {
      "cell_type": "markdown",
      "source": [
        "#### Volume 1: The Fellowship of the Ring"
      ],
      "metadata": {}
    },
    {
      "cell_type": "markdown",
      "source": [
        "In Volume 1, **Frodo** is peacefully getting on with his **Hobbit** life in **Bag End** in the **Shire**, until **Gandalf** the Grey confirms his suspicion that the **Ring** inherited by Frodo from his uncle **Bilbo** is none other than the **Ring** of Power. The Ring is being searched for by the Dark Lord **Sauron**, who sends the **Nine Riders** (**Nazgul**) to find it. The Ring is no longer safe in the Shire, so Frodo, **Sam**, **Merry** and **Pippin** set out from **Hobbiton**, on a quest to keep it safe. In the meantime, Gandalf leaves on a mysterious journey and is in fact imprisoned on **Orthanc** in **Isengard** by the wizard **Saruman**, who has joined forces with the Dark Lord. As Frodo and Sam leave home, they happen upon a company of **Elves**, who are headed for the harbour. **Gildor** and his fellow Elves intend to leave **Middle Earth** and go West.  \n",
        "With the Nine hot on their heels, the Hobbits' only chance to escape the Shire unnoticed is through the **Old Forest**, an ancient, dark place around which many menacing legends are told. They are promptly lost, and only just saved from being swallowed alive by an ancient willow, by **Tom Bombadil**. Tom lives with **Goldberry**, daughter of the river, in a house in the Old Forest.  \n",
        "Once they succeed in leaving the Forest, the Hobbits' lack of experience puts them in danger from the many spies serving Sauron and Saruman. Luckily, in **Bree**, on their way out of the Shire, they meet **Aragorn**. He introduces himself as a Ranger from the North. Little do the Hobbits know that he is in fact the son of **Arathorn**, heir of **Isildur** son of **Elendil**, and thus to the throne of **Gondor**. Helped by Aragorn, the Hobbits manage to escape Bree with **Bill** the pony.   \n",
        "The Hobbits and Aragorn are pursued by the Nine, who gravely wound Frodo with a magical **Morgul** blade forged in **Mordor**. The only place he can hope for recovery is **Rivendell**, home of the Elves. Upon hearing of their plight, **Elrond**, lord of Rivendell, sends out riders to aid the Hobbits. The Elf **Glorfindel** finds them in the nick of time and hurries off with Frodo to Rivendell.  \n",
        "While the Hobbits are in Rivendell, they take part in a Council, to which Elrond had summoned many **Elves**, **Men** and **Dwarves** from all around Middle Earth. During this Council, it is decided that the Ring must be destroyed, and the Hobbits, Aragorn and Gandalf, are joined by the Dwarf **Gimli** son of **Gloin**, the Elf **Legolas** of **Mirkwood** and the **man** **Boromir** son of **Denethor**, steward of Gondor. The goal of the Fellowship of the Ring is to take the Ring to Mordor, home of Sauron, as it is the only place it can be destroyed.  \n",
        "They are fOrced to go through **Moria**, ancient Dwarf mine, where they hope to be helped by Gimli's cousin **Balin**/ Balin disappeared in the Mine a long time ago, searching for a dwarven Ring owned by **Thrain** but not inherited by his son **Thorin**. Little does the Company know that the Dwarves in Moria have long been exterminated by **Orcs**. Not only are our travellers not met with the royal welcome they expected, they are fallen upon by an ancient spirit of the underworld. In mortal combat, Gandalf falls with him into the deep chasm and is seen no more.  \n",
        "Aragorn takes it upon himself to lead the company westwards, through **Lorien** -or **Lothlorien**-, grand realm of the Elves. They meet the Elf **Haldir**, who takes them to Lady **Galadriel** and Lord **Celeborn**. In Lorien, the Company is given boats, and travels down the river **Anduin**. They realise that they have been followed since Moria by the creature **Gollum**, an ancient being with a lifespan unnaturally long, as he had kept the Ring for many centuries before losing it to Frodo's uncle Bilbo in *The Hobbit*. Haunted still by the lure of the Ring, he is following the Company in an attempt to retrieve it.  \n",
        "Indeed, the Ring has an extraordinary power to ensnare most anybody who comes near it. It is the downfall of Boromir, who attempts to convince Frodo to take the Ring to Gondor. Frightened, Frodo runs away, followed by Sam as the Company is ambushed by Uruk-hai, servants of Saruman, who capture Merry and Pippin, and kill Boromir."
      ],
      "metadata": {}
    },
    {
      "cell_type": "markdown",
      "source": [
        "#### Volume 2: The Two Towers"
      ],
      "metadata": {}
    },
    {
      "cell_type": "markdown",
      "source": [
        "Aragorn, Legolas and Gimli decide to follow the Uruk-hai to save Merry and Pippin. They pursue them for many days, until they meet a group of **Rohan** soldiers on horseback, headed by **Eomer** of the House of **Eorl**. The riders tell them that the previous night they fell upon a group of Uruk-hai and killed all, noticing no Hobbits. Crestfallen, Aragorn, Legolas and Gimli peruse the battlefield nonetheless, and Aragorn finds prints belonging to the Hobbits. The prints lead into Fangorn, a time-honoured forest and home of the **Ents**, tree-like beings that walk and talk. Just as the travellers are losing hope, they are met by none other than Gandalf, who has been returned from the dead until his work in Middle Earth is done. Gandalf tells the travellers of Merry and Pippin's adventures: in Fangorn, they were met by the Ent **Treebeard** and took part in an Ent Moot, during which the Ents decided to march on Isengard. The Hobbits therefore no longer need the help of their friends. Aragorn, Legolas and Gimli decide to follow Gandalf to **Edoras**, capital of Rohan, to convince King **Theoden** to fight Saruman, whose servants are pillaging Rohan. Theoden, although King of Rohan, is unknowingly being controlled by his servant **Wormtongue**, who serves Saruman in secret. Gandalf succeeds in making Theoden see reason, and the soldiers of Rohan ride to the fortress of **Helm's Deep**, while **Eowyn**, Theoden's niece, takes the king’s place for the time being. The battle is won, and Gandalf leads a company of close followers to announce to Saruman that his army is no more. Meanwhile, Isengard has been destroyed by the Ents and only the tower Orthanc remains, in which Saruman and Wormtongue are taking refuge. While the two parties are discussing the situation, Wormtongue throws out of a window a stone, which is in fact endowed with magical properties. When the company returns to Edoras, Pippin, unerringly attracted to the Stone, is unable to resist the temptation to look into it. The Stone communicates with Sauron, and in order to keep an eye on Pippin from then on, Gandalf brings him to **Minas Tirith**, capital of Gondor.  In thanks for Gandalf’s help, King Theoden bequeaths Gandalf the horse **Shadowfax**, Lord of all horses, with whom Gandalf has already established a strong bond.  \n",
        "Meanwhile, Frodo and Sam have been making their way to Mordor from the Anduin. They are rapidly lost, and caught up with by Gollum. Frodo, temporary master of the Ring, has pity on the creature, and Gollum, unable to overcome the power of the Ring, becomes their guide. In the brush on the outskirts of Mordor, they are taken captive by Captain **Faramir**, who is ambushing troops rallying to the enemy. As it happens, Faramir is Boromir's brother. He, however, is stouter of heart, and able to resist the temptation of the Ring. Faramir sends the Hobbits and Gollum on their way. He is highly troubled, however, because the path Gollum intends to take is reputably dangerous. The Hobbits arrive in a dark and narrow passage above the Valley of the Dead, which leads into Mordor. Here, they lose Gollum and realise only too late that he has made a pact with the giant spider **Shelob**, to trade the Hobbits in return for the Ring. Frodo is wounded by Shelob's venomous sting and is left for dead by Sam, who decides to take the Ring and destroy it himself. He soon comes upon a company of Orcs, who take Frodo's body. Wearing the Ring which makes him invisible, Sam follows them and overhears an argument between the leader **Gorbag** and the other Orcs. Only too late does it dawn on the flabbergaster Hobbit, that Frodo must still be alive. But the doors of the Orc fortress slam shut in front of him."
      ],
      "metadata": {}
    },
    {
      "cell_type": "markdown",
      "source": [
        "#### Volume 3: The Return of the King"
      ],
      "metadata": {}
    },
    {
      "cell_type": "markdown",
      "source": [
        "As Gandalf and Pippin arrive in Minas Tirith, they are met by the sorry sight of Denethor mourning his son Boromir's death. Overwhelmed by his grief, he is unwilling to fight a losing battle against Mordor. Minas Tirith inevitably falls under siege however, and Gondor -aided by Rohan and the Elves- wins the battle. But the better part of the enemy's army is still in Mordor. And Frodo and Sam are at this very moment in Mordor itself. However, they must yet cross the enemy-infested land and reach **Mount Doom** unnoticed. The remnants of our army therefore march to the Black Gate of Mordor in order to draw the attention of the **Dark Tower**. They are headed by Gandalf, Aragorn, Eomer and **Beregond**, First Captain of Gondor. Beregond leads them to Mordor through the long ruined city of **Osgiliath**, a grand outpost of old which once protected Gondor from Mordor. At the Gate, the outnumbered army fights a losing battle, in the hope that their sacrifice will allow Frodo and Sam safe passage.  \n",
        "In the meantime, Sam manages to rescue Frodo. Under the disguise of Orcs, they cross the now empty lands towards Mount Doom, volcano in which the Ring was forged and only place it can be destroyed. They are ambushed by Gollum, who eventually retrieves the Ring by biting off the bearer's finger. Gollum and Ring tumble down into the fire, and Frodo and Sam are miraculously saved by the Giant Eagles who had flown to the help of the army at the Gate.  \n",
        "Aragorn reclaims the throne of Gondor and marries his love **Arwen**, daughter of Elrond. The Hobbits return to the Shire, but the adventures they have lived and ordeals they have suffered make is impossible for Frodo to resume his old peaceful way of life. He and Bilbo, who have both carried the Ring for a long time, eventually board the last ship into the West, along with most of the Elves that still remained in Middle Earth."
      ],
      "metadata": {}
    },
    {
      "cell_type": "markdown",
      "source": [
        "## Data remodelling and reproducible code"
      ],
      "metadata": {}
    },
    {
      "cell_type": "markdown",
      "source": [
        "In order to perform the bellow analyses, I reorganised the downloaded dataframes networks-id-volumex.csv ($x \\in [1, 3]$). To do so, I chose to use R as I find it is an extremely useful tool for dataframe manipulation. The code `Gephi_nodes_df.R` generates dataframes containing, for each volume, the relevant information for each node in Gephi. The code `Edges_for_gephi.R` generates the edges.  \n",
        "In order to generate the appropriate dataframes and reproduce the analyses, the reader should execute the codes in the following order:\n",
        "\n",
        "||Order of codes to be executed|\n",
        "|---|\n",
        "| 1 | Gephi_nodes_df.R |\n",
        "| 2 | Edges_for_gephi.R |\n",
        "| 3 | New_pca_script.R |\n",
        "| 4 | Ratio_types_interaction.R |"
      ],
      "metadata": {}
    },
    {
      "cell_type": "markdown",
      "source": [
        "## Volume 1"
      ],
      "metadata": {}
    },
    {
      "cell_type": "markdown",
      "source": [
        "### Character types can be partly told apart based on the characters' gender, importance and origin"
      ],
      "metadata": {}
    },
    {
      "cell_type": "markdown",
      "source": [
        "First, I decided to visualise the data of Volume 1 using dimensionality reduction (Figure 1). \n",
        "In order to perform the Principal Component Analysis on characters whose attributes are strings, the gender, origin and type were numerised according to Table 1.\n",
        "The values were chosen by hand, such that attributes which are most similar in Tolkien's world have similar values. These choices are, of course, disputable. Given the data, I could have performed hierarchical clustering in order to find out, for example, whether Dwarves are more similar to Hobbits or to Men. For example, I could have dug into Tolkien's other works such as *The Silmarilion* which gives a history of many characters found in *LOTR*. Given the time, I could have drawn up a dendrogram of the relationships between the ancestors of Dwarves, Hobbits and Men in order to establish who is closer to whom. In particular, it is mentioned in *LOTR* that Orcs used to be Elves, who were imprisoned and tortured by the Dark forces. Thus, philogenetically, Orcs are closest to Elves. However, in this project, I will use exclusively information relevant to the plot of *LOTR*. The values I accordingly decided to attribute are grouped in Table 1.  \n",
        "Characters' importance is directly the value FreqSum of the downloaded data, and corresponds to the frequency of appearance."
      ],
      "metadata": {}
    },
    {
      "cell_type": "markdown",
      "source": [
        "<img src=\"Table_pca_num.png\" alt=\"Table1\"\n",
        "    title=\"PCA integer table\" width=\"550\" height=\"400\" />"
      ],
      "metadata": {}
    },
    {
      "cell_type": "markdown",
      "source": [
        "    Table 1: Integer values given to character attributes and used for PCA"
      ],
      "metadata": {}
    },
    {
      "cell_type": "markdown",
      "source": [
        "<img src=\"PCA1.png\" alt=\"PCA1\"\n",
        "\ttitle=\"PCA of Volume 1 representing characters according to origin, importance, type and gender\" width=\"700\" height=\"425\" />"
      ],
      "metadata": {}
    },
    {
      "cell_type": "markdown",
      "source": [
        "    Figure 1: PCA of characters only, in volume 1. The dimensionality was reduced taking into account characters' origin, importance, type and gender."
      ],
      "metadata": {}
    },
    {
      "cell_type": "markdown",
      "source": [
        "The first and second components of the PCA explain respectively 43.9% and 30.4% of the differences between characters. Therefore it seems that the parameters type, gender, origin and importance do indeed explain differences between characters, although the groups observed in Figure 1 tend to overlap.  \n",
        "The Ainur (Gandalf, Goldberry, Saruman, Sauron and Tom Bombadil) are rather disparate within the plane. This seems unsurprising, as this group is rather heterogeneous. Goldberry is one of the only females of the novel, and the frequency of mentions is very different between characters. The other characters, however, are somewhat grouped by type. Interestingly, Men are aligned. According to the importance of the different parameters in PC1 and PC2 (see Supplementary Table 1), this suggests that the humans in *LOTR*, Volume 1 are predominantly distinguished by their importance. This is unsurprising: in Volume 1, all humans are men and all come from Gondor. However, while Aragorn and Boromir are already key characters, Denethor is only fleetingly mentioned.  \n",
        "These results are, of course, criticisable, not in the least due to the way the origins were defined. Indeed, I decided to attribute to Aragorn and Arathorn the origin \"Gondor\", as they are the heirs to that throne. However these men themselves come from the North."
      ],
      "metadata": {}
    },
    {
      "cell_type": "markdown",
      "source": [
        "### The character co-occurrence network representing importance and origin is consistent with the plot in which Hobbits are central"
      ],
      "metadata": {}
    },
    {
      "cell_type": "markdown",
      "source": [
        "Having established that the analysed parameters describe differences between characters, I decided to analyse whether the type, gender, importance and origin impact character interactions. In order to answer this question, I plotted the character co-occurrence networks using Gephi. The network representing character origin with the colours, and character importance with the node size is plotted in Figure 2.\n",
        "\n",
        "In all networks bellow, node size corresponds to character importance, estimated by the frequency of their being mentioned in a volume. Graph layout was automated by Gephi's ForceAtlas algorithm, with the parameters of Table 2:"
      ],
      "metadata": {}
    },
    {
      "cell_type": "markdown",
      "source": [
        "|Force Atlas|\n",
        "|---|\n",
        "| Inertia | 0.1 |\n",
        "| Repulsion strength | 50,000.0 |\n",
        "| Attraction strength | 10.0 |\n",
        "| Maximum displacement | 10.0 |\n",
        "| Auto stabilize function | $\\checkmark$ |\n",
        "| Autostab strength | 80.0 |\n",
        "| Autostab sensibility | 0.2 |\n",
        "| Gravity | 30.0 |\n",
        "| Attraction Distrib. | $\\Box$  |\n",
        "| Adjust by Sizes | $\\Box$ |\n",
        "| Speed | 1.0 |"
      ],
      "metadata": {}
    },
    {
      "cell_type": "markdown",
      "source": [
        "    Table 2: Parameters used for the generation of the networks in Gephi, for each volume."
      ],
      "metadata": {}
    },
    {
      "cell_type": "markdown",
      "source": [
        "<img src=\"Vol1_new_or.png\" alt=\"Nw_vol1\"\n",
        "\ttitle=\"Network of co-occurrences in Volume 1, representing character origin and importance\" width=\"700\" height=\"600\" />"
      ],
      "metadata": {}
    },
    {
      "cell_type": "markdown",
      "source": [
        "    Figure 2: Character co-occurrence network in Volume 1. The colour code denotes the character origins (defined by hand) and the node size denotes their importance (frequency of mentions). The percentages to the right of the colour code are the percentages of characters of each origin, among total characters in Volume 1. The graph layout was generated by ForceAtlas in Gephi."
      ],
      "metadata": {}
    },
    {
      "cell_type": "markdown",
      "source": [
        "Unsurprisingly, Figure 2 shows that the most frequent character origin in Volume 1 is the Shire (19.23% of total characters). This is also the origin of some of the most important characters (Frodo, Sam, Merry and Pippin), judging by the size of the nodes. However, according to Figure 3, Hobbits are not the most frequent character type. Indeed, the Elves represent 26.9% of total characters while Hobbits represent only 23.1%.  \n",
        "This confirms our hypothesis stated above that Hobbits in Volume 1 are key elements of the plot and interact closely with each other."
      ],
      "metadata": {}
    },
    {
      "cell_type": "markdown",
      "source": [
        "<img src=\"Vol1_new_type1.png\" alt=\"Vol1_type_imp\"\n",
        "\ttitle=\"Network of co-occurrences in Volume 1, representing character type and importance\" width=\"700\" height=\"600\" />"
      ],
      "metadata": {}
    },
    {
      "cell_type": "markdown",
      "source": [
        "    Figure 3: Character co-occurrence network in Volume 1. The colour code denotes the character types (as per the downloaded dataframes) and the node size denotes their importance (frequency of mentions). The percentages to the right of the colour code are the percentages of characters of each origin, among total characters."
      ],
      "metadata": {}
    },
    {
      "cell_type": "markdown",
      "source": [
        "### Character communities are in line with personal relationships"
      ],
      "metadata": {}
    },
    {
      "cell_type": "markdown",
      "source": [
        "Interestingly, in Volume 1, while most of the members of the Fellowship (Frodo, Sam, Merry, Pippin, Boromir, Aragorn and Gandalf) are clustered close together in the centre, Legolas and Gimli are on the outskirts of the cluster. This reflects the close friendship which develops between the Elf and Dwarf. Figure 4 demonstrates that Legolas and Gimli form a separate community from the rest of the Fellowship. This seems highly coherent with the relationships between the Fellowship's members in Volume 1, based on our knowledge of the story.  \n",
        "In these communities, Bilbo, Gollum and Elrond are also closely linked to the Fellowship (Figure 4). This is not necessarily relevant to the plot, but seems highly explicable by the way character relationships were defined for this analysis. Indeed, two characters are considered linked if they are mentioned in the same paragraph. Bilbo speaks at length with Frodo in Rivendell, and is discussed by Frodo, Aragorn and Gandalf on many occasions. Elrond also has many discussions with Frodo, Gandalf and Aragorn, without Gimli and Legolas being present. Finally, when the Company notices that Gollum is following them, he is discussed mostly by Frodo, Gandalf and Aragorn, and in these discussions, Bilbo is recurrently mentioned. Indeed, Bilbo who was the first Hobbit to meet Gollum."
      ],
      "metadata": {}
    },
    {
      "cell_type": "markdown",
      "source": [
        "<img src=\"Vol1_zoom_modularity1.png\" alt=\"Vol1_type_imp\"\n",
        "\ttitle=\"Network of co-occurrences in Volume 1, representing character type and importance\" width=\"250\" height=\"150\" />"
      ],
      "metadata": {}
    },
    {
      "cell_type": "markdown",
      "source": [
        "    Figure 4: \"Central\" character communities in Volume 1, obtained by calculating modularity with resoution 0.070."
      ],
      "metadata": {}
    },
    {
      "cell_type": "markdown",
      "source": [
        "## Volume 2"
      ],
      "metadata": {}
    },
    {
      "cell_type": "markdown",
      "source": [
        "### Character co-occurrence in Volume 2 clearly translates the break-up of the Fellowship"
      ],
      "metadata": {}
    },
    {
      "cell_type": "markdown",
      "source": [
        "    "
      ],
      "metadata": {}
    },
    {
      "cell_type": "markdown",
      "source": [
        "The network of characters representing their types in Volume 2 echoes the plot's evolution (Figure 5). Indeed, while Men were only fourth in Volume 1, they become the most frequent type of character in Volume 2 (32.3%). This is significant, as a leitmotiv in *LOTR* is that the era is a turning point in the history of Middle Earth: what was previously the Golden Age of Elves is becoming the age of Men. However, the transition is precarious given the expansion of forces of Sauron and Saruman, and the growing importance of Orcs in particular.  \n",
        "Figure 5 clearly represents the break-up of the fellowship. Modularity with resolution 1.0 shows two communities; one containing Frodo, Sam and the other characters in the top left of the figure, and one containing Merry, Pippin, Aragorn, Gandalf, Legolas, Gimli and the other characters (bottom right). Modularity calculated with resolution 0.5 (Supplementary Figure 1), however, shows different communities, which describe what we know of the plot and prove informative. Frodo and Sam, Merry and Pippin, and Legolas and Gimli each belong to their own community. However, Aragorn and Gandalf are both alone. This shows that, even when Aragorn travels with Legolas and Gimli, he remains a solitary man. Even though he later spends a lot of time with Gandalf, the two are not united as other duos.  \n",
        "The network representing character origins was also plotted (data not shown). The results seemed highly coherent with the story: Rohan, not the Shire, is now the most frequently mentioned place. This also translates the break-up of the Fellowship, as a great part of the volume is devoted to the adventures of Aragorn's company and occurs in Rohan."
      ],
      "metadata": {}
    },
    {
      "cell_type": "markdown",
      "source": [
        "<img src=\"Vol2_new_type.png\" alt=\"PCA2\"\n",
        "\ttitle=\"Network of co-occurrences in Volume 2, representing character type and importance\" width=\"675\" height=\"450\" />"
      ],
      "metadata": {}
    },
    {
      "cell_type": "markdown",
      "source": [
        "    Figure 5: Types of characters in Volume 2."
      ],
      "metadata": {}
    },
    {
      "cell_type": "markdown",
      "source": [
        "### Characters are more segregated by type in Volume 2 than in Volume 1"
      ],
      "metadata": {}
    },
    {
      "cell_type": "markdown",
      "source": [
        "Thus the representations of character types evolve between Volume 1 and Volume 2. Moreover, the studied parameters seem to segregate characters by type, differently from the observations made in Volume 1. Figure 6 demonstrates that it seems easier to discriminate between character types in Volume 2, than in Volume 1, based on the same information. In point of fact, while the PCA on Volume 1 (Figure 1) did not discriminate between Elves and Ainur, the PCA on Volume 2 suggests quite narrow and identifiable 95% confidence intervals (ovals) of groups formed by type. Some overlap remains, which shows that the characters are more complex and cannot be reduced to their origin, type, gender and importance.  \n",
        "Similarly to Volume 1, character importance seems to be a major factor of diversity inside each type. Indeed, importance explains 72% of PC2 (Supplementary Table 2), and Elves, Hobbits and Men seem somewhat spread out vertically in Figure 6. Interestingly, importance seems little important in discriminating between Dwarves: the Dwarf cluster is horizontal. This could be surprising, as there seems to be great heterogeneity in the Dwarves' importance: while Gimli is a protagonist, other Dwarves such as Gloin or Durin are scarcely mentioned. It seems therefore that the origin (72% of PC1) is preeminent in discriminating between Dwarves.  \n",
        "Among Gandalf, Saruman and Sauron (which form the diagonal cluster *Ainur*), both origin and importance are preeminent. Indeed, the size of the nodes in Figure 5 points to the fact that Gandalf is mentioned far more frequently than Saruman and Sauron. Furthermore, according to the way in which I defined the characters' origins, Gandalf comes from Middle Earth while Saruman comes from Isengard and Sauron, from Mordor. If I were to set the origins based on a historical analysis of Tolkien's works, the results might have been somewhat different as the Ainurs' roots are old and complex."
      ],
      "metadata": {}
    },
    {
      "cell_type": "markdown",
      "source": [
        "<img src=\"PCA2.png\" alt=\"PCA2\"\n",
        "\ttitle=\"PCA of Volume 2 representing characters according to origin, importance, type and gender\" width=\"500\" height=\"350\" />"
      ],
      "metadata": {}
    },
    {
      "cell_type": "markdown",
      "source": [
        "    Figure 6: PCA of character origin, type, gender and importance in Volume 2."
      ],
      "metadata": {}
    },
    {
      "cell_type": "markdown",
      "source": [
        "## Volume 3"
      ],
      "metadata": {}
    },
    {
      "cell_type": "markdown",
      "source": [
        "### In Volume 3, character types seem to be projected similarly to Volume 2 into the PCA plane"
      ],
      "metadata": {}
    },
    {
      "cell_type": "markdown",
      "source": [
        "The setting of Volume 2 (when the Felloswhip breaks up) is rather different from that of Volume 1. Arguably, however,  the plot undergoes less dramatic changes between volumes 2 and 3. I wondered whether this stagnation could be observed by performing the same PCA analysis as before on Volume 3 data. The results are presented in Figure 7."
      ],
      "metadata": {}
    },
    {
      "cell_type": "markdown",
      "source": [
        "<img src=\"PCA3.png\" alt=\"PCA3\"\n",
        "\ttitle=\"PCA of Volume 3 representing characters according to origin, importance, type and gender\" width=\"500\" height=\"350\" />"
      ],
      "metadata": {}
    },
    {
      "cell_type": "markdown",
      "source": [
        "    Figure 7: PCA based on origin, type, gender and importance of characters in Volume 3."
      ],
      "metadata": {}
    },
    {
      "cell_type": "markdown",
      "source": [
        "As expected, the PCA of Volume 3 strikingly resembles that of Volume 2. This is indeed unsurprising, as little new characters appear in Volume 3, and characters' importance does not radically evolve.  \n",
        "In some sense, Volume 3 is the final chord of character relationships in the book, as their characteristics seem to have reached an equilibrium (according to the PCA). Have the relationships between characters also settled in a \"steady state\"?  "
      ],
      "metadata": {}
    },
    {
      "cell_type": "markdown",
      "source": [
        "### Character centralities describe plot evolution towards a steady state in Volume 3"
      ],
      "metadata": {}
    },
    {
      "cell_type": "markdown",
      "source": [
        "In Table 3 I have recorded the betweenness centralities, closeness centralities and clustering coefficients of Frodo and Sam in each volume."
      ],
      "metadata": {}
    },
    {
      "cell_type": "markdown",
      "source": [
        "|  | Volume 1 | Volume 2 | Volume 3 |\n",
        "| --- | --- | --- | --- |\n",
        "| **Betweenness centrality Frodo** | **24.5** | 6.0 | 38.5 |\n",
        "| **Betweenness centrality Sam** | 7.7 | 72.8 | 31.2 |\n",
        "| **Closeness centrality Frodo** | **0.96** | 0.7 | **0.5** |\n",
        "| **Closeness centrality Sam** | 0.8 | 0.8 | 0.7 |\n",
        "| **Clustering coefficient Frodo** | 0.5 | 0.7 | 0.5 |\n",
        "| **Clustering coefficient Sam** | 0.7 | 0.8 | 0.5 |"
      ],
      "metadata": {}
    },
    {
      "cell_type": "markdown",
      "source": [
        "    Table 3: Centralities and clustering coefficients of Frodo and Sam per volume. Numeric values are in bold if the character ranks first in the volume according to a given measurement."
      ],
      "metadata": {}
    },
    {
      "cell_type": "markdown",
      "source": [
        "Frodo and Sam's closeness centralities and clustering coefficients remain rather steady between the characters and volumes. They are elevated as compared to the other characters in the book: Frodo has maximum closeness centrality in Volume 1 and Volume 3. Let us try and interpret these results in terms of the plot.  \n",
        "\n",
        "A node's **closeness centrality** is elevated if, on average, a \"short\" path can be drawn between it and any other node. A node's **clustering coefficient** is elevated if many of the node's neighbours are also each other's neighbours. It seems unsurprising that Frodo should have an elevated closeness centrality. Indeed, recall that inter-character relationships correspond to the characters' being mentioned together in the same paragraph. In Volume 1, the plot is centred on Frodo's quest. He is therefore at the heart of the happenings and is often mentioned alongside all other major characters. However, Frodo's clustering coefficient is never particularly elevated relative to other characters. In volumes 1 and 2, Sam's is, in fact, slightly higher. This could reflect the characters' personalities: while Frodo is somewhat of an introvert, Sam gladly interacts with many characters in the Shire, in Rivendell and even within the Company. Similarly to Aragorn's case in Volume 2, it seems here that our analysis give insight into not only the actions but also the personalities of the characters.  \n",
        "In Volume 2, the plots diverge, therefore it is also unsurprising that Frodo should no longer have as short a path to other characters. Indeed, in Volume 2 it is Aragorn who has maximum closeness centrality.  \n",
        "Finally, in Volume 3, Frodo's quest is still key, the battle at Minas Tirith is won, and all other main characters move out to battle yet again in order to help Frodo. Thus, it is yet again self-explanatory that Frodo should often be mentioned alongside a large variety of characters, even characters with whom he has not yet directly interacted as a person. Sam follows Frodo throughout the novel, and when others mention Frodo, they also often mention Sam. Hence, Sam's closeness and clustering are often smaller, but similar, to Frodo's.  \n",
        "\n",
        "On the other hand, Frodo and Sam's betweennesses do not follow the same pattern. Frodo's betweeness centrality is thrice larger than Sam's in Volume 1, ten times smaller in Volume 2, and comparable to Sam's in Volume 3. This is in line with the \"equilibrium\" in character identities I have mentioned earlier. In Frodo and Sam's duo, their betweenness tends to an equilibrium in Volume 3. A node's **betweenness centrality** relates to the number of shortest paths between other nodes on which the ndoe of interest is found. In volumes 2 and 3, maximum betweenness is held by Aragorn. This could be explained by the following: in Volume 1, Frodo is at the centre of the only plot line; he is therefore at the heart of the happenings. By Volume 2, however, it is Aragorn who is a key figure in many plot lines, and he leads several different groups of characters. His elevated closeness and betweenness as of Volume 2 seems to foretell his crowning and becoming king of a major land of Middle Earth. Sam's elevated betweenness centrality in Volume 2 seems difficult to explain, and is due, perhaps, to the imprecise nature of the measurements of interactions I have used: two characters' being mentioned in the same paragraph.  \n",
        "\n",
        "It could have been interesting to obtain results by chapter to see if we could pinpoint key events, such as:  \n",
        "- is the end of the battle at Minas Tirith the turning point which makes Frodo's closeness suddenly rise, or  is it elevated as of the beginning of Volume 3?  \n",
        "- does Gandalf's centrality change whether he is captive, missing, or key in the plot? Does he impact the happenings on Middle Earth by his presence or simply as a distant force?  \n",
        "\n",
        "...and other such questions."
      ],
      "metadata": {}
    },
    {
      "cell_type": "markdown",
      "source": [
        "### Character communities reflect the different branches of the plot in Volume 3"
      ],
      "metadata": {}
    },
    {
      "cell_type": "markdown",
      "source": [
        "<img src=\"Vol3_modularity.png\" alt=\"Vol3_modularity\"\n",
        "\ttitle=\"Modularity in Volume 3, resolution=0.313\" width=\"675\" height=\"450\" />"
      ],
      "metadata": {}
    },
    {
      "cell_type": "markdown",
      "source": [
        "    Figure 8: Modularity of resolution 1.0 showing three communities in Volume 3 (modularity = 0.313)."
      ],
      "metadata": {}
    },
    {
      "cell_type": "markdown",
      "source": [
        "While the analysis of centralities suggests in many ways that the characters' relationships evolve throughout the novel to reach a \"steady state\" in Volume 3, the network of co-occurrences (Figure 8) represents the plot of Volume 3 itself. Indeed, the communities detected in this network are representative of the tight union between Frodo, Sam and Gollum (orange community). They reflect Gandalf's trip to Gondor with Pippin, where they interact with Faramir, Denethor, Beregond and others (green), while Merry remains in Rohan with Aragon, Legolas, Gimli, Eowyn, Eomer and Theoden (blue). Elrond and Arwen also belong to this community, which makes sense in the light of Elrond's discussing his daughter at length with Aragorn.    \n",
        "This level of community detection does not, however, reasonably assign little-mentioned characters such as Celeborn, Galadriel or Gildor to communities. These characters -who have little impact on the plot in Volume 3- can be considered background noise."
      ],
      "metadata": {}
    },
    {
      "cell_type": "markdown",
      "source": [
        "### Character types do not bias their interactions"
      ],
      "metadata": {}
    },
    {
      "cell_type": "markdown",
      "source": [
        "Having established that the plot can be traced by observing networks of character interactions, I wondered whether *quantifying* interactions between character types would also echo the plot.  \n",
        "To do so, for each major target character type (Ainur, Hobbit, Elf, Man), I plotted the frequency with which all source characters interact with this target type. The representative case of Ainur is represented in Figure 9."
      ],
      "metadata": {}
    },
    {
      "cell_type": "markdown",
      "source": [
        "<img src=\"Ainur_tot_vol1.png\" alt=\"Ainur_vol1\"\n",
        "\ttitle=\"Interactions with Ainur over total interactions, by type of source in Volume 1\" width=\"675\" height=\"450\" />"
      ],
      "metadata": {}
    },
    {
      "cell_type": "markdown",
      "source": [
        "                                                               (a)"
      ],
      "metadata": {}
    },
    {
      "cell_type": "markdown",
      "source": [
        "<img src=\"Ainur_vol2.png\" alt=\"Ainur_vol2\"\n",
        "\ttitle=\"Interactions with Ainur over total interactions, by type of source in Volume 2\" width=\"675\" height=\"450\" />"
      ],
      "metadata": {}
    },
    {
      "cell_type": "markdown",
      "source": [
        "                                                               (b)"
      ],
      "metadata": {}
    },
    {
      "cell_type": "markdown",
      "source": [
        "<img src=\"Ainur_vol3.png\" alt=\"Ainur_vol3\"\n",
        "\ttitle=\"Interactions with Ainur over total interactions, by type of source in Volume 3\" width=\"675\" height=\"450\" />"
      ],
      "metadata": {}
    },
    {
      "cell_type": "markdown",
      "source": [
        "                                                               (c)"
      ],
      "metadata": {}
    },
    {
      "cell_type": "markdown",
      "source": [
        "    Figure 9: Frequency of interactions with Ainur over total interactions, for each source type, in volumes 1 (a), 2 (b) and 3 (c)."
      ],
      "metadata": {}
    },
    {
      "cell_type": "markdown",
      "source": [
        "In Volume 1, there is great heterogeneity in the frequency of interactions between different Ainur (leftmost, red box of the boxplot (a)). All other types seem to interact with Ainur with similar frequencies. That is, interactions with Ainur represent approximately 15% of total interactions. All types interact with Ainur similarly to the Company. This suggests that the better part of all interactions with Ainur within the three volumes happens within the Company. In volumes 2 and 3, Men and Dwarves often interact with Ainur. This trivially reflects the plot, as Gandalf interacts extensively with the soldiers and kings of Rohan and Gondor, and with Gimli.  \n",
        "\n",
        "Similarly, the frequency of interactions among other character types seems to simply reflect the plot. Kruskal-Wallis tests showed that there was rarely any statistical difference in interactions of different types with a given type (ie a character is not biased by type when interacting with another character). The only exception was in interactions between Elves and Dwarves. It seems that Elves preferentially interact with Dwarves as compared to other types (Kruskal-Wallis p-value = 0.00438), and vice-versa. In *LOTR*, the historic distrust between these two races is often mentioned. Therefore, the only reason for such affinity between Elves and Dwarves seems to be the friendship that develops between Legolas and Gimli.  \n",
        "\n",
        "The frequencies of interactions between races seem to show that there is no particular \"racism\". Racism would have consisted of some character types having a preference for interacting with certain character types, *without there being any obvious reason for this in the plot*."
      ],
      "metadata": {}
    },
    {
      "cell_type": "markdown",
      "source": [
        "## Conclusion and discussion"
      ],
      "metadata": {}
    },
    {
      "cell_type": "markdown",
      "source": [
        "It seems that this rather crude data of character co-occurrences make it possible to spot major evolutions within the plot and even yields insight into characters' personalities and friendships. Globally, the results obtained using these networks are coherent in the light of the story and character relationships. Some observations, of course, remain difficult to explain and are likely due to the rather limited information of mere character co-occurrence and the poor resolution (by book).\n",
        "\n",
        "Regrettably, I was unable to have access to the data broken up by chapter. This could have been rather insightful since I could have better analysed the effect of plot evolution on character interactions. I could have used dynamic networks and studied, for example, whether the pattern of a character's interactions makes it possible to predict their death, or success or failure in a given task.  \n",
        "Moreover, I could have compared my networks with randomised networks (for example Erdos-Renyi with the same number of nodes, and with probability the average degree of nodes in my network). I could also have performed a comparison with another similar novel. These comparisons wo"
      ],
      "metadata": {}
    },
    {
      "cell_type": "markdown",
      "source": [
        "## Supplementary data"
      ],
      "metadata": {}
    },
    {
      "cell_type": "markdown",
      "source": [
        "<img src=\"Modu_0.5_zoom_vol2.png\" alt=\"Modularity_many_communities_vol2\"\n",
        "\ttitle=\"Modularity with resolution 0.5 in Volume 2 character co-occurrence network\" width=\"675\" height=\"450\" />"
      ],
      "metadata": {}
    },
    {
      "cell_type": "markdown",
      "source": [
        "    Supplementary Figure 1: Modularity with resolution 0.5 in Volume 2 character co-occurrence network (modularity = 0.307)."
      ],
      "metadata": {}
    },
    {
      "cell_type": "markdown",
      "source": [
        "$>$ pca  \n",
        "Standard deviations (1, .., p=4):  \n",
        "[1] 1.3258239 1.1033338 0.7941291 0.6278570  \n",
        "\n",
        "\n",
        "|  | PC1 | PC2 | PC3 | PC4 |\n",
        "| --- | --- | --- | --- | --- |\n",
        "| Type | -0.6418064 | 0.01334821 | -0.4311888 | -0.6340210383 |\n",
        "| Importance | -0.1933203 | -0.79601992 | -0.3750200 | 0.4339810874 |\n",
        "| Gender | -0.5443470 | -0.24551019 | 0.8021290 | 0.0003457818 |\n",
        "| Origin  | -0.5043790 | 0.55308124 | -0.1732782 | 0.6400606372 |\n",
        "\n",
        "\n",
        "$>$ summary(pca)  \n",
        "Importance of components:  \n",
        "\n",
        "|                     |    PC1  |  PC2  |  PC3   |  PC4 |\n",
        "|---|---|---|---|---|\n",
        "|Standard deviation  |   1.3258 |1.1033 |0.7941| 0.62786|\n",
        "|Proportion of Variance |0.4395 |0.3043| 0.1577| 0.09855|\n",
        "|Cumulative Proportion | 0.4395 |0.7438| 0.9014| 1.00000|"
      ],
      "metadata": {}
    },
    {
      "cell_type": "markdown",
      "source": [
        "    Supplementary Table 1: PCA output for characters in Volume 1 taking into account gender, type, importance and origin."
      ],
      "metadata": {}
    },
    {
      "cell_type": "markdown",
      "source": [
        "$>$ pca  \n",
        "Standard deviations (1, .., p=4):  \n",
        "[1] 1.2598546 1.0804340 0.9393921 0.6024710  \n",
        "\n",
        "\n",
        "||                   PC1     |    PC2     |   PC3    |    PC4|\n",
        "|---|---|---|---|---|\n",
        "|Type|        0.66750781 |-0.19759139 |-0.3402298| -0.6321666|\n",
        "|Importance |-0.19364968| -0.72113401| -0.5767808 | 0.3313450|\n",
        "|Gender|      0.05017991| -0.66306669|  0.7345559| -0.1351006|\n",
        "|Origin  |    0.71722737|  0.03558014|  0.1095228 | 0.6872581|\n",
        "\n",
        "\n",
        "$>$ summary(pca)  \n",
        "Importance of components:\n",
        "\n",
        "||           PC1 |   PC2  |  PC3    | PC4|\n",
        "|---|---|---|---|---|\n",
        "|Standard deviation  |   1.2599 |1.0804 |0.9394 |0.60247|\n",
        "|Proportion of Variance| 0.3968| 0.2918 |0.2206 |0.09074|\n",
        "|Cumulative Proportion | 0.3968 |0.6886 |0.9093 |1.00000|"
      ],
      "metadata": {}
    },
    {
      "cell_type": "markdown",
      "source": [
        "    Supplementary Table 2: PCA output for characters in Volume 2 taking into account gender, type, importance and origin."
      ],
      "metadata": {}
    }
  ],
  "metadata": {
    "kernelspec": {
      "name": "python3",
      "language": "python",
      "display_name": "Python 3"
    },
    "language_info": {
      "name": "python",
      "version": "3.7.5",
      "mimetype": "text/x-python",
      "codemirror_mode": {
        "name": "ipython",
        "version": 3
      },
      "pygments_lexer": "ipython3",
      "nbconvert_exporter": "python",
      "file_extension": ".py"
    },
    "kernel_info": {
      "name": "python3"
    },
    "nteract": {
      "version": "0.15.0"
    }
  },
  "nbformat": 4,
  "nbformat_minor": 2
}