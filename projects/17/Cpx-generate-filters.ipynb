{
  "cells": [
    {
      "cell_type": "code",
      "source": [
        "import time, os, pickle\n",
        "import requests"
      ],
      "outputs": [],
      "execution_count": 1,
      "metadata": {}
    },
    {
      "cell_type": "markdown",
      "source": [
        "### 2.1 Create the filters \n",
        "\n",
        "The goal here is to get all the subcategories of \"Energy\" so as to filter the links between wikipedia pages."
      ],
      "metadata": {}
    },
    {
      "cell_type": "code",
      "source": [
        "def all_categories(title, language, clcontinue=None):\n",
        "    url = \"https://{lang}.wikipedia.org/w/api.php\".format(lang=language)\n",
        "    params = {\n",
        "        \"action\": \"query\",\n",
        "        \"format\": \"json\",\n",
        "        \"prop\": \"categories\",\n",
        "        \"titles\": title,\n",
        "        \"cllimit\": \"max\",\n",
        "    }\n",
        "    if clcontinue:\n",
        "        params[\"clcontinue\"] = clcontinue\n",
        "\n",
        "    data = requests.get(url, params=params)\n",
        "    data = data.json()\n",
        "    clcontinue = data.get(\"continue\", {}).get(\"clcontinue\", None)\n",
        "    for items in data[\"query\"][\"pages\"].values():\n",
        "        for cat in items.get(\"categories\", []):\n",
        "            yield cat[\"title\"]\n",
        "\n",
        "    if clcontinue is not None:\n",
        "        yield from all_children(title, language, clcontinue=clcontinue)\n",
        "        \n",
        "def all_subcategories(title, language, cmcontinue=None):\n",
        "    url = \"https://{lang}.wikipedia.org/w/api.php\".format(lang=language)\n",
        "    params = {\n",
        "        \"action\": \"query\",\n",
        "        \"format\": \"json\",\n",
        "        \"list\": \"categorymembers\",\n",
        "        \"cmtitle\": title,\n",
        "        \"cmtype\": \"subcat\",\n",
        "        \"cmlimit\": \"max\",\n",
        "    }\n",
        "    if cmcontinue:\n",
        "        params[\"cmcontinue\"] = cmcontinue\n",
        "\n",
        "    data = requests.get(url, params=params)\n",
        "    data = data.json()\n",
        "    cmcontinue = data.get(\"continue\", {}).get(\"cmcontinue\", None)\n",
        "    for items in data[\"query\"][\"categorymembers\"]:\n",
        "        yield items[\"title\"]\n",
        "\n",
        "    if cmcontinue is not None:\n",
        "        yield from all_subcategories(title, language, cmcontinue=cmcontinue)\n",
        "        \n",
        "def get_subcategories(cat_dic, category, language, level=0, max_level=1):\n",
        "    for cat in all_subcategories(category, language):  \n",
        "        cat_dic[cat] = cat\n",
        "        if (level < max_level):\n",
        "            get_subcategories(cat_dic, cat, language, level=level + 1, max_level=max_level)\n",
        "    return cat_dic\n",
        "\n",
        "def get_all_subcategories(category, language, depth):\n",
        "    cat = \"Category:{}\".format(category)\n",
        "    D = {}\n",
        "    D[cat] = cat\n",
        "    CD = get_subcategories(D, cat, language, max_level=depth)\n",
        "    return CD"
      ],
      "outputs": [],
      "execution_count": 2,
      "metadata": {
        "scrolled": true
      }
    },
    {
      "cell_type": "code",
      "source": [
        "# Print all categories from a given page\n",
        "C = all_categories(\"France\", \"en\")\n",
        "print(list(C))"
      ],
      "outputs": [
        {
          "output_type": "stream",
          "name": "stdout",
          "text": [
            "['Category:1792 establishments in Europe', 'Category:1792 establishments in France', 'Category:All articles containing potentially dated statements', 'Category:All articles needing additional references', 'Category:All articles with failed verification', 'Category:All articles with unsourced statements', 'Category:Articles containing Dutch-language text', 'Category:Articles containing French-language text', 'Category:Articles containing German-language text', 'Category:Articles containing Italian-language text', 'Category:Articles containing Latin-language text', 'Category:Articles containing Proto-Germanic-language text', 'Category:Articles containing Swedish-language text', 'Category:Articles containing potentially dated statements from 2007', 'Category:Articles containing potentially dated statements from 2008', 'Category:Articles containing potentially dated statements from 2009', 'Category:Articles containing potentially dated statements from 2011', 'Category:Articles containing potentially dated statements from 2014', 'Category:Articles containing potentially dated statements from 2015', 'Category:Articles containing potentially dated statements from 2016', 'Category:Articles containing potentially dated statements from 2017', 'Category:Articles containing potentially dated statements from 2018', 'Category:Articles containing potentially dated statements from 2019', 'Category:Articles containing potentially dated statements from January 2017', 'Category:Articles containing potentially dated statements from July 2019', 'Category:Articles containing undetermined-language text', 'Category:Articles needing additional references from October 2019', 'Category:Articles with Curlie links', 'Category:Articles with Dutch-language external links', 'Category:Articles with French-language external links', 'Category:Articles with failed verification from February 2016', 'Category:Articles with hAudio microformats', 'Category:Articles with incomplete citations from January 2018', 'Category:Articles with short description', 'Category:Articles with unsourced statements from February 2019', 'Category:Articles with unsourced statements from January 2018', 'Category:Articles with unsourced statements from October 2019', 'Category:CS1: long volume value', 'Category:CS1 French-language sources (fr)', 'Category:CS1 Japanese-language sources (ja)', 'Category:CS1 errors: missing periodical', 'Category:CS1 maint: archived copy as title', 'Category:CS1 maint: extra text: authors list', 'Category:Coordinates on Wikidata', 'Category:Countries in Europe', 'Category:France', 'Category:French-speaking countries and territories', 'Category:G20 nations', 'Category:G7 nations', 'Category:Group of Eight nations', 'Category:Member states of NATO', 'Category:Member states of the Council of Europe', 'Category:Member states of the European Union', 'Category:Member states of the Organisation internationale de la Francophonie', 'Category:Member states of the Union for the Mediterranean', 'Category:Member states of the United Nations', 'Category:Pages containing links to subscription-only content', 'Category:Pages using infobox country or infobox former country with the symbol caption or type parameters', 'Category:Republics', 'Category:Romance countries and territories', 'Category:Southwestern European countries', 'Category:States and territories established in 1792', 'Category:Subscription required using via', 'Category:Use British English from April 2015', 'Category:Use dmy dates from October 2019', 'Category:Webarchive template wayback links', 'Category:Western European countries', 'Category:Wikipedia articles with BNF identifiers', 'Category:Wikipedia articles with CINII identifiers', 'Category:Wikipedia articles with GND identifiers', 'Category:Wikipedia articles with HDS identifiers', 'Category:Wikipedia articles with LCCN identifiers', 'Category:Wikipedia articles with MusicBrainz area identifiers', 'Category:Wikipedia articles with NARA identifiers', 'Category:Wikipedia articles with NDL identifiers', 'Category:Wikipedia articles with NGV identifiers', 'Category:Wikipedia articles with NKC identifiers', 'Category:Wikipedia articles with NLA identifiers', 'Category:Wikipedia articles with NLI identifiers', 'Category:Wikipedia articles with SUDOC identifiers', 'Category:Wikipedia articles with Trove identifiers', 'Category:Wikipedia articles with VIAF identifiers', 'Category:Wikipedia articles with WorldCat-VIAF identifiers', 'Category:Wikipedia pages semi-protected against vandalism']\n"
          ]
        }
      ],
      "execution_count": 3,
      "metadata": {}
    },
    {
      "cell_type": "code",
      "source": [
        "# Print all direct subcategories from a given category\n",
        "C = all_subcategories(\"Category:Energy\", \"en\")\n",
        "print(list(C))"
      ],
      "outputs": [
        {
          "output_type": "stream",
          "name": "stdout",
          "text": [
            "['Category:Energy by continent', 'Category:Energy by country', 'Category:Energy by region', 'Category:Energy-related lists', 'Category:Energy accidents and incidents', 'Category:Attacks on energy sector', 'Category:Energy democracy', 'Category:Energy development', 'Category:Energy economics', 'Category:Energy education', 'Category:Electric power', 'Category:Energetics', 'Category:Energy conversion', 'Category:Energy (physics)', 'Category:Energy sources', 'Category:Forms of energy', 'Category:History of energy', 'Category:Energy industry', 'Category:Energy infrastructure', 'Category:Energetic materials', 'Category:Energy measurement', 'Category:Energy models', 'Category:Energy organizations', 'Category:People associated with energy', 'Category:Energy policy', 'Category:Energy recovery', 'Category:Energy storage', 'Category:Sustainable energy', 'Category:Energy technology', 'Category:Energy in transport', 'Category:Energy weapons', 'Category:Works about energy', 'Category:Energy stubs']\n"
          ]
        }
      ],
      "execution_count": 4,
      "metadata": {}
    },
    {
      "cell_type": "code",
      "source": [
        "# Build our filters\n",
        "lang = \"de\"\n",
        "wiki_wiki = wkp.Wikipedia(lang)\n",
        "t0 = time.time()\n",
        "subcat_list = get_all_subcategories(\"Energiewesen\", lang, 4)\n",
        "t1 = time.time()\n",
        "print(t1 - t0, \" seconds\")"
      ],
      "outputs": [
        {
          "output_type": "stream",
          "name": "stdout",
          "text": [
            "407.95980191230774\n"
          ]
        }
      ],
      "execution_count": 8,
      "metadata": {
        "scrolled": false
      }
    },
    {
      "cell_type": "code",
      "source": [
        "# Check the size of our filter\n",
        "len(subcat_list)"
      ],
      "outputs": [
        {
          "output_type": "execute_result",
          "execution_count": 9,
          "data": {
            "text/plain": [
              "1187"
            ]
          },
          "metadata": {}
        }
      ],
      "execution_count": 9,
      "metadata": {}
    },
    {
      "cell_type": "code",
      "source": [
        "# Save the filter\n",
        "cwd = os.getcwd()\n",
        "with open(\"{}/energy_subcat-{}-L{}\".format(cwd, lang, len(subcat_list)), 'wb') as file:\n",
        "    pickle.dump(subcat_list, file)"
      ],
      "outputs": [],
      "execution_count": 10,
      "metadata": {
        "scrolled": false
      }
    }
  ],
  "metadata": {
    "kernelspec": {
      "name": "python3",
      "language": "python",
      "display_name": "Python 3"
    },
    "language_info": {
      "name": "python",
      "version": "3.7.5",
      "mimetype": "text/x-python",
      "codemirror_mode": {
        "name": "ipython",
        "version": 3
      },
      "pygments_lexer": "ipython3",
      "nbconvert_exporter": "python",
      "file_extension": ".py"
    },
    "kernel_info": {
      "name": "python3"
    },
    "nteract": {
      "version": "0.15.0"
    }
  },
  "nbformat": 4,
  "nbformat_minor": 2
}